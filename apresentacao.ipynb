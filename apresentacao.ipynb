{
 "cells": [
  {
   "cell_type": "markdown",
   "metadata": {},
   "source": [
    "# O Uso da Linguagem Julia em Aplicações Paralelas: Desenvolvendo um Sistema de Recomendação"
   ]
  },
  {
   "cell_type": "markdown",
   "metadata": {},
   "source": [
    "<font color='red'>Anotações de orientação para os autores durante a elaboração do material são postas em vermelho para diferenciar do material do Minicurso. </font>"
   ]
  },
  {
   "cell_type": "markdown",
   "metadata": {},
   "source": [
    "## <font color='red'> Esqueleto:\n",
    " \n",
    "    1) O que é a Linguagem Julia, e projetos onde é aplicada;\n",
    "    \n",
    "    2) Como instalar, onde fazer o download e como rodar no jupyter notebook\n",
    "    \n",
    "    3) Sintaxe do Julia: pacotes, declaração, funções, loops e macros\n",
    "    4) Sistema de recomendação (que tal ir falando sobre otimização do código enquanto apresenta essa parte)\n",
    "    5) macros @threads e @spawn e como são usadas\n",
    "        - exemplo do uso de atomics e seção crítica\n",
    "    6) Sistema de recomendação com as alterações para multithreading\n",
    "    7) fim"
   ]
  },
  {
   "cell_type": "markdown",
   "metadata": {},
   "source": [
    "## O que é a Linguagem Julia ? \n",
    "\n",
    "Julia é uma linguagem de programação desenvolvida com a proposta de reconciliar produtividade e desempenho, aliando uma sintaxe próxima de linguagens como Python e um compilador _just-in-time_ , tendo desempenho próximo de linguagens como C.\n",
    "\n",
    "Julia já tem sido usada em aplicações de larga escala, como: locomoção de robôs em terrenos acidentados (MIT); modelagem macroeconômica, na qual o Julia reduziu o tempo da computação de semanas a dias (Now-Casting Economics); catalogação de objetos astronômicos de forma massivamente paralela (NERSC); sistema de evasão de colisões em pleno voo (Federal Aviation Administration /US)"
   ]
  },
  {
   "cell_type": "code",
   "execution_count": null,
   "metadata": {},
   "outputs": [],
   "source": []
  }
 ],
 "metadata": {
  "kernelspec": {
   "display_name": "Julia 1.5.3",
   "language": "julia",
   "name": "julia-1.5"
  },
  "language_info": {
   "file_extension": ".jl",
   "mimetype": "application/julia",
   "name": "julia",
   "version": "1.5.3"
  }
 },
 "nbformat": 4,
 "nbformat_minor": 4
}
