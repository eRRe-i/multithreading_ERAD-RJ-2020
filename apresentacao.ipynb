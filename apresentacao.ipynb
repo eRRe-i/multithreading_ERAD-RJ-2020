{
 "cells": [
  {
   "cell_type": "markdown",
   "metadata": {},
   "source": [
    "# O Uso da Linguagem Julia em Aplicações Paralelas: Desenvolvendo um Sistema de Recomendação"
   ]
  },
  {
   "cell_type": "markdown",
   "metadata": {},
   "source": [
    "<font color='red'>Anotações de orientação para os autores durante a elaboração do material são postas em vermelho para diferenciar do material do Minicurso. </font>"
   ]
  },
  {
   "cell_type": "markdown",
   "metadata": {},
   "source": [
    "## <font color='red'> Esqueleto:\n",
    " \n",
    "    1) O que é a Linguagem Julia, e projetos onde é aplicada;\n",
    "    2) Como instalar, onde fazer o download e como rodar no jupyter notebook, como configurar para threads.\n",
    "    3) Sintaxe do Julia: declaração, funções, loops \n",
    "    4) Sintaxe: pacotes e macros\n",
    "    5) macros @threads e @spawn e como são usadas \n",
    "    6) Atomics e Locks   \n",
    "    7) Sistema de recomendação com as alterações para multithreading\n",
    "    8) fim"
   ]
  },
  {
   "cell_type": "markdown",
   "metadata": {},
   "source": [
    "## O que é a Linguagem Julia ? \n",
    "\n",
    "Julia é uma linguagem de programação desenvolvida com a proposta de reconciliar produtividade e desempenho, aliando uma sintaxe próxima de linguagens como Python e um compilador _just-in-time_ , tendo desempenho próximo de linguagens como C.\n",
    "\n",
    "Julia já tem sido usada em aplicações de larga escala, como: locomoção de robôs em terrenos acidentados (MIT); modelagem macroeconômica, na qual o Julia reduziu o tempo da computação de semanas a dias (Now-Casting Economics); catalogação de objetos astronômicos de forma massivamente paralela (NERSC); sistema de evasão de colisões em pleno voo (Federal Aviation Administration /US)."
   ]
  },
  {
   "cell_type": "markdown",
   "metadata": {},
   "source": [
    "## Como instalar o Julia e o IJulia\n",
    "\n",
    "Para instalar o Julia, é recomendável buscar sempre o binário na página inicial. Atualmente o Julia encontra-se na versão 1.5.3 em https://julialang.org/downloads/. O Julia funciona na linha de comando do terminal, muito parecido com o Python, mas é possível utilizá-la com uma IDE. O Juno é a IDE recomendada que funciona sobre o Atom, mais informações em: https://junolab.org/."
   ]
  },
  {
   "cell_type": "markdown",
   "metadata": {},
   "source": [
    "## Como fazer o Julia executar no seu Jupyter Notebook?\n",
    "\n",
    "É possível executar o Julia em seu jupyter notebook, para fazê-lo, instale o pacote IJulia no seu Julia:"
   ]
  },
  {
   "cell_type": "code",
   "execution_count": null,
   "metadata": {},
   "outputs": [],
   "source": [
    "using Pkg; Pkg.add(\"IJulia\"); Pkg.build(\"IJulia\") #não é necessário executar essa linha de código aqui"
   ]
  },
  {
   "cell_type": "markdown",
   "metadata": {},
   "source": [
    "Este processo informará ao jupyter as especificações necessárias para executar o Julia. Mais informações em: https://julialang.github.io/IJulia.jl/stable/manual/installation/.\n",
    "\n",
    "Uma vez instalado. Também é possível abrir o jupyter a partir do Julia. Com o I Julia compilado. execute o comando `notebook()`. O jupyter deve abrir o navegador de sua preferência."
   ]
  },
  {
   "cell_type": "code",
   "execution_count": null,
   "metadata": {},
   "outputs": [],
   "source": [
    "using IJulia; notebook() # este comando compila o pacote IJulia e depois inicia o notebook, \n",
    "                         # apenas como exemplo, não é necessário executar"
   ]
  },
  {
   "cell_type": "markdown",
   "metadata": {},
   "source": [
    "## Como configurar a quantidade de threads no ambiente?\n",
    "\n",
    "Iremos trabalhar com threads, para isso, é necessário que o Julia seja inicializado com a quantidade de threads configuradas."
   ]
  },
  {
   "cell_type": "markdown",
   "metadata": {},
   "source": [
    "#### Como variável de ambiente"
   ]
  },
  {
   "cell_type": "markdown",
   "metadata": {},
   "source": [
    "#### Ao iniciar o Julia no terminal"
   ]
  },
  {
   "cell_type": "markdown",
   "metadata": {},
   "source": [
    "#### No Atom: "
   ]
  },
  {
   "cell_type": "markdown",
   "metadata": {},
   "source": [
    "#### Ao iniciar o notebook pelo IJulia"
   ]
  }
 ],
 "metadata": {
  "kernelspec": {
   "display_name": "Julia 1.5.3",
   "language": "julia",
   "name": "julia-1.5"
  },
  "language_info": {
   "file_extension": ".jl",
   "mimetype": "application/julia",
   "name": "julia",
   "version": "1.5.3"
  }
 },
 "nbformat": 4,
 "nbformat_minor": 4
}
