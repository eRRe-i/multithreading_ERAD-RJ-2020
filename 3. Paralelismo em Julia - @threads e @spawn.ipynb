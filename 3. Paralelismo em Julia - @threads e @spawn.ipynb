{
 "cells": [
  {
   "cell_type": "markdown",
   "metadata": {},
   "source": [
    "# 3. Paralelismo em Julia: @threads e @spawn"
   ]
  },
  {
   "cell_type": "markdown",
   "metadata": {},
   "source": [
    "## Contexto \n",
    "\n",
    "Julia oferece diversas opções para o programador desenvolver paralelismo na linguagem, em diversos estágios de desenvolvimento:\n",
    "  - Multithreading\n",
    "  - Pacote Distributed: https://docs.julialang.org/en/v1/manual/distributed-computing/\n",
    "  - Wrappers para MPI: https://juliaparallel.github.io/MPI.jl/stable/\n",
    "  - GPU em Julia: https://juliagpu.org/\n",
    "  \n",
    "Neste minicurso nós abordaremos as capacidades de multithreading do Julia, implementável através das macros de paralelização. O multithreading em Julia tem poucos recursos, e em 2019 teve novas funcionalidades adicionadas à linguagem, em especial thread safe I/O, scheduling dinâmico e uma macro nova, @spawn. Para mais informações sobre as adições de 2019: https://julialang.org/blog/2019/07/multithreading/\n",
    "   \n",
    "\\* No Julia, até o presente momento, não é possível alterar a quantidade de threads em tempo de execução. Caso queira conhecer como configurar a quantidade de threads em Julia, veja o notebook 5 deste minicurso sobre como configurar o ambiente para multithreading."
   ]
  },
  {
   "cell_type": "markdown",
   "metadata": {},
   "source": [
    "## @threads for loops\n",
    "\n",
    "A macro @threads é uma macro usada para paralelismo de dados. Ela é utilizada para loops e divide a região onde será feita a paralelização das operações entre as threads disponíveis. O modelo atual de @threads em Julia funciona com a divisão da área de iteração do loop em tarefas. Essas tarefas são enviadas para um scheduler, que \n",
    "com ajuda de chamadas a implementações em C, realiza a divisão da região do vetor/matriz. No caso do @threads o scheduling é estático, e a quantidade de iterações em cada thread é igual, independente da carga de trabalho de desse loop."
   ]
  },
  {
   "cell_type": "code",
   "execution_count": 3,
   "metadata": {},
   "outputs": [],
   "source": [
    "using BenchmarkTools\n",
    "using Base.Threads\n",
    "using Plots"
   ]
  },
  {
   "cell_type": "code",
   "execution_count": 4,
   "metadata": {},
   "outputs": [
    {
     "data": {
      "text/html": [
       "@threads(__source__::<b>LineNumberNode</b>, __module__::<b>Module</b>, args...) in Base.Threads at <a href=\"https://github.com/JuliaLang/julia/tree/788b2c77c10c2160f4794a4d4b6b81a95a90940c/base/threadingconstructs.jl#L118\" target=\"_blank\">threadingconstructs.jl:118</a>"
      ],
      "text/plain": [
       "@threads(__source__::LineNumberNode, __module__::Module, args...) in Base.Threads at threadingconstructs.jl:118"
      ]
     },
     "execution_count": 4,
     "metadata": {},
     "output_type": "execute_result"
    }
   ],
   "source": [
    "@which Threads.@threads\n",
    "# para mais informações sobre a macro "
   ]
  },
  {
   "cell_type": "code",
   "execution_count": 5,
   "metadata": {},
   "outputs": [
    {
     "data": {
      "text/plain": [
       "10×10 Array{Int64,2}:\n",
       " 1  1  1  2  2  3  3  3  4  4\n",
       " 1  1  1  2  2  3  3  3  4  4\n",
       " 1  1  1  2  2  3  3  3  4  4\n",
       " 1  1  1  2  2  3  3  3  4  4\n",
       " 1  1  1  2  2  3  3  3  4  4\n",
       " 1  1  2  2  2  3  3  4  4  4\n",
       " 1  1  2  2  2  3  3  4  4  4\n",
       " 1  1  2  2  2  3  3  4  4  4\n",
       " 1  1  2  2  2  3  3  4  4  4\n",
       " 1  1  2  2  2  3  3  4  4  4"
      ]
     },
     "execution_count": 5,
     "metadata": {},
     "output_type": "execute_result"
    }
   ],
   "source": [
    "matrix = zeros(Int64, 10, 10)\n",
    "@threads for i in 1:length(matrix)\n",
    "    matrix[i] = threadid()\n",
    "end\n",
    "matrix"
   ]
  },
  {
   "cell_type": "markdown",
   "metadata": {},
   "source": [
    "Da mesma forma, poderíamos usar "
   ]
  },
  {
   "cell_type": "code",
   "execution_count": 6,
   "metadata": {},
   "outputs": [
    {
     "name": "stdout",
     "output_type": "stream",
     "text": [
      "thread 1 done sleeping\n",
      "thread 2 done sleeping\n",
      "thread 3 done sleeping\n",
      "thread 4 done sleeping\n"
     ]
    }
   ],
   "source": [
    "@threads for i in 1:nthreads()\n",
    "    sleep(threadid())\n",
    "    println(\"thread \",threadid(),\" done sleeping\")\n",
    "end"
   ]
  },
  {
   "cell_type": "markdown",
   "metadata": {},
   "source": [
    "Para exemplificação do uso de @threads, vamos utilizar um exemplo de redução. Vamos reduzir os valores de um array de n posições a um único valor."
   ]
  },
  {
   "cell_type": "code",
   "execution_count": 7,
   "metadata": {},
   "outputs": [],
   "source": [
    "a = rand(10_000_000);"
   ]
  },
  {
   "cell_type": "code",
   "execution_count": 8,
   "metadata": {},
   "outputs": [
    {
     "data": {
      "text/plain": [
       "4.999779204063732e6"
      ]
     },
     "execution_count": 8,
     "metadata": {},
     "output_type": "execute_result"
    }
   ],
   "source": [
    "function baseline_sum(arr)\n",
    "    result::eltype(arr) = zero(eltype(arr))\n",
    "    for i in arr\n",
    "        result += i\n",
    "    end\n",
    "    return result\n",
    "end\n",
    "baseline_sum(a)"
   ]
  },
  {
   "cell_type": "code",
   "execution_count": 9,
   "metadata": {},
   "outputs": [
    {
     "data": {
      "text/plain": [
       "BenchmarkTools.TrialEstimate: \n",
       "  time:             13.543 ms\n",
       "  gctime:           0.000 ns (0.00%)\n",
       "  memory:           16 bytes\n",
       "  allocs:           1"
      ]
     },
     "execution_count": 9,
     "metadata": {},
     "output_type": "execute_result"
    }
   ],
   "source": [
    "metric = median(@benchmark baseline_sum(a))"
   ]
  },
  {
   "cell_type": "markdown",
   "metadata": {},
   "source": [
    "Vamos colocar os valores de benchmarking da mediana em um dicionário para criar um gráfico ao final da experiência com as funções utilizadas."
   ]
  },
  {
   "cell_type": "code",
   "execution_count": 39,
   "metadata": {},
   "outputs": [
    {
     "data": {
      "text/plain": [
       "Dict{String,Float64} with 1 entry:\n",
       "  \"bl_sum\" => 13.5426"
      ]
     },
     "execution_count": 39,
     "metadata": {},
     "output_type": "execute_result"
    }
   ],
   "source": [
    "dict = Dict{String, Float64}()\n",
    "push!(dict, \"bl_sum\"=> metric.time/10e5)"
   ]
  },
  {
   "cell_type": "markdown",
   "metadata": {},
   "source": [
    "# @threads"
   ]
  },
  {
   "cell_type": "code",
   "execution_count": 11,
   "metadata": {},
   "outputs": [
    {
     "data": {
      "text/plain": [
       "threaded_sum (generic function with 1 method)"
      ]
     },
     "execution_count": 11,
     "metadata": {},
     "output_type": "execute_result"
    }
   ],
   "source": [
    "function threaded_sum(arr)\n",
    "    results = zeros(eltype(arr), nthreads())\n",
    "    @threads for id in 1:nthreads()             #@threads gera um closure\n",
    "        acc = zero(eltype(arr))                 #cada thread tem um acc localmente \n",
    "        len = div(length(arr), nthreads())      \n",
    "        domain = ((id-1)*len+1):id*len          #cada thread trabalha 1/nthreads() do array\n",
    "        for i in domain          \n",
    "            acc += arr[i]\n",
    "        end\n",
    "        results[id] = acc                       #cada soma parcial é posta em uma variável no escopo acima\n",
    "    end\n",
    "    sum(results)                                #soma os resultados\n",
    "end"
   ]
  },
  {
   "cell_type": "markdown",
   "metadata": {},
   "source": [
    "Como, neste exemplo específico estamos lidando com operações de ponto flutuante, a ordem das operações importa, e portanto, ao paralelizarmos o código, podemos ter resultados diferentes, o que não significa que o resultado esteja incorreto."
   ]
  },
  {
   "cell_type": "code",
   "execution_count": 12,
   "metadata": {},
   "outputs": [
    {
     "data": {
      "text/plain": [
       "false"
      ]
     },
     "execution_count": 12,
     "metadata": {},
     "output_type": "execute_result"
    }
   ],
   "source": [
    "threaded_sum(a) ==  baseline_sum(a)"
   ]
  },
  {
   "cell_type": "code",
   "execution_count": 13,
   "metadata": {},
   "outputs": [
    {
     "data": {
      "text/plain": [
       "true"
      ]
     },
     "execution_count": 13,
     "metadata": {},
     "output_type": "execute_result"
    }
   ],
   "source": [
    "\n",
    "threaded_sum(a) ≈ baseline_sum(a)"
   ]
  },
  {
   "cell_type": "code",
   "execution_count": 40,
   "metadata": {},
   "outputs": [
    {
     "data": {
      "text/plain": [
       "Dict{String,Float64} with 2 entries:\n",
       "  \"bl_sum\"       => 13.5426\n",
       "  \"threaded_sum\" => 5.71744"
      ]
     },
     "execution_count": 40,
     "metadata": {},
     "output_type": "execute_result"
    }
   ],
   "source": [
    "metric_threaded_sum = median(@benchmark threaded_sum(a));\n",
    "push!(dict, \"threaded_sum\"=> metric_threaded_sum.time/10e5)"
   ]
  },
  {
   "cell_type": "markdown",
   "metadata": {},
   "source": [
    "É claro que, quando lidamos com um acesso à memória compartilhada, é preciso com data race e false sharing. Nenhuma macro vai cuidar disso, é preciso construir os algoritmos para evitar que data races e false sharings aconteçam."
   ]
  },
  {
   "cell_type": "code",
   "execution_count": 15,
   "metadata": {},
   "outputs": [
    {
     "data": {
      "text/plain": [
       "naive_sum (generic function with 1 method)"
      ]
     },
     "execution_count": 15,
     "metadata": {},
     "output_type": "execute_result"
    }
   ],
   "source": [
    "function naive_sum(arr)\n",
    "    total = zero(eltype(arr))\n",
    "    @threads for i in arr\n",
    "        total += i\n",
    "    end\n",
    "    return total\n",
    "end"
   ]
  },
  {
   "cell_type": "code",
   "execution_count": 16,
   "metadata": {},
   "outputs": [
    {
     "data": {
      "text/plain": [
       "1.2519880364103669e6"
      ]
     },
     "execution_count": 16,
     "metadata": {},
     "output_type": "execute_result"
    }
   ],
   "source": [
    "naive_sum(a)"
   ]
  },
  {
   "cell_type": "code",
   "execution_count": 17,
   "metadata": {},
   "outputs": [
    {
     "data": {
      "text/plain": [
       "false"
      ]
     },
     "execution_count": 17,
     "metadata": {},
     "output_type": "execute_result"
    }
   ],
   "source": [
    "naive_sum(a) ≈ baseline_sum(a)"
   ]
  },
  {
   "cell_type": "code",
   "execution_count": 18,
   "metadata": {},
   "outputs": [
    {
     "data": {
      "text/plain": [
       "false_sharing_sum (generic function with 1 method)"
      ]
     },
     "execution_count": 18,
     "metadata": {},
     "output_type": "execute_result"
    }
   ],
   "source": [
    "function false_sharing_sum(arr)\n",
    "    partial = zeros(eltype(a), nthreads())\n",
    "    @threads for i in 1:length(a)\n",
    "        partial[threadid()] += arr[i]\n",
    "    end\n",
    "    sum(partial)\n",
    "end"
   ]
  },
  {
   "cell_type": "code",
   "execution_count": 19,
   "metadata": {},
   "outputs": [
    {
     "data": {
      "text/plain": [
       "true"
      ]
     },
     "execution_count": 19,
     "metadata": {},
     "output_type": "execute_result"
    }
   ],
   "source": [
    "false_sharing_sum(a) ≈ baseline_sum(a)"
   ]
  },
  {
   "cell_type": "code",
   "execution_count": 41,
   "metadata": {},
   "outputs": [
    {
     "data": {
      "text/plain": [
       "Dict{String,Float64} with 3 entries:\n",
       "  \"bl_sum\"       => 13.5426\n",
       "  \"threaded_sum\" => 5.71744\n",
       "  \"fs_sum\"       => 16.1652"
      ]
     },
     "execution_count": 41,
     "metadata": {},
     "output_type": "execute_result"
    }
   ],
   "source": [
    "metric_fs_sum = median(@benchmark false_sharing_sum(a));\n",
    "push!(dict, \"fs_sum\"=> metric_fs_sum.time/10e5)"
   ]
  },
  {
   "cell_type": "markdown",
   "metadata": {},
   "source": [
    "## Atomics e Locks\n",
    "\n",
    "Julia possui um conjunto de operações atômicas disponíveis, que podem ser usadas em situações em que é necessário assegurar acesso a uma região crítica Operações atômicas e de Lock são extremamente caras, então é aconselhável usá-las o mínimo possível para não comprometer performance."
   ]
  },
  {
   "cell_type": "code",
   "execution_count": 21,
   "metadata": {},
   "outputs": [
    {
     "data": {
      "text/plain": [
       "naive_atomic_sum (generic function with 1 method)"
      ]
     },
     "execution_count": 21,
     "metadata": {},
     "output_type": "execute_result"
    }
   ],
   "source": [
    "function naive_atomic_sum(arr)\n",
    "    total = Atomic{eltype(arr)}(0)\n",
    "    acc = zero(eltype(arr))\n",
    "    @threads for i in 1:length(arr)\n",
    "        atomic_add!(total, a[i])\n",
    "    end\n",
    "    return total[]\n",
    "end"
   ]
  },
  {
   "cell_type": "code",
   "execution_count": 22,
   "metadata": {},
   "outputs": [
    {
     "data": {
      "text/plain": [
       "true"
      ]
     },
     "execution_count": 22,
     "metadata": {},
     "output_type": "execute_result"
    }
   ],
   "source": [
    "naive_atomic_sum(a) ≈ baseline_sum(a)"
   ]
  },
  {
   "cell_type": "code",
   "execution_count": 23,
   "metadata": {},
   "outputs": [
    {
     "name": "stdout",
     "output_type": "stream",
     "text": [
      "  568.015 ms (19999514 allocations: 305.17 MiB)\n"
     ]
    },
    {
     "data": {
      "text/plain": [
       "4.9997792040632395e6"
      ]
     },
     "execution_count": 23,
     "metadata": {},
     "output_type": "execute_result"
    }
   ],
   "source": [
    "@btime naive_atomic_sum(a)"
   ]
  },
  {
   "cell_type": "code",
   "execution_count": 24,
   "metadata": {},
   "outputs": [
    {
     "data": {
      "text/plain": [
       "sum_thread_atomic (generic function with 1 method)"
      ]
     },
     "execution_count": 24,
     "metadata": {},
     "output_type": "execute_result"
    }
   ],
   "source": [
    "# exemplo de função utilizando atomic\n",
    "function sum_thread_atomic(A)\n",
    "   r = Atomic{eltype(A)}(zero(eltype(A)))\n",
    "   len, rem = divrem(length(A), nthreads()) #calcula a divisão do array\n",
    "   @threads for t in 1:nthreads()\n",
    "      partial = zero(eltype(A))\n",
    "      for i in (1:len) .+ (t-1)*len\n",
    "         partial += A[i]\n",
    "      end\n",
    "      atomic_add!(r, partial)\n",
    "    end\n",
    "   result = r[]\n",
    "   #processa os dados restantes\n",
    "   for i in length(A)-rem+1:length(A)\n",
    "      result += A[i]\n",
    "   end\n",
    "   return result\n",
    "end"
   ]
  },
  {
   "cell_type": "code",
   "execution_count": 25,
   "metadata": {},
   "outputs": [
    {
     "data": {
      "text/plain": [
       "true"
      ]
     },
     "execution_count": 25,
     "metadata": {},
     "output_type": "execute_result"
    }
   ],
   "source": [
    "sum_thread_atomic(a) ≈ baseline_sum(a)"
   ]
  },
  {
   "cell_type": "code",
   "execution_count": 42,
   "metadata": {},
   "outputs": [
    {
     "data": {
      "text/plain": [
       "Dict{String,Float64} with 4 entries:\n",
       "  \"bl_sum\"       => 13.5426\n",
       "  \"at_sum\"       => 5.73623\n",
       "  \"threaded_sum\" => 5.71744\n",
       "  \"fs_sum\"       => 16.1652"
      ]
     },
     "execution_count": 42,
     "metadata": {},
     "output_type": "execute_result"
    }
   ],
   "source": [
    "metric_atomic = median(@benchmark sum_thread_atomic(a));\n",
    "push!(dict, \"at_sum\"=> metric_atomic.time/10e5)"
   ]
  },
  {
   "cell_type": "markdown",
   "metadata": {},
   "source": [
    "## Lock"
   ]
  },
  {
   "cell_type": "code",
   "execution_count": 28,
   "metadata": {},
   "outputs": [
    {
     "data": {
      "text/plain": [
       "sum_thread_lock (generic function with 1 method)"
      ]
     },
     "execution_count": 28,
     "metadata": {},
     "output_type": "execute_result"
    }
   ],
   "source": [
    "#exemplo de função utilizando locks \n",
    "function sum_thread_lock(A)\n",
    "    result = zero(eltype(A))\n",
    "    cond = ReentrantLock()\n",
    "    len, rem = divrem(length(A), nthreads())\n",
    "    @threads for t in 1:nthreads()\n",
    "        partial = zero(eltype(A))\n",
    "        for i in (1:len) .+ (t-1)*len\n",
    "             partial += A[i]\n",
    "        end\n",
    "        lock(cond)\n",
    "        result += partial\n",
    "        unlock(cond)\n",
    "    end\n",
    "    for i in length(A)-rem+1:length(A)\n",
    "        result += A[i]\n",
    "    end\n",
    "    return result\n",
    "end"
   ]
  },
  {
   "cell_type": "code",
   "execution_count": 29,
   "metadata": {},
   "outputs": [
    {
     "data": {
      "text/plain": [
       "true"
      ]
     },
     "execution_count": 29,
     "metadata": {},
     "output_type": "execute_result"
    }
   ],
   "source": [
    "sum_thread_lock(a) ≈ baseline_sum(a)"
   ]
  },
  {
   "cell_type": "code",
   "execution_count": 43,
   "metadata": {},
   "outputs": [
    {
     "data": {
      "text/plain": [
       "Dict{String,Float64} with 5 entries:\n",
       "  \"bl_sum\"       => 13.5426\n",
       "  \"lck_sum\"      => 5.71574\n",
       "  \"at_sum\"       => 5.73623\n",
       "  \"threaded_sum\" => 5.71744\n",
       "  \"fs_sum\"       => 16.1652"
      ]
     },
     "execution_count": 43,
     "metadata": {},
     "output_type": "execute_result"
    }
   ],
   "source": [
    "metric_lock = median(@benchmark sum_thread_lock(a));\n",
    "push!(dict, \"lck_sum\" => metric_lock.time/10e5)"
   ]
  },
  {
   "cell_type": "markdown",
   "metadata": {},
   "source": [
    "**Utilizando a macro inbounds**"
   ]
  },
  {
   "cell_type": "code",
   "execution_count": 31,
   "metadata": {},
   "outputs": [
    {
     "data": {
      "text/plain": [
       "inbounds_mt_sum (generic function with 1 method)"
      ]
     },
     "execution_count": 31,
     "metadata": {},
     "output_type": "execute_result"
    }
   ],
   "source": [
    "function inbounds_mt_sum(arr)\n",
    "    results = zeros(eltype(arr), nthreads())    #cria um vetor estático\n",
    "    @threads for id in 1:nthreads()             #@threads gera um closure\n",
    "        acc = zero(eltype(arr))                 #cada thread tem um acc localmente \n",
    "        len = div(length(arr), nthreads())      \n",
    "        domain = ((id-1)*len+1):id*len          #cada thread trabalha 1/nthreads() do array\n",
    "        for i in domain          \n",
    "            @inbounds acc += arr[i]             #omite a checagem de borda\n",
    "        end\n",
    "        results[id] = acc                           #cada soma parcial é posta em uma variável no escopo acima\n",
    "    end\n",
    "    sum(results)                                #soma os resultados\n",
    "end"
   ]
  },
  {
   "cell_type": "code",
   "execution_count": 32,
   "metadata": {},
   "outputs": [
    {
     "data": {
      "text/plain": [
       "true"
      ]
     },
     "execution_count": 32,
     "metadata": {},
     "output_type": "execute_result"
    }
   ],
   "source": [
    "inbounds_mt_sum(a) ≈ baseline_sum(a)"
   ]
  },
  {
   "cell_type": "code",
   "execution_count": 46,
   "metadata": {},
   "outputs": [
    {
     "data": {
      "text/plain": [
       "Dict{String,Float64} with 6 entries:\n",
       "  \"bl_sum\"       => 13.5426\n",
       "  \"ib_sum\"       => 5.69841\n",
       "  \"lck_sum\"      => 5.71574\n",
       "  \"at_sum\"       => 5.73623\n",
       "  \"threaded_sum\" => 5.71744\n",
       "  \"fs_sum\"       => 16.1652"
      ]
     },
     "execution_count": 46,
     "metadata": {},
     "output_type": "execute_result"
    }
   ],
   "source": [
    "metric_inbounds = median(@benchmark inbounds_mt_sum(a));\n",
    "push!(dict, \"ib_sum\"=> metric_inbounds.time/10e5)"
   ]
  },
  {
   "cell_type": "code",
   "execution_count": 47,
   "metadata": {},
   "outputs": [
    {
     "data": {
      "image/svg+xml": [
       "<?xml version=\"1.0\" encoding=\"utf-8\"?>\n",
       "<svg xmlns=\"http://www.w3.org/2000/svg\" xmlns:xlink=\"http://www.w3.org/1999/xlink\" width=\"600\" height=\"400\" viewBox=\"0 0 2400 1600\">\n",
       "<defs>\n",
       "  <clipPath id=\"clip9800\">\n",
       "    <rect x=\"0\" y=\"0\" width=\"2400\" height=\"1600\"/>\n",
       "  </clipPath>\n",
       "</defs>\n",
       "<path clip-path=\"url(#clip9800)\" d=\"\n",
       "M0 1600 L2400 1600 L2400 0 L0 0  Z\n",
       "  \" fill=\"#ffffff\" fill-rule=\"evenodd\" fill-opacity=\"1\"/>\n",
       "<defs>\n",
       "  <clipPath id=\"clip9801\">\n",
       "    <rect x=\"480\" y=\"0\" width=\"1681\" height=\"1600\"/>\n",
       "  </clipPath>\n",
       "</defs>\n",
       "<path clip-path=\"url(#clip9800)\" d=\"\n",
       "M140.517 1487.47 L2352.76 1487.47 L2352.76 47.2441 L140.517 47.2441  Z\n",
       "  \" fill=\"#ffffff\" fill-rule=\"evenodd\" fill-opacity=\"1\"/>\n",
       "<defs>\n",
       "  <clipPath id=\"clip9802\">\n",
       "    <rect x=\"140\" y=\"47\" width=\"2213\" height=\"1441\"/>\n",
       "  </clipPath>\n",
       "</defs>\n",
       "<polyline clip-path=\"url(#clip9802)\" style=\"stroke:#000000; stroke-width:2; stroke-opacity:0.1; fill:none\" points=\"\n",
       "  397.979,1487.47 397.979,47.2441 \n",
       "  \"/>\n",
       "<polyline clip-path=\"url(#clip9802)\" style=\"stroke:#000000; stroke-width:2; stroke-opacity:0.1; fill:none\" points=\"\n",
       "  737.442,1487.47 737.442,47.2441 \n",
       "  \"/>\n",
       "<polyline clip-path=\"url(#clip9802)\" style=\"stroke:#000000; stroke-width:2; stroke-opacity:0.1; fill:none\" points=\"\n",
       "  1076.9,1487.47 1076.9,47.2441 \n",
       "  \"/>\n",
       "<polyline clip-path=\"url(#clip9802)\" style=\"stroke:#000000; stroke-width:2; stroke-opacity:0.1; fill:none\" points=\"\n",
       "  1416.37,1487.47 1416.37,47.2441 \n",
       "  \"/>\n",
       "<polyline clip-path=\"url(#clip9802)\" style=\"stroke:#000000; stroke-width:2; stroke-opacity:0.1; fill:none\" points=\"\n",
       "  1755.83,1487.47 1755.83,47.2441 \n",
       "  \"/>\n",
       "<polyline clip-path=\"url(#clip9802)\" style=\"stroke:#000000; stroke-width:2; stroke-opacity:0.1; fill:none\" points=\"\n",
       "  2095.29,1487.47 2095.29,47.2441 \n",
       "  \"/>\n",
       "<polyline clip-path=\"url(#clip9802)\" style=\"stroke:#000000; stroke-width:2; stroke-opacity:0.1; fill:none\" points=\"\n",
       "  140.517,1446.71 2352.76,1446.71 \n",
       "  \"/>\n",
       "<polyline clip-path=\"url(#clip9802)\" style=\"stroke:#000000; stroke-width:2; stroke-opacity:0.1; fill:none\" points=\"\n",
       "  140.517,1026.46 2352.76,1026.46 \n",
       "  \"/>\n",
       "<polyline clip-path=\"url(#clip9802)\" style=\"stroke:#000000; stroke-width:2; stroke-opacity:0.1; fill:none\" points=\"\n",
       "  140.517,606.199 2352.76,606.199 \n",
       "  \"/>\n",
       "<polyline clip-path=\"url(#clip9802)\" style=\"stroke:#000000; stroke-width:2; stroke-opacity:0.1; fill:none\" points=\"\n",
       "  140.517,185.942 2352.76,185.942 \n",
       "  \"/>\n",
       "<polyline clip-path=\"url(#clip9800)\" style=\"stroke:#000000; stroke-width:4; stroke-opacity:1; fill:none\" points=\"\n",
       "  140.517,1487.47 2352.76,1487.47 \n",
       "  \"/>\n",
       "<polyline clip-path=\"url(#clip9800)\" style=\"stroke:#000000; stroke-width:4; stroke-opacity:1; fill:none\" points=\"\n",
       "  140.517,1487.47 140.517,47.2441 \n",
       "  \"/>\n",
       "<polyline clip-path=\"url(#clip9800)\" style=\"stroke:#000000; stroke-width:4; stroke-opacity:1; fill:none\" points=\"\n",
       "  397.979,1487.47 397.979,1470.19 \n",
       "  \"/>\n",
       "<polyline clip-path=\"url(#clip9800)\" style=\"stroke:#000000; stroke-width:4; stroke-opacity:1; fill:none\" points=\"\n",
       "  737.442,1487.47 737.442,1470.19 \n",
       "  \"/>\n",
       "<polyline clip-path=\"url(#clip9800)\" style=\"stroke:#000000; stroke-width:4; stroke-opacity:1; fill:none\" points=\"\n",
       "  1076.9,1487.47 1076.9,1470.19 \n",
       "  \"/>\n",
       "<polyline clip-path=\"url(#clip9800)\" style=\"stroke:#000000; stroke-width:4; stroke-opacity:1; fill:none\" points=\"\n",
       "  1416.37,1487.47 1416.37,1470.19 \n",
       "  \"/>\n",
       "<polyline clip-path=\"url(#clip9800)\" style=\"stroke:#000000; stroke-width:4; stroke-opacity:1; fill:none\" points=\"\n",
       "  1755.83,1487.47 1755.83,1470.19 \n",
       "  \"/>\n",
       "<polyline clip-path=\"url(#clip9800)\" style=\"stroke:#000000; stroke-width:4; stroke-opacity:1; fill:none\" points=\"\n",
       "  2095.29,1487.47 2095.29,1470.19 \n",
       "  \"/>\n",
       "<polyline clip-path=\"url(#clip9800)\" style=\"stroke:#000000; stroke-width:4; stroke-opacity:1; fill:none\" points=\"\n",
       "  140.517,1446.71 167.064,1446.71 \n",
       "  \"/>\n",
       "<polyline clip-path=\"url(#clip9800)\" style=\"stroke:#000000; stroke-width:4; stroke-opacity:1; fill:none\" points=\"\n",
       "  140.517,1026.46 167.064,1026.46 \n",
       "  \"/>\n",
       "<polyline clip-path=\"url(#clip9800)\" style=\"stroke:#000000; stroke-width:4; stroke-opacity:1; fill:none\" points=\"\n",
       "  140.517,606.199 167.064,606.199 \n",
       "  \"/>\n",
       "<polyline clip-path=\"url(#clip9800)\" style=\"stroke:#000000; stroke-width:4; stroke-opacity:1; fill:none\" points=\"\n",
       "  140.517,185.942 167.064,185.942 \n",
       "  \"/>\n",
       "<g clip-path=\"url(#clip9800)\">\n",
       "<text style=\"fill:#000000; fill-opacity:1; font-family:Arial,Helvetica Neue,Helvetica,sans-serif; font-size:48px; text-anchor:middle;\" transform=\"rotate(0, 397.979, 1541.47)\" x=\"397.979\" y=\"1541.47\">bl_sum</text>\n",
       "</g>\n",
       "<g clip-path=\"url(#clip9800)\">\n",
       "<text style=\"fill:#000000; fill-opacity:1; font-family:Arial,Helvetica Neue,Helvetica,sans-serif; font-size:48px; text-anchor:middle;\" transform=\"rotate(0, 737.442, 1541.47)\" x=\"737.442\" y=\"1541.47\">ib_sum</text>\n",
       "</g>\n",
       "<g clip-path=\"url(#clip9800)\">\n",
       "<text style=\"fill:#000000; fill-opacity:1; font-family:Arial,Helvetica Neue,Helvetica,sans-serif; font-size:48px; text-anchor:middle;\" transform=\"rotate(0, 1076.9, 1541.47)\" x=\"1076.9\" y=\"1541.47\">lck_sum</text>\n",
       "</g>\n",
       "<g clip-path=\"url(#clip9800)\">\n",
       "<text style=\"fill:#000000; fill-opacity:1; font-family:Arial,Helvetica Neue,Helvetica,sans-serif; font-size:48px; text-anchor:middle;\" transform=\"rotate(0, 1416.37, 1541.47)\" x=\"1416.37\" y=\"1541.47\">at_sum</text>\n",
       "</g>\n",
       "<g clip-path=\"url(#clip9800)\">\n",
       "<text style=\"fill:#000000; fill-opacity:1; font-family:Arial,Helvetica Neue,Helvetica,sans-serif; font-size:48px; text-anchor:middle;\" transform=\"rotate(0, 1755.83, 1541.47)\" x=\"1755.83\" y=\"1541.47\">threaded_sum</text>\n",
       "</g>\n",
       "<g clip-path=\"url(#clip9800)\">\n",
       "<text style=\"fill:#000000; fill-opacity:1; font-family:Arial,Helvetica Neue,Helvetica,sans-serif; font-size:48px; text-anchor:middle;\" transform=\"rotate(0, 2095.29, 1541.47)\" x=\"2095.29\" y=\"1541.47\">fs_sum</text>\n",
       "</g>\n",
       "<g clip-path=\"url(#clip9800)\">\n",
       "<text style=\"fill:#000000; fill-opacity:1; font-family:Arial,Helvetica Neue,Helvetica,sans-serif; font-size:48px; text-anchor:end;\" transform=\"rotate(0, 116.517, 1464.21)\" x=\"116.517\" y=\"1464.21\">0</text>\n",
       "</g>\n",
       "<g clip-path=\"url(#clip9800)\">\n",
       "<text style=\"fill:#000000; fill-opacity:1; font-family:Arial,Helvetica Neue,Helvetica,sans-serif; font-size:48px; text-anchor:end;\" transform=\"rotate(0, 116.517, 1043.96)\" x=\"116.517\" y=\"1043.96\">5</text>\n",
       "</g>\n",
       "<g clip-path=\"url(#clip9800)\">\n",
       "<text style=\"fill:#000000; fill-opacity:1; font-family:Arial,Helvetica Neue,Helvetica,sans-serif; font-size:48px; text-anchor:end;\" transform=\"rotate(0, 116.517, 623.699)\" x=\"116.517\" y=\"623.699\">10</text>\n",
       "</g>\n",
       "<g clip-path=\"url(#clip9800)\">\n",
       "<text style=\"fill:#000000; fill-opacity:1; font-family:Arial,Helvetica Neue,Helvetica,sans-serif; font-size:48px; text-anchor:end;\" transform=\"rotate(0, 116.517, 203.442)\" x=\"116.517\" y=\"203.442\">15</text>\n",
       "</g>\n",
       "<path clip-path=\"url(#clip9802)\" d=\"\n",
       "M262.194 308.438 L262.194 1446.71 L533.764 1446.71 L533.764 308.438 L262.194 308.438 L262.194 308.438  Z\n",
       "  \" fill=\"#009af9\" fill-rule=\"evenodd\" fill-opacity=\"1\"/>\n",
       "<polyline clip-path=\"url(#clip9802)\" style=\"stroke:#000000; stroke-width:4; stroke-opacity:1; fill:none\" points=\"\n",
       "  262.194,308.438 262.194,1446.71 533.764,1446.71 533.764,308.438 262.194,308.438 \n",
       "  \"/>\n",
       "<path clip-path=\"url(#clip9802)\" d=\"\n",
       "M601.657 967.754 L601.657 1446.71 L873.227 1446.71 L873.227 967.754 L601.657 967.754 L601.657 967.754  Z\n",
       "  \" fill=\"#009af9\" fill-rule=\"evenodd\" fill-opacity=\"1\"/>\n",
       "<polyline clip-path=\"url(#clip9802)\" style=\"stroke:#000000; stroke-width:4; stroke-opacity:1; fill:none\" points=\"\n",
       "  601.657,967.754 601.657,1446.71 873.227,1446.71 873.227,967.754 601.657,967.754 \n",
       "  \"/>\n",
       "<path clip-path=\"url(#clip9802)\" d=\"\n",
       "M941.12 966.297 L941.12 1446.71 L1212.69 1446.71 L1212.69 966.297 L941.12 966.297 L941.12 966.297  Z\n",
       "  \" fill=\"#009af9\" fill-rule=\"evenodd\" fill-opacity=\"1\"/>\n",
       "<polyline clip-path=\"url(#clip9802)\" style=\"stroke:#000000; stroke-width:4; stroke-opacity:1; fill:none\" points=\"\n",
       "  941.12,966.297 941.12,1446.71 1212.69,1446.71 1212.69,966.297 941.12,966.297 \n",
       "  \"/>\n",
       "<path clip-path=\"url(#clip9802)\" d=\"\n",
       "M1280.58 964.575 L1280.58 1446.71 L1552.15 1446.71 L1552.15 964.575 L1280.58 964.575 L1280.58 964.575  Z\n",
       "  \" fill=\"#009af9\" fill-rule=\"evenodd\" fill-opacity=\"1\"/>\n",
       "<polyline clip-path=\"url(#clip9802)\" style=\"stroke:#000000; stroke-width:4; stroke-opacity:1; fill:none\" points=\"\n",
       "  1280.58,964.575 1280.58,1446.71 1552.15,1446.71 1552.15,964.575 1280.58,964.575 \n",
       "  \"/>\n",
       "<path clip-path=\"url(#clip9802)\" d=\"\n",
       "M1620.05 966.154 L1620.05 1446.71 L1891.62 1446.71 L1891.62 966.154 L1620.05 966.154 L1620.05 966.154  Z\n",
       "  \" fill=\"#009af9\" fill-rule=\"evenodd\" fill-opacity=\"1\"/>\n",
       "<polyline clip-path=\"url(#clip9802)\" style=\"stroke:#000000; stroke-width:4; stroke-opacity:1; fill:none\" points=\"\n",
       "  1620.05,966.154 1620.05,1446.71 1891.62,1446.71 1891.62,966.154 1620.05,966.154 \n",
       "  \"/>\n",
       "<path clip-path=\"url(#clip9802)\" d=\"\n",
       "M1959.51 88.0053 L1959.51 1446.71 L2231.08 1446.71 L2231.08 88.0053 L1959.51 88.0053 L1959.51 88.0053  Z\n",
       "  \" fill=\"#009af9\" fill-rule=\"evenodd\" fill-opacity=\"1\"/>\n",
       "<polyline clip-path=\"url(#clip9802)\" style=\"stroke:#000000; stroke-width:4; stroke-opacity:1; fill:none\" points=\"\n",
       "  1959.51,88.0053 1959.51,1446.71 2231.08,1446.71 2231.08,88.0053 1959.51,88.0053 \n",
       "  \"/>\n",
       "</svg>\n"
      ]
     },
     "execution_count": 47,
     "metadata": {},
     "output_type": "execute_result"
    }
   ],
   "source": [
    "plt = bar!(dict, legend=false)"
   ]
  },
  {
   "cell_type": "markdown",
   "metadata": {},
   "source": [
    "# @spawn\n",
    "\n",
    "@spawn é a nova macro que foi adicionada em 2019, e se destina a paralelismo de tarefas. Ao contrário do @threads, que tem um conjunto de iterações associado a uma tarefa que ocorre em cada thread. @spawn realiza o scheduling dinâmico de tarefas.\n",
    "\n",
    "Para entender como funciona uma tarefa..."
   ]
  },
  {
   "cell_type": "code",
   "execution_count": null,
   "metadata": {},
   "outputs": [],
   "source": [
    "import Base.Threads.@spawn"
   ]
  },
  {
   "cell_type": "code",
   "execution_count": 48,
   "metadata": {},
   "outputs": [
    {
     "ename": "LoadError",
     "evalue": "LoadError: UndefVarError: @spawn not defined\nin expression starting at In[48]:3",
     "output_type": "error",
     "traceback": [
      "LoadError: UndefVarError: @spawn not defined\nin expression starting at In[48]:3",
      "",
      "Stacktrace:",
      " [1] top-level scope",
      " [2] include_string(::Function, ::Module, ::String, ::String) at ./loading.jl:1091"
     ]
    }
   ],
   "source": [
    "function task_spawn()\n",
    "    for i = 1:10\n",
    "        @spawn println(threadid())\n",
    "    end\n",
    "end\n",
    "task_spawn()"
   ]
  },
  {
   "cell_type": "code",
   "execution_count": null,
   "metadata": {},
   "outputs": [],
   "source": [
    "function spawn_sum!(A::Vector{Float64}, lo, hi)\n",
    "    if lo == hi\n",
    "        return A[lo]\n",
    "    end\n",
    "    mid = (hi + lo + 1) >> 1\n",
    "    leftsum = @spawn spawn_sum!(A, lo, mid-1)\n",
    "    rigthsum = @spawn spawn_sum!(A, mid, hi)\n",
    "    return fetch(leftsum) + fetch(rigthsum)\n",
    "end"
   ]
  },
  {
   "cell_type": "code",
   "execution_count": null,
   "metadata": {},
   "outputs": [],
   "source": [
    "@btime spawn_sum!(a, 1, length(a))"
   ]
  },
  {
   "cell_type": "code",
   "execution_count": null,
   "metadata": {},
   "outputs": [],
   "source": [
    "@btime baseline_sum(a)"
   ]
  }
 ],
 "metadata": {
  "kernelspec": {
   "display_name": "Julia 1.5.3",
   "language": "julia",
   "name": "julia-1.5"
  },
  "language_info": {
   "file_extension": ".jl",
   "mimetype": "application/julia",
   "name": "julia",
   "version": "1.5.3"
  }
 },
 "nbformat": 4,
 "nbformat_minor": 4
}
