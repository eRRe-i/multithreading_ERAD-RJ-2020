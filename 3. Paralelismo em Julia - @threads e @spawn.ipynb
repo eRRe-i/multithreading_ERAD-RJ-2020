{
 "cells": [
  {
   "cell_type": "markdown",
   "metadata": {},
   "source": [
    "<tr width=\"100%\" style=\"border: none;\">\n",
    " <td style=\"border: none;\" width=\"120px\">\n",
    "    <img align=\"left\" src=\"https://i.imgur.com/zC3NxsV.png\" width=\"150px\"/> \n",
    "  </td>\n",
    "  <td style=\"border: none;\" width=\"80%\">\n",
    "    <h1><a>Paralelismo em Julia: @threads e @spawn</a></h1>\n",
    "    <td>\n",
    "</tr>\n",
    "<tr width=\"100%\" style=\"border: none; text-align: left\">\n",
    "    <td colspan=\"2\" style=\"border: none; text-align: left\">\n",
    "        <body> Leandro Bataglia, Pedro Machado, Gabriel Marinho, <br> Filipe Braida, Juliana Zamith, Leandro Alvim e Raul Ferreira </body>\n",
    "    </td>\n",
    "    </tr>"
   ]
  },
  {
   "cell_type": "markdown",
   "metadata": {},
   "source": [
    "## Contexto \n",
    "\n",
    "Julia oferece diversas opções para o programador desenvolver paralelismo na linguagem. Essas funcionalidades estão em diversos estágios de desenvolvimento:\n",
    "  - Multithreading\n",
    "  - Pacote Distributed: https://docs.julialang.org/en/v1/manual/distributed-computing/\n",
    "  - Wrappers para MPI: https://juliaparallel.github.io/MPI.jl/stable/\n",
    "  - GPU em Julia: https://juliagpu.org/\n",
    "  - Alguns pacotes utilizam threads para paralelizar operações quando disponível, como o BLAS\n",
    "  \n",
    "Nesta parte do minicurso serão abordadas as funcionalidades do uso de threads da linguagem Julia\\*, implementável através das macros de paralelização. O multithreading em Julia tem poucos recursos, e em 2019 teve novas funcionalidades adicionadas à linguagem, em especial thread-safe, I/O, scheduling dinâmico e uma macro nova, `@spawn`. Para mais informações sobre as adições de 2019: https://julialang.org/blog/2019/07/multithreading/\n",
    "   \n",
    "\\* No Julia, até o presente momento, não é possível alterar a quantidade de threads em tempo de execução. Caso queira conhecer como configurar a quantidade de threads em Julia, veja o notebook 5 deste minicurso sobre como configurar o ambiente para multithreading."
   ]
  },
  {
   "cell_type": "markdown",
   "metadata": {},
   "source": [
    "## @threads for loops\n",
    "\n",
    "A macro `@threads` é usada comumente para paralelismo de dados.\n",
    "Portanto, é normalmente associada a loops, e tem como funcionalidade dividir as iterações do loop entre as threads previamente definidas.\n",
    "O modelo atual da macro @threads define como tarefa o conjunto de iterações atribuído à thread. Essas tarefas são enviadas para um scheduler, para execução. No caso do `@threads` o scheduling é estático, e a quantidade de iterações em cada thread é igual, independente da carga de trabalho associada a cada iteração."
   ]
  },
  {
   "cell_type": "code",
   "execution_count": null,
   "metadata": {},
   "outputs": [],
   "source": [
    "using Pkg\n",
    "Pkg.add(\"BenchmarkTools\")\n",
    "Pkg.add(\"Plots\")"
   ]
  },
  {
   "cell_type": "code",
   "execution_count": 2,
   "metadata": {},
   "outputs": [],
   "source": [
    "using BenchmarkTools\n",
    "using Base.Threads\n",
    "using Plots\n",
    "import Base.Threads.@spawn\n",
    "import Base.Threads.@threads"
   ]
  },
  {
   "cell_type": "code",
   "execution_count": 3,
   "metadata": {},
   "outputs": [
    {
     "data": {
      "text/html": [
       "@threads(__source__::<b>LineNumberNode</b>, __module__::<b>Module</b>, args...) in Base.Threads at <a href=\"https://github.com/JuliaLang/julia/tree/788b2c77c10c2160f4794a4d4b6b81a95a90940c/base/threadingconstructs.jl#L118\" target=\"_blank\">threadingconstructs.jl:118</a>"
      ],
      "text/plain": [
       "@threads(__source__::LineNumberNode, __module__::Module, args...) in Base.Threads at threadingconstructs.jl:118"
      ]
     },
     "execution_count": 3,
     "metadata": {},
     "output_type": "execute_result"
    }
   ],
   "source": [
    "@which @threads\n",
    "# para mais informações sobre a macro"
   ]
  },
  {
   "cell_type": "code",
   "execution_count": 4,
   "metadata": {},
   "outputs": [
    {
     "data": {
      "text/plain": [
       "10×10 Array{Int64,2}:\n",
       " 1  1  1  2  2  3  3  3  4  4\n",
       " 1  1  1  2  2  3  3  3  4  4\n",
       " 1  1  1  2  2  3  3  3  4  4\n",
       " 1  1  1  2  2  3  3  3  4  4\n",
       " 1  1  1  2  2  3  3  3  4  4\n",
       " 1  1  2  2  2  3  3  4  4  4\n",
       " 1  1  2  2  2  3  3  4  4  4\n",
       " 1  1  2  2  2  3  3  4  4  4\n",
       " 1  1  2  2  2  3  3  4  4  4\n",
       " 1  1  2  2  2  3  3  4  4  4"
      ]
     },
     "execution_count": 4,
     "metadata": {},
     "output_type": "execute_result"
    }
   ],
   "source": [
    "#Exemplo de divisão de iterações de uma matrix 10x10 entre 4 threads\n",
    "matrix = zeros(Int64, 10, 10)\n",
    "@threads for i in 1:length(matrix)\n",
    "    matrix[i] = threadid()\n",
    "end\n",
    "matrix"
   ]
  },
  {
   "cell_type": "code",
   "execution_count": null,
   "metadata": {},
   "outputs": [],
   "source": [
    "#Exemplo\n",
    "@threads for i in 1:nthreads()\n",
    "    sleep(threadid())\n",
    "    println(\"thread \",threadid(),\" done sleeping\")\n",
    "end"
   ]
  },
  {
   "cell_type": "markdown",
   "metadata": {},
   "source": [
    "#### Exemplo de redução: soma dos valores de um Array"
   ]
  },
  {
   "cell_type": "code",
   "execution_count": 6,
   "metadata": {},
   "outputs": [],
   "source": [
    "a = rand(10_000_000);"
   ]
  },
  {
   "cell_type": "code",
   "execution_count": 7,
   "metadata": {},
   "outputs": [
    {
     "data": {
      "text/plain": [
       "4.999753982500469e6"
      ]
     },
     "execution_count": 7,
     "metadata": {},
     "output_type": "execute_result"
    }
   ],
   "source": [
    "# versão sequencial\n",
    "function baseline_sum(arr)\n",
    "    result::eltype(arr) = zero(eltype(arr))\n",
    "    for i in arr\n",
    "        result += i\n",
    "    end\n",
    "    return result\n",
    "end\n",
    "baseline_sum(a)"
   ]
  },
  {
   "cell_type": "markdown",
   "metadata": {},
   "source": [
    "#### Avaliação da implementação\n",
    "\n",
    "Para avaliação de desempenho, será usado o pacote BenchmarkTools. Os resultados apresentados são referentes à mediana do tempo de execução do benchmark."
   ]
  },
  {
   "cell_type": "code",
   "execution_count": 8,
   "metadata": {},
   "outputs": [
    {
     "data": {
      "text/plain": [
       "BenchmarkTools.TrialEstimate: \n",
       "  time:             15.787 ms\n",
       "  gctime:           0.000 ns (0.00%)\n",
       "  memory:           16 bytes\n",
       "  allocs:           1"
      ]
     },
     "execution_count": 8,
     "metadata": {},
     "output_type": "execute_result"
    }
   ],
   "source": [
    "metric = median(@benchmark baseline_sum(a))"
   ]
  },
  {
   "cell_type": "markdown",
   "metadata": {},
   "source": [
    "Vamos colocar os valores de benchmarking da mediana em um dicionário para criar um gráfico ao final da experiência com as funções utilizadas."
   ]
  },
  {
   "cell_type": "code",
   "execution_count": 9,
   "metadata": {},
   "outputs": [
    {
     "data": {
      "text/plain": [
       "Dict{String,Float64} with 1 entry:\n",
       "  \"seq\" => 15.7869"
      ]
     },
     "execution_count": 9,
     "metadata": {},
     "output_type": "execute_result"
    }
   ],
   "source": [
    "dict = Dict{String, Float64}()\n",
    "push!(dict, \"seq\"=> metric.time/10e5)"
   ]
  },
  {
   "cell_type": "code",
   "execution_count": 10,
   "metadata": {},
   "outputs": [
    {
     "data": {
      "text/plain": [
       "threaded_sum (generic function with 1 method)"
      ]
     },
     "execution_count": 10,
     "metadata": {},
     "output_type": "execute_result"
    }
   ],
   "source": [
    "# Exemplo 1 - sem compartilhamento\n",
    "function threaded_sum(arr)\n",
    "    results = zeros(eltype(arr), nthreads())\n",
    "    @threads for id in 1:nthreads()             #@threads gera um closure\n",
    "        acc = zero(eltype(arr))                 #cada thread tem um acc localmente \n",
    "        len = div(length(arr), nthreads())      \n",
    "        domain = ((id-1)*len+1):id*len          #cada thread trabalha 1/nthreads() do array\n",
    "        for i in domain          \n",
    "            acc += arr[i]\n",
    "        end\n",
    "        results[id] = acc                       #cada soma parcial é posta em uma variável no escopo acima\n",
    "    end\n",
    "    sum(results)                                #soma os resultados\n",
    "end"
   ]
  },
  {
   "cell_type": "markdown",
   "metadata": {},
   "source": [
    "Como, neste exemplo específico estamos lidando com operações de ponto flutuante, a ordem das operações importa. Portanto, ao paralelizarmos o código, podemos ter resultados diferentes, o que não significa que o resultado esteja incorreto."
   ]
  },
  {
   "cell_type": "code",
   "execution_count": 11,
   "metadata": {},
   "outputs": [
    {
     "data": {
      "text/plain": [
       "false"
      ]
     },
     "execution_count": 11,
     "metadata": {},
     "output_type": "execute_result"
    }
   ],
   "source": [
    "threaded_sum(a) ==  baseline_sum(a)"
   ]
  },
  {
   "cell_type": "code",
   "execution_count": 12,
   "metadata": {},
   "outputs": [
    {
     "data": {
      "text/plain": [
       "true"
      ]
     },
     "execution_count": 12,
     "metadata": {},
     "output_type": "execute_result"
    }
   ],
   "source": [
    "\n",
    "threaded_sum(a) ≈ baseline_sum(a)"
   ]
  },
  {
   "cell_type": "code",
   "execution_count": 13,
   "metadata": {},
   "outputs": [
    {
     "data": {
      "text/plain": [
       "Dict{String,Float64} with 2 entries:\n",
       "  \"seq\"  => 15.7869\n",
       "  \"ex_1\" => 5.5145"
      ]
     },
     "execution_count": 13,
     "metadata": {},
     "output_type": "execute_result"
    }
   ],
   "source": [
    "metric_threaded_sum = median(@benchmark threaded_sum(a));\n",
    "push!(dict, \"ex_1\"=> metric_threaded_sum.time/10e5)"
   ]
  },
  {
   "cell_type": "markdown",
   "metadata": {},
   "source": [
    "É claro que, quando lidamos com um acesso à memória compartilhada, é preciso com data race e false sharing. Nenhuma macro vai cuidar disso, é preciso construir os algoritmos para evitar que data races e false sharings aconteçam."
   ]
  },
  {
   "cell_type": "code",
   "execution_count": 14,
   "metadata": {},
   "outputs": [
    {
     "data": {
      "text/plain": [
       "naive_sum (generic function with 1 method)"
      ]
     },
     "execution_count": 14,
     "metadata": {},
     "output_type": "execute_result"
    }
   ],
   "source": [
    "# versão paralela 2 - condição de corrida\n",
    "function naive_sum(arr)\n",
    "    total = zero(eltype(arr))\n",
    "    @threads for i in arr\n",
    "        total += i\n",
    "    end\n",
    "    return total\n",
    "end"
   ]
  },
  {
   "cell_type": "code",
   "execution_count": 15,
   "metadata": {},
   "outputs": [
    {
     "data": {
      "text/plain": [
       "1.2505808018954105e6"
      ]
     },
     "execution_count": 15,
     "metadata": {},
     "output_type": "execute_result"
    }
   ],
   "source": [
    "naive_sum(a)"
   ]
  },
  {
   "cell_type": "code",
   "execution_count": 16,
   "metadata": {},
   "outputs": [
    {
     "data": {
      "text/plain": [
       "false"
      ]
     },
     "execution_count": 16,
     "metadata": {},
     "output_type": "execute_result"
    }
   ],
   "source": [
    "naive_sum(a) ≈ baseline_sum(a)"
   ]
  },
  {
   "cell_type": "code",
   "execution_count": 17,
   "metadata": {},
   "outputs": [
    {
     "data": {
      "text/plain": [
       "false_sharing_sum (generic function with 1 method)"
      ]
     },
     "execution_count": 17,
     "metadata": {},
     "output_type": "execute_result"
    }
   ],
   "source": [
    "# Exemplo 3: false sharing\n",
    "function false_sharing_sum(arr)\n",
    "    partial = zeros(eltype(arr), nthreads())\n",
    "    @threads for i in 1:length(arr)\n",
    "        partial[threadid()] += arr[i]\n",
    "    end\n",
    "    sum(partial)\n",
    "end"
   ]
  },
  {
   "cell_type": "code",
   "execution_count": 18,
   "metadata": {},
   "outputs": [
    {
     "data": {
      "text/plain": [
       "true"
      ]
     },
     "execution_count": 18,
     "metadata": {},
     "output_type": "execute_result"
    }
   ],
   "source": [
    "false_sharing_sum(a) ≈ baseline_sum(a)"
   ]
  },
  {
   "cell_type": "code",
   "execution_count": 19,
   "metadata": {},
   "outputs": [
    {
     "data": {
      "text/plain": [
       "Dict{String,Float64} with 3 entries:\n",
       "  \"seq\"  => 15.7869\n",
       "  \"ex_3\" => 15.8121\n",
       "  \"ex_1\" => 5.5145"
      ]
     },
     "execution_count": 19,
     "metadata": {},
     "output_type": "execute_result"
    }
   ],
   "source": [
    "metric_fs_sum = median(@benchmark false_sharing_sum(a));\n",
    "push!(dict, \"ex_3\"=> metric_fs_sum.time/10e5)"
   ]
  },
  {
   "cell_type": "markdown",
   "metadata": {},
   "source": [
    "## Atomics e Locks - consertar\n",
    "\n",
    "Para evitar condição de corrida, Julia possui permite definir operações atômicas além de permitir o uso de Locks para definir uma região crítica. Contudo, vale lembrar que o uso de operações atômicas e Locks são extremamente caras, então é aconselhável usá-las o mínimo possível para não comprometer performance."
   ]
  },
  {
   "cell_type": "code",
   "execution_count": 20,
   "metadata": {},
   "outputs": [
    {
     "data": {
      "text/plain": [
       "naive_atomic_sum (generic function with 1 method)"
      ]
     },
     "execution_count": 20,
     "metadata": {},
     "output_type": "execute_result"
    }
   ],
   "source": [
    "# Exemplo 4: Uso de variável atômica\n",
    "function naive_atomic_sum(arr)\n",
    "    total = Atomic{eltype(arr)}(0)\n",
    "    acc = zero(eltype(arr))\n",
    "    @threads for i in 1:length(arr)\n",
    "        atomic_add!(total, arr[i])\n",
    "    end\n",
    "    return total[]\n",
    "end"
   ]
  },
  {
   "cell_type": "code",
   "execution_count": 21,
   "metadata": {},
   "outputs": [
    {
     "data": {
      "text/plain": [
       "true"
      ]
     },
     "execution_count": 21,
     "metadata": {},
     "output_type": "execute_result"
    }
   ],
   "source": [
    "naive_atomic_sum(a) ≈ baseline_sum(a)"
   ]
  },
  {
   "cell_type": "code",
   "execution_count": 22,
   "metadata": {},
   "outputs": [
    {
     "name": "stdout",
     "output_type": "stream",
     "text": [
      "  276.780 ms (25 allocations: 3.06 KiB)\n"
     ]
    },
    {
     "data": {
      "text/plain": [
       "4.999753982500869e6"
      ]
     },
     "execution_count": 22,
     "metadata": {},
     "output_type": "execute_result"
    }
   ],
   "source": [
    "@btime naive_atomic_sum(a)"
   ]
  },
  {
   "cell_type": "code",
   "execution_count": 23,
   "metadata": {},
   "outputs": [
    {
     "data": {
      "text/plain": [
       "sum_thread_atomic (generic function with 1 method)"
      ]
     },
     "execution_count": 23,
     "metadata": {},
     "output_type": "execute_result"
    }
   ],
   "source": [
    "# Exemplo 5: melhorando o uso da operação atômica\n",
    "function sum_thread_atomic(A)\n",
    "   r = Atomic{eltype(A)}(zero(eltype(A)))\n",
    "   len, rem = divrem(length(A), nthreads()) #calcula a divisão do array\n",
    "   @threads for t in 1:nthreads()\n",
    "      partial = zero(eltype(A))\n",
    "      for i in (1:len) .+ (t-1)*len\n",
    "         partial += A[i]\n",
    "      end\n",
    "      atomic_add!(r, partial)\n",
    "    end\n",
    "   result = r[]\n",
    "   #processa os dados restantes\n",
    "   for i in length(A)-rem+1:length(A)\n",
    "      result += A[i]\n",
    "   end\n",
    "   return result\n",
    "end"
   ]
  },
  {
   "cell_type": "code",
   "execution_count": 24,
   "metadata": {},
   "outputs": [
    {
     "data": {
      "text/plain": [
       "true"
      ]
     },
     "execution_count": 24,
     "metadata": {},
     "output_type": "execute_result"
    }
   ],
   "source": [
    "sum_thread_atomic(a) ≈ baseline_sum(a)"
   ]
  },
  {
   "cell_type": "code",
   "execution_count": 25,
   "metadata": {},
   "outputs": [
    {
     "data": {
      "text/plain": [
       "Dict{String,Float64} with 4 entries:\n",
       "  \"seq\"  => 15.7869\n",
       "  \"ex_3\" => 15.8121\n",
       "  \"ex_5\" => 5.53464\n",
       "  \"ex_1\" => 5.5145"
      ]
     },
     "execution_count": 25,
     "metadata": {},
     "output_type": "execute_result"
    }
   ],
   "source": [
    "metric_atomic = median(@benchmark sum_thread_atomic(a));\n",
    "push!(dict, \"ex_5\"=> metric_atomic.time/10e5)"
   ]
  },
  {
   "cell_type": "markdown",
   "metadata": {},
   "source": [
    "## Lock"
   ]
  },
  {
   "cell_type": "code",
   "execution_count": 26,
   "metadata": {},
   "outputs": [
    {
     "data": {
      "text/plain": [
       "sum_thread_lock (generic function with 1 method)"
      ]
     },
     "execution_count": 26,
     "metadata": {},
     "output_type": "execute_result"
    }
   ],
   "source": [
    "# Exemplo #6: Utilização de Lock (definindo uma região crítica) \n",
    "function sum_thread_lock(A)\n",
    "    result = zero(eltype(A))\n",
    "    cond = ReentrantLock()\n",
    "    len, rem = divrem(length(A), nthreads())\n",
    "    @threads for t in 1:nthreads()\n",
    "        partial = zero(eltype(A))\n",
    "        for i in (1:len) .+ (t-1)*len\n",
    "             partial += A[i]\n",
    "        end\n",
    "        lock(cond)\n",
    "        result += partial\n",
    "        unlock(cond)\n",
    "    end\n",
    "    for i in length(A)-rem+1:length(A)\n",
    "        result += A[i]\n",
    "    end\n",
    "    return result\n",
    "end"
   ]
  },
  {
   "cell_type": "code",
   "execution_count": 27,
   "metadata": {},
   "outputs": [
    {
     "data": {
      "text/plain": [
       "true"
      ]
     },
     "execution_count": 27,
     "metadata": {},
     "output_type": "execute_result"
    }
   ],
   "source": [
    "sum_thread_lock(a) ≈ baseline_sum(a)"
   ]
  },
  {
   "cell_type": "code",
   "execution_count": 28,
   "metadata": {},
   "outputs": [
    {
     "data": {
      "text/plain": [
       "Dict{String,Float64} with 5 entries:\n",
       "  \"seq\"  => 15.7869\n",
       "  \"ex_6\" => 5.56127\n",
       "  \"ex_3\" => 15.8121\n",
       "  \"ex_5\" => 5.53464\n",
       "  \"ex_1\" => 5.5145"
      ]
     },
     "execution_count": 28,
     "metadata": {},
     "output_type": "execute_result"
    }
   ],
   "source": [
    "metric_lock = median(@benchmark sum_thread_lock(a));\n",
    "push!(dict, \"ex_6\" => metric_lock.time/10e5)"
   ]
  },
  {
   "cell_type": "markdown",
   "metadata": {},
   "source": [
    "**Utilizando a macro inbounds**"
   ]
  },
  {
   "cell_type": "code",
   "execution_count": 29,
   "metadata": {},
   "outputs": [
    {
     "data": {
      "text/plain": [
       "inbounds_mt_sum (generic function with 1 method)"
      ]
     },
     "execution_count": 29,
     "metadata": {},
     "output_type": "execute_result"
    }
   ],
   "source": [
    "# Exemplo 7: Utilização com inbounds\n",
    "function inbounds_mt_sum(arr)\n",
    "    results = zeros(eltype(arr), nthreads())    #cria um vetor de resultados\n",
    "    @threads for id in 1:nthreads()             #@threads gera um closure\n",
    "        acc = zero(eltype(arr))                 #cada thread tem um acc localmente \n",
    "        len = div(length(arr), nthreads())      \n",
    "        domain = ((id-1)*len+1):id*len          #cada thread trabalha 1/nthreads() do array\n",
    "        for i in domain          \n",
    "            @inbounds acc += arr[i]             #omite a checagem de borda\n",
    "        end\n",
    "        results[id] = acc                       #cada soma parcial é posta em uma variável no escopo acima\n",
    "    end\n",
    "    sum(results)                                #soma os resultados\n",
    "end"
   ]
  },
  {
   "cell_type": "code",
   "execution_count": 30,
   "metadata": {},
   "outputs": [
    {
     "data": {
      "text/plain": [
       "Dict{String,Float64} with 6 entries:\n",
       "  \"seq\"  => 15.7869\n",
       "  \"ex_6\" => 5.56127\n",
       "  \"ex_3\" => 15.8121\n",
       "  \"ex_5\" => 5.53464\n",
       "  \"ex_7\" => 5.53319\n",
       "  \"ex_1\" => 5.5145"
      ]
     },
     "execution_count": 30,
     "metadata": {},
     "output_type": "execute_result"
    }
   ],
   "source": [
    "metric_inbounds = median(@benchmark inbounds_mt_sum(a));\n",
    "push!(dict, \"ex_7\"=> metric_inbounds.time/10e5)"
   ]
  },
  {
   "cell_type": "code",
   "execution_count": 31,
   "metadata": {},
   "outputs": [
    {
     "data": {
      "text/plain": [
       "true"
      ]
     },
     "execution_count": 31,
     "metadata": {},
     "output_type": "execute_result"
    }
   ],
   "source": [
    "inbounds_mt_sum(a) ≈ baseline_sum(a)"
   ]
  },
  {
   "cell_type": "markdown",
   "metadata": {},
   "source": [
    "#### Detalhe de implementação\n",
    "\n",
    "O uso de @inbounds X desempenho!"
   ]
  },
  {
   "cell_type": "code",
   "execution_count": 32,
   "metadata": {},
   "outputs": [
    {
     "data": {
      "image/svg+xml": [
       "<?xml version=\"1.0\" encoding=\"utf-8\"?>\n",
       "<svg xmlns=\"http://www.w3.org/2000/svg\" xmlns:xlink=\"http://www.w3.org/1999/xlink\" width=\"600\" height=\"400\" viewBox=\"0 0 2400 1600\">\n",
       "<defs>\n",
       "  <clipPath id=\"clip2300\">\n",
       "    <rect x=\"0\" y=\"0\" width=\"2400\" height=\"1600\"/>\n",
       "  </clipPath>\n",
       "</defs>\n",
       "<path clip-path=\"url(#clip2300)\" d=\"\n",
       "M0 1600 L2400 1600 L2400 0 L0 0  Z\n",
       "  \" fill=\"#ffffff\" fill-rule=\"evenodd\" fill-opacity=\"1\"/>\n",
       "<defs>\n",
       "  <clipPath id=\"clip2301\">\n",
       "    <rect x=\"480\" y=\"0\" width=\"1681\" height=\"1600\"/>\n",
       "  </clipPath>\n",
       "</defs>\n",
       "<path clip-path=\"url(#clip2300)\" d=\"\n",
       "M140.517 1487.47 L2352.76 1487.47 L2352.76 47.2441 L140.517 47.2441  Z\n",
       "  \" fill=\"#ffffff\" fill-rule=\"evenodd\" fill-opacity=\"1\"/>\n",
       "<defs>\n",
       "  <clipPath id=\"clip2302\">\n",
       "    <rect x=\"140\" y=\"47\" width=\"2213\" height=\"1441\"/>\n",
       "  </clipPath>\n",
       "</defs>\n",
       "<polyline clip-path=\"url(#clip2302)\" style=\"stroke:#000000; stroke-width:2; stroke-opacity:0.1; fill:none\" points=\"\n",
       "  397.979,1487.47 397.979,47.2441 \n",
       "  \"/>\n",
       "<polyline clip-path=\"url(#clip2302)\" style=\"stroke:#000000; stroke-width:2; stroke-opacity:0.1; fill:none\" points=\"\n",
       "  737.442,1487.47 737.442,47.2441 \n",
       "  \"/>\n",
       "<polyline clip-path=\"url(#clip2302)\" style=\"stroke:#000000; stroke-width:2; stroke-opacity:0.1; fill:none\" points=\"\n",
       "  1076.9,1487.47 1076.9,47.2441 \n",
       "  \"/>\n",
       "<polyline clip-path=\"url(#clip2302)\" style=\"stroke:#000000; stroke-width:2; stroke-opacity:0.1; fill:none\" points=\"\n",
       "  1416.37,1487.47 1416.37,47.2441 \n",
       "  \"/>\n",
       "<polyline clip-path=\"url(#clip2302)\" style=\"stroke:#000000; stroke-width:2; stroke-opacity:0.1; fill:none\" points=\"\n",
       "  1755.83,1487.47 1755.83,47.2441 \n",
       "  \"/>\n",
       "<polyline clip-path=\"url(#clip2302)\" style=\"stroke:#000000; stroke-width:2; stroke-opacity:0.1; fill:none\" points=\"\n",
       "  2095.29,1487.47 2095.29,47.2441 \n",
       "  \"/>\n",
       "<polyline clip-path=\"url(#clip2302)\" style=\"stroke:#000000; stroke-width:2; stroke-opacity:0.1; fill:none\" points=\"\n",
       "  140.517,1446.71 2352.76,1446.71 \n",
       "  \"/>\n",
       "<polyline clip-path=\"url(#clip2302)\" style=\"stroke:#000000; stroke-width:2; stroke-opacity:0.1; fill:none\" points=\"\n",
       "  140.517,1017.07 2352.76,1017.07 \n",
       "  \"/>\n",
       "<polyline clip-path=\"url(#clip2302)\" style=\"stroke:#000000; stroke-width:2; stroke-opacity:0.1; fill:none\" points=\"\n",
       "  140.517,587.43 2352.76,587.43 \n",
       "  \"/>\n",
       "<polyline clip-path=\"url(#clip2302)\" style=\"stroke:#000000; stroke-width:2; stroke-opacity:0.1; fill:none\" points=\"\n",
       "  140.517,157.788 2352.76,157.788 \n",
       "  \"/>\n",
       "<polyline clip-path=\"url(#clip2300)\" style=\"stroke:#000000; stroke-width:4; stroke-opacity:1; fill:none\" points=\"\n",
       "  140.517,1487.47 2352.76,1487.47 \n",
       "  \"/>\n",
       "<polyline clip-path=\"url(#clip2300)\" style=\"stroke:#000000; stroke-width:4; stroke-opacity:1; fill:none\" points=\"\n",
       "  140.517,1487.47 140.517,47.2441 \n",
       "  \"/>\n",
       "<polyline clip-path=\"url(#clip2300)\" style=\"stroke:#000000; stroke-width:4; stroke-opacity:1; fill:none\" points=\"\n",
       "  397.979,1487.47 397.979,1470.19 \n",
       "  \"/>\n",
       "<polyline clip-path=\"url(#clip2300)\" style=\"stroke:#000000; stroke-width:4; stroke-opacity:1; fill:none\" points=\"\n",
       "  737.442,1487.47 737.442,1470.19 \n",
       "  \"/>\n",
       "<polyline clip-path=\"url(#clip2300)\" style=\"stroke:#000000; stroke-width:4; stroke-opacity:1; fill:none\" points=\"\n",
       "  1076.9,1487.47 1076.9,1470.19 \n",
       "  \"/>\n",
       "<polyline clip-path=\"url(#clip2300)\" style=\"stroke:#000000; stroke-width:4; stroke-opacity:1; fill:none\" points=\"\n",
       "  1416.37,1487.47 1416.37,1470.19 \n",
       "  \"/>\n",
       "<polyline clip-path=\"url(#clip2300)\" style=\"stroke:#000000; stroke-width:4; stroke-opacity:1; fill:none\" points=\"\n",
       "  1755.83,1487.47 1755.83,1470.19 \n",
       "  \"/>\n",
       "<polyline clip-path=\"url(#clip2300)\" style=\"stroke:#000000; stroke-width:4; stroke-opacity:1; fill:none\" points=\"\n",
       "  2095.29,1487.47 2095.29,1470.19 \n",
       "  \"/>\n",
       "<polyline clip-path=\"url(#clip2300)\" style=\"stroke:#000000; stroke-width:4; stroke-opacity:1; fill:none\" points=\"\n",
       "  140.517,1446.71 167.064,1446.71 \n",
       "  \"/>\n",
       "<polyline clip-path=\"url(#clip2300)\" style=\"stroke:#000000; stroke-width:4; stroke-opacity:1; fill:none\" points=\"\n",
       "  140.517,1017.07 167.064,1017.07 \n",
       "  \"/>\n",
       "<polyline clip-path=\"url(#clip2300)\" style=\"stroke:#000000; stroke-width:4; stroke-opacity:1; fill:none\" points=\"\n",
       "  140.517,587.43 167.064,587.43 \n",
       "  \"/>\n",
       "<polyline clip-path=\"url(#clip2300)\" style=\"stroke:#000000; stroke-width:4; stroke-opacity:1; fill:none\" points=\"\n",
       "  140.517,157.788 167.064,157.788 \n",
       "  \"/>\n",
       "<g clip-path=\"url(#clip2300)\">\n",
       "<text style=\"fill:#000000; fill-opacity:1; font-family:Arial,Helvetica Neue,Helvetica,sans-serif; font-size:48px; text-anchor:middle;\" transform=\"rotate(0, 397.979, 1541.47)\" x=\"397.979\" y=\"1541.47\">seq</text>\n",
       "</g>\n",
       "<g clip-path=\"url(#clip2300)\">\n",
       "<text style=\"fill:#000000; fill-opacity:1; font-family:Arial,Helvetica Neue,Helvetica,sans-serif; font-size:48px; text-anchor:middle;\" transform=\"rotate(0, 737.442, 1541.47)\" x=\"737.442\" y=\"1541.47\">ex_6</text>\n",
       "</g>\n",
       "<g clip-path=\"url(#clip2300)\">\n",
       "<text style=\"fill:#000000; fill-opacity:1; font-family:Arial,Helvetica Neue,Helvetica,sans-serif; font-size:48px; text-anchor:middle;\" transform=\"rotate(0, 1076.9, 1541.47)\" x=\"1076.9\" y=\"1541.47\">ex_3</text>\n",
       "</g>\n",
       "<g clip-path=\"url(#clip2300)\">\n",
       "<text style=\"fill:#000000; fill-opacity:1; font-family:Arial,Helvetica Neue,Helvetica,sans-serif; font-size:48px; text-anchor:middle;\" transform=\"rotate(0, 1416.37, 1541.47)\" x=\"1416.37\" y=\"1541.47\">ex_5</text>\n",
       "</g>\n",
       "<g clip-path=\"url(#clip2300)\">\n",
       "<text style=\"fill:#000000; fill-opacity:1; font-family:Arial,Helvetica Neue,Helvetica,sans-serif; font-size:48px; text-anchor:middle;\" transform=\"rotate(0, 1755.83, 1541.47)\" x=\"1755.83\" y=\"1541.47\">ex_7</text>\n",
       "</g>\n",
       "<g clip-path=\"url(#clip2300)\">\n",
       "<text style=\"fill:#000000; fill-opacity:1; font-family:Arial,Helvetica Neue,Helvetica,sans-serif; font-size:48px; text-anchor:middle;\" transform=\"rotate(0, 2095.29, 1541.47)\" x=\"2095.29\" y=\"1541.47\">ex_1</text>\n",
       "</g>\n",
       "<g clip-path=\"url(#clip2300)\">\n",
       "<text style=\"fill:#000000; fill-opacity:1; font-family:Arial,Helvetica Neue,Helvetica,sans-serif; font-size:48px; text-anchor:end;\" transform=\"rotate(0, 116.517, 1464.21)\" x=\"116.517\" y=\"1464.21\">0</text>\n",
       "</g>\n",
       "<g clip-path=\"url(#clip2300)\">\n",
       "<text style=\"fill:#000000; fill-opacity:1; font-family:Arial,Helvetica Neue,Helvetica,sans-serif; font-size:48px; text-anchor:end;\" transform=\"rotate(0, 116.517, 1034.57)\" x=\"116.517\" y=\"1034.57\">5</text>\n",
       "</g>\n",
       "<g clip-path=\"url(#clip2300)\">\n",
       "<text style=\"fill:#000000; fill-opacity:1; font-family:Arial,Helvetica Neue,Helvetica,sans-serif; font-size:48px; text-anchor:end;\" transform=\"rotate(0, 116.517, 604.93)\" x=\"116.517\" y=\"604.93\">10</text>\n",
       "</g>\n",
       "<g clip-path=\"url(#clip2300)\">\n",
       "<text style=\"fill:#000000; fill-opacity:1; font-family:Arial,Helvetica Neue,Helvetica,sans-serif; font-size:48px; text-anchor:end;\" transform=\"rotate(0, 116.517, 175.288)\" x=\"116.517\" y=\"175.288\">15</text>\n",
       "</g>\n",
       "<path clip-path=\"url(#clip2302)\" d=\"\n",
       "M262.194 90.173 L262.194 1446.71 L533.764 1446.71 L533.764 90.173 L262.194 90.173 L262.194 90.173  Z\n",
       "  \" fill=\"#009af9\" fill-rule=\"evenodd\" fill-opacity=\"1\"/>\n",
       "<polyline clip-path=\"url(#clip2302)\" style=\"stroke:#000000; stroke-width:4; stroke-opacity:1; fill:none\" points=\"\n",
       "  262.194,90.173 262.194,1446.71 533.764,1446.71 533.764,90.173 262.194,90.173 \n",
       "  \"/>\n",
       "<path clip-path=\"url(#clip2302)\" d=\"\n",
       "M601.657 968.842 L601.657 1446.71 L873.227 1446.71 L873.227 968.842 L601.657 968.842 L601.657 968.842  Z\n",
       "  \" fill=\"#009af9\" fill-rule=\"evenodd\" fill-opacity=\"1\"/>\n",
       "<polyline clip-path=\"url(#clip2302)\" style=\"stroke:#000000; stroke-width:4; stroke-opacity:1; fill:none\" points=\"\n",
       "  601.657,968.842 601.657,1446.71 873.227,1446.71 873.227,968.842 601.657,968.842 \n",
       "  \"/>\n",
       "<path clip-path=\"url(#clip2302)\" d=\"\n",
       "M941.12 88.0053 L941.12 1446.71 L1212.69 1446.71 L1212.69 88.0053 L941.12 88.0053 L941.12 88.0053  Z\n",
       "  \" fill=\"#009af9\" fill-rule=\"evenodd\" fill-opacity=\"1\"/>\n",
       "<polyline clip-path=\"url(#clip2302)\" style=\"stroke:#000000; stroke-width:4; stroke-opacity:1; fill:none\" points=\"\n",
       "  941.12,88.0053 941.12,1446.71 1212.69,1446.71 1212.69,88.0053 941.12,88.0053 \n",
       "  \"/>\n",
       "<path clip-path=\"url(#clip2302)\" d=\"\n",
       "M1280.58 971.131 L1280.58 1446.71 L1552.15 1446.71 L1552.15 971.131 L1280.58 971.131 L1280.58 971.131  Z\n",
       "  \" fill=\"#009af9\" fill-rule=\"evenodd\" fill-opacity=\"1\"/>\n",
       "<polyline clip-path=\"url(#clip2302)\" style=\"stroke:#000000; stroke-width:4; stroke-opacity:1; fill:none\" points=\"\n",
       "  1280.58,971.131 1280.58,1446.71 1552.15,1446.71 1552.15,971.131 1280.58,971.131 \n",
       "  \"/>\n",
       "<path clip-path=\"url(#clip2302)\" d=\"\n",
       "M1620.05 971.255 L1620.05 1446.71 L1891.62 1446.71 L1891.62 971.255 L1620.05 971.255 L1620.05 971.255  Z\n",
       "  \" fill=\"#009af9\" fill-rule=\"evenodd\" fill-opacity=\"1\"/>\n",
       "<polyline clip-path=\"url(#clip2302)\" style=\"stroke:#000000; stroke-width:4; stroke-opacity:1; fill:none\" points=\"\n",
       "  1620.05,971.255 1620.05,1446.71 1891.62,1446.71 1891.62,971.255 1620.05,971.255 \n",
       "  \"/>\n",
       "<path clip-path=\"url(#clip2302)\" d=\"\n",
       "M1959.51 972.861 L1959.51 1446.71 L2231.08 1446.71 L2231.08 972.861 L1959.51 972.861 L1959.51 972.861  Z\n",
       "  \" fill=\"#009af9\" fill-rule=\"evenodd\" fill-opacity=\"1\"/>\n",
       "<polyline clip-path=\"url(#clip2302)\" style=\"stroke:#000000; stroke-width:4; stroke-opacity:1; fill:none\" points=\"\n",
       "  1959.51,972.861 1959.51,1446.71 2231.08,1446.71 2231.08,972.861 1959.51,972.861 \n",
       "  \"/>\n",
       "</svg>\n"
      ]
     },
     "execution_count": 32,
     "metadata": {},
     "output_type": "execute_result"
    }
   ],
   "source": [
    "plt = bar!(dict, legend=false)"
   ]
  },
  {
   "cell_type": "markdown",
   "metadata": {},
   "source": [
    "# @spawn\n",
    "\n",
    "`@spawn` é a nova macro que foi adicionada em 2019 à linguagem, e se destina a paralelismo de tarefas. Ao contrário do `@threads`, que tem um conjunto de iterações associado a uma tarefa que ocorre em cada thread. `@spawn` realiza o scheduling dinâmico de tarefas.\n",
    "\n",
    "Uma tarefa é uma corrotina, e quando a tarefa é criada, ela precisa ser enviada para o scheduler. Assim que a tarefa termina sua execução, é possível recuperar o resultado da computação com o `fetch()`."
   ]
  },
  {
   "cell_type": "code",
   "execution_count": null,
   "metadata": {},
   "outputs": [],
   "source": [
    "a1() = sum(i for i in 1:1000);\n",
    "b = @task a1();\n",
    "istaskstarted(b)"
   ]
  },
  {
   "cell_type": "code",
   "execution_count": null,
   "metadata": {},
   "outputs": [],
   "source": [
    "schedule(b)"
   ]
  },
  {
   "cell_type": "code",
   "execution_count": null,
   "metadata": {},
   "outputs": [],
   "source": [
    "istaskdone(b)"
   ]
  },
  {
   "cell_type": "code",
   "execution_count": null,
   "metadata": {},
   "outputs": [],
   "source": [
    "fetch(b)"
   ]
  },
  {
   "cell_type": "markdown",
   "metadata": {},
   "source": [
    "No `@spawn` a tarefa é associada pelo scheduler a uma thread disponível."
   ]
  },
  {
   "cell_type": "code",
   "execution_count": 37,
   "metadata": {},
   "outputs": [
    {
     "data": {
      "text/plain": [
       "task_spawn (generic function with 1 method)"
      ]
     },
     "execution_count": 37,
     "metadata": {},
     "output_type": "execute_result"
    }
   ],
   "source": [
    "# Exemplo #1: Uso básico do @spawn\n",
    "function task_spawn()\n",
    "    for i = 1:10\n",
    "        @spawn print(threadid(), \" \")\n",
    "    end\n",
    "end"
   ]
  },
  {
   "cell_type": "code",
   "execution_count": null,
   "metadata": {},
   "outputs": [],
   "source": [
    "task_spawn()"
   ]
  },
  {
   "cell_type": "code",
   "execution_count": 46,
   "metadata": {},
   "outputs": [
    {
     "data": {
      "text/plain": [
       "spawn_sum! (generic function with 1 method)"
      ]
     },
     "execution_count": 46,
     "metadata": {},
     "output_type": "execute_result"
    }
   ],
   "source": [
    "# Exemplo #2: Paralelização funcional - soma recursiva\n",
    "b = rand(10_000)\n",
    "function spawn_sum!(A::Vector{Float64}, lo, hi)\n",
    "    if lo == hi\n",
    "        return A[lo]\n",
    "    end\n",
    "    mid = (hi + lo + 1) >> 1\n",
    "    left = @spawn spawn_sum!(A, lo, mid-1)\n",
    "    rigth = @spawn spawn_sum!(A, mid, hi)\n",
    "    return fetch(left) + fetch(rigth)\n",
    "end"
   ]
  },
  {
   "cell_type": "code",
   "execution_count": 40,
   "metadata": {},
   "outputs": [
    {
     "name": "stdout",
     "output_type": "stream",
     "text": [
      "  12.652 ms (140241 allocations: 14.96 MiB)\n"
     ]
    },
    {
     "data": {
      "text/plain": [
       "4974.132163331142"
      ]
     },
     "execution_count": 40,
     "metadata": {},
     "output_type": "execute_result"
    }
   ],
   "source": [
    "@btime spawn_sum!(b, 1, length(b))"
   ]
  },
  {
   "cell_type": "code",
   "execution_count": 41,
   "metadata": {},
   "outputs": [
    {
     "data": {
      "text/plain": [
       "psort! (generic function with 3 methods)"
      ]
     },
     "execution_count": 41,
     "metadata": {},
     "output_type": "execute_result"
    }
   ],
   "source": [
    "# Exemplo 3: paralelização funcional - Mergesort recursivo\n",
    "function psort!(v, lo::Int=1, hi::Int=length(v))\n",
    "    if lo >= hi                       # 1 or 0 elements; nothing to do\n",
    "        return v\n",
    "    end\n",
    "    if hi - lo < 100_000               # below some cutoff, run in serial\n",
    "        sort!(view(v, lo:hi), alg = MergeSort)\n",
    "        return v\n",
    "    end\n",
    "    mid = (lo+hi)>>>1                 # find the midpoint\n",
    "    half = @spawn psort!(v, lo, mid)  # task to sort the lower half; will run\n",
    "    psort!(v, mid+1, hi)              # in parallel with the current call sorting the upper half                    \n",
    "    wait(half)                        # wait for the lower half to finish\n",
    "    temp = v[lo:mid]                  # workspace for merging\n",
    "    i, k, j = 1, lo, mid+1            # merge the two sorted sub-arrays\n",
    "    @inbounds while k < j <= hi\n",
    "        if v[j] < temp[i]\n",
    "            v[k] = v[j]\n",
    "            j += 1\n",
    "        else\n",
    "            v[k] = temp[i]\n",
    "            i += 1\n",
    "        end\n",
    "        k += 1\n",
    "    end\n",
    "    @inbounds while k < j\n",
    "        v[k] = temp[i]\n",
    "        k += 1\n",
    "        i += 1\n",
    "    end\n",
    "    return v\n",
    "end"
   ]
  },
  {
   "cell_type": "code",
   "execution_count": null,
   "metadata": {},
   "outputs": [],
   "source": [
    "a = rand(10_000_000)\n",
    "psort!(a)"
   ]
  },
  {
   "cell_type": "code",
   "execution_count": 43,
   "metadata": {},
   "outputs": [
    {
     "data": {
      "text/plain": [
       "primes_spawn (generic function with 1 method)"
      ]
     },
     "execution_count": 43,
     "metadata": {},
     "output_type": "execute_result"
    }
   ],
   "source": [
    "# Exemplo 3: paralelização funcional - vetor de primos\n",
    "function prime_check(n::Int)\n",
    "    for i = 2:n/2\n",
    "        if n%i == 0\n",
    "            return nothing\n",
    "        end\n",
    "    end\n",
    "    return n\n",
    "end\n",
    "function primes_spawn(number::Int)\n",
    "    vec = []\n",
    "    cond = ReentrantLock()\n",
    "    @sync for i = 2:number\n",
    "        @spawn begin\n",
    "            n = prime_check(i)\n",
    "            if n != nothing\n",
    "                lock(cond)\n",
    "                push!(vec, n)\n",
    "                unlock(cond)\n",
    "            end\n",
    "        end\n",
    "    end\n",
    "    return vec\n",
    "end"
   ]
  },
  {
   "cell_type": "code",
   "execution_count": null,
   "metadata": {},
   "outputs": [],
   "source": [
    "primes_spawn(100)"
   ]
  },
  {
   "cell_type": "markdown",
   "metadata": {},
   "source": [
    "Este minicurso abordou o paralelismo em memória compartilhada. Entretanto, Julia possui macros específicas para paralelização em memória distribuída. Segue o link para apresentações sobre esta temática:\n",
    "\n",
    "- [Julia Distributed](https://docs.google.com/presentation/d/1YHGJ_WIikyFrxDLn_RTsC5GiMo2aR5-IybWkr_CIenM/edit?usp=sharing) \n",
    "- [DistributedArrays](https://docs.google.com/presentation/d/1Yc2sxBytRguS_ZteT5lOgyuAZC5hRscvamfEmVUV8G8/edit?usp=sharing)\n",
    "- [MPI.jl](https://docs.google.com/presentation/d/1ehU5Fdb6FsPTlgPX0FpyjQkK46f8hQOOJtYoC_5YJkY/edit?usp=sharing)"
   ]
  }
 ],
 "metadata": {
  "kernelspec": {
   "display_name": "Julia 1.5.3",
   "language": "julia",
   "name": "julia-1.5"
  },
  "language_info": {
   "file_extension": ".jl",
   "mimetype": "application/julia",
   "name": "julia",
   "version": "1.5.3"
  }
 },
 "nbformat": 4,
 "nbformat_minor": 4
}
