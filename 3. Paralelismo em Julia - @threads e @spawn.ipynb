{
 "cells": [
  {
   "cell_type": "markdown",
   "metadata": {},
   "source": [
    "# Otimização de Código em Julia\n",
    "\n",
    "Quando queremos realizar computação de alto desempenho, o tempo necessário para realizar um trabalho computacional é crítico. Quando precisamos lidar com uma grande quantidade de processamento, o tempo gasto em cada operação não é trivial. Portanto, mesmo que o código esteja paralelizado, o código serial precisa executar tão rápido quanto possível.\n",
    "\n",
    "**nota adicional**: Aos realizar os testes no Pluto, houve inconsistências que até o presente momento não consigo explicar. No entanto, ao usar o jupyter e o REPL, obtive resultados consistentes com o esperado. Por favor, tenha isso em mente sempre que forem usar o Pluto para auferir desempenho."
   ]
  },
  {
   "cell_type": "markdown",
   "metadata": {},
   "source": [
    "## Pacotes"
   ]
  },
  {
   "cell_type": "code",
   "execution_count": 1,
   "metadata": {},
   "outputs": [],
   "source": [
    "using BenchmarkTools"
   ]
  },
  {
   "cell_type": "code",
   "execution_count": 25,
   "metadata": {},
   "outputs": [
    {
     "name": "stderr",
     "output_type": "stream",
     "text": [
      "┌ Info: Precompiling StaticArrays [90137ffa-7385-5640-81b9-e52037218182]\n",
      "└ @ Base loading.jl:1260\n"
     ]
    }
   ],
   "source": [
    "using StaticArrays"
   ]
  },
  {
   "cell_type": "markdown",
   "metadata": {},
   "source": [
    "## Memória e cache-awareness\n",
    "\n",
    "Quando utilizamos um código, precisamos prestar atenção em como a memória é acessada. Quando acessamos matrizes, por exemplo, na verdade o que temos é um açúcar sintático que permite que identifiquemos as posições por índices; na memória, as posições estão sempre alocados unidimensionalmente.\n",
    "\n"
   ]
  },
  {
   "cell_type": "code",
   "execution_count": 2,
   "metadata": {},
   "outputs": [
    {
     "data": {
      "text/plain": [
       "3×3 Array{Int64,2}:\n",
       " 1  4  7\n",
       " 2  5  8\n",
       " 3  6  9"
      ]
     },
     "execution_count": 2,
     "metadata": {},
     "output_type": "execute_result"
    }
   ],
   "source": [
    "A = [i + (j-1)*3 for i in 1:3, j in 1:3]"
   ]
  },
  {
   "cell_type": "code",
   "execution_count": 4,
   "metadata": {},
   "outputs": [
    {
     "name": "stdout",
     "output_type": "stream",
     "text": [
      "B = [1 4 7; 2 5 8; 3 6 9]\n"
     ]
    },
    {
     "data": {
      "text/plain": [
       "3×3 Array{Int64,2}:\n",
       " 1  4  7\n",
       " 2  5  8\n",
       " 3  6  9"
      ]
     },
     "execution_count": 4,
     "metadata": {},
     "output_type": "execute_result"
    }
   ],
   "source": [
    "B = Array{Int64, 2}(undef, 3, 3)\n",
    "    for i in 1:3, j in 1:3\n",
    "        B[i,j] = i + (j-1)*3\n",
    "    end\n",
    "@show B"
   ]
  },
  {
   "cell_type": "markdown",
   "metadata": {},
   "source": [
    "## Julia é Column-major\n",
    "![figure](https://eli.thegreenplace.net/images/2015/column-major-2D.png)\n",
    "E como Julia é Column major, isso significa que qualquer iteração que tenha colunas no loop maior terá melhor eficiência no uso da cache"
   ]
  },
  {
   "cell_type": "code",
   "execution_count": null,
   "metadata": {},
   "outputs": [],
   "source": [
    "S = rand(100,100)\n",
    "T = rand(100,100)\n",
    "U = rand(100,100)"
   ]
  },
  {
   "cell_type": "code",
   "execution_count": 12,
   "metadata": {},
   "outputs": [],
   "source": [
    "function inner_rows!(C, A, B)\n",
    "    for i in 1:100, j in 1:100\n",
    "        C[i,j] = A[i,j] + B[i,j]\n",
    "    end\n",
    "end"
   ]
  },
  {
   "cell_type": "code",
   "execution_count": 13,
   "metadata": {},
   "outputs": [],
   "source": [
    "function inner_cols!(C, A, B)\n",
    "    for j in 1:100, i in 1:100\n",
    "        C[i,j] = A[i,j] + B[i, j]\n",
    "    end\n",
    "end"
   ]
  },
  {
   "cell_type": "code",
   "execution_count": 14,
   "metadata": {},
   "outputs": [],
   "source": [
    "inner_rows!(U, T, S)\n",
    "inner_cols!(U, T, S)"
   ]
  },
  {
   "cell_type": "code",
   "execution_count": 15,
   "metadata": {},
   "outputs": [
    {
     "name": "stdout",
     "output_type": "stream",
     "text": [
      "  17.305 μs (0 allocations: 0 bytes)\n"
     ]
    }
   ],
   "source": [
    "@btime inner_rows!(U, T, S)"
   ]
  },
  {
   "cell_type": "code",
   "execution_count": 16,
   "metadata": {},
   "outputs": [
    {
     "name": "stdout",
     "output_type": "stream",
     "text": [
      "  10.666 μs (0 allocations: 0 bytes)\n"
     ]
    }
   ],
   "source": [
    "@btime inner_cols!(U, T, S)"
   ]
  },
  {
   "cell_type": "markdown",
   "metadata": {},
   "source": [
    "## Stack, Heap e mutabilidade\n",
    "\n",
    "Objetos em Julia podem ter alocação estática ou dinâmica. Variáveis com alocação estática podem ser colocados na stack para acesso rápido, pois seu tamanho é conhecido em tempo de compilação. Variáveis de tamanho dinâmico, por sua vez,  não tem seu tamanho definido em tempo de compilação, o que significa que seu valor tem que ser mantido por um ponteiro àquela região de memória.\n",
    "A stack possui acesso rápido, porém tem tamanho limitado. Um objeto com tamanho dinâmico provê uma estrutura de dados flexível, mas precisa ser acessado por indireção de ponteiro.\n",
    "Para ter uma boa performance, é necessário saber onde as estruturas de dados habitam e como o compilador está acessando aquela estrutura/objeto."
   ]
  },
  {
   "cell_type": "code",
   "execution_count": 17,
   "metadata": {},
   "outputs": [
    {
     "data": {
      "text/plain": [
       "Int64"
      ]
     },
     "execution_count": 17,
     "metadata": {},
     "output_type": "execute_result"
    }
   ],
   "source": [
    "a = 50\n",
    "typeof(a)"
   ]
  },
  {
   "cell_type": "code",
   "execution_count": 18,
   "metadata": {},
   "outputs": [
    {
     "data": {
      "text/plain": [
       "Array{Float64,2}"
      ]
     },
     "execution_count": 18,
     "metadata": {},
     "output_type": "execute_result"
    }
   ],
   "source": [
    "typeof(S)"
   ]
  },
  {
   "cell_type": "markdown",
   "metadata": {},
   "source": [
    "Julia trabalha com Arrays de tamanho dinâmico; portanto o compilador não infere o tamanho de um Array em tempo de compilação."
   ]
  },
  {
   "cell_type": "code",
   "execution_count": 21,
   "metadata": {},
   "outputs": [],
   "source": [
    "function inner_alloc!(C,A,B)\n",
    "  for j in 1:100, i in 1:100\n",
    "    val = [A[i,j] + B[i,j]]\n",
    "    C[i,j] = val[1]\n",
    "  end\n",
    "end\n",
    "inner_alloc!(U,S,T)"
   ]
  },
  {
   "cell_type": "code",
   "execution_count": 48,
   "metadata": {},
   "outputs": [],
   "source": [
    "function inner_noalloc!(C,A,B)\n",
    "    for j in 1:100, i in 1:100\n",
    "        val = A[i,j] + B[i,j]\n",
    "        C[i,j] = val\n",
    "    end\n",
    "end\n",
    "inner_noalloc!(U,S,T)"
   ]
  },
  {
   "cell_type": "code",
   "execution_count": 28,
   "metadata": {},
   "outputs": [],
   "source": [
    "function inner_alloc_static!(C,A,B)\n",
    "  for j in 1:100, i in 1:100\n",
    "    val = @SVector [A[i,j] + B[i,j]]\n",
    "    C[i,j] = val[1]\n",
    "  end\n",
    "end\n",
    "inner_alloc_static!(U,S,T)"
   ]
  },
  {
   "cell_type": "code",
   "execution_count": 29,
   "metadata": {},
   "outputs": [
    {
     "name": "stdout",
     "output_type": "stream",
     "text": [
      "  285.680 μs (10000 allocations: 937.50 KiB)\n"
     ]
    }
   ],
   "source": [
    "@btime inner_alloc!(U,S,T)"
   ]
  },
  {
   "cell_type": "code",
   "execution_count": 50,
   "metadata": {},
   "outputs": [
    {
     "name": "stdout",
     "output_type": "stream",
     "text": [
      "  17.122 μs (0 allocations: 0 bytes)\n"
     ]
    }
   ],
   "source": [
    "@btime inner_noalloc!(U,S,T)"
   ]
  },
  {
   "cell_type": "code",
   "execution_count": 31,
   "metadata": {},
   "outputs": [
    {
     "name": "stdout",
     "output_type": "stream",
     "text": [
      "  10.632 μs (0 allocations: 0 bytes)\n"
     ]
    }
   ],
   "source": [
    "@btime inner_alloc_static!(U,S,T)"
   ]
  },
  {
   "cell_type": "markdown",
   "metadata": {},
   "source": [
    "De modo geral, a alocação na stack se destina a objetos pequenos cujo tamanho é definido em tempo de compilação. Para objetos grandes, é preferível o uso da heap."
   ]
  },
  {
   "cell_type": "markdown",
   "metadata": {},
   "source": [
    "## Mutação\n",
    "Uma vez que alocar é custoso em termos de performance, sempre que possível, é preferível utilizar espaços de endereçamento já alocados para realizar a computação. Deste modo, é possível ter funções com zero alocações."
   ]
  },
  {
   "cell_type": "code",
   "execution_count": 75,
   "metadata": {},
   "outputs": [],
   "source": [
    "function inner_alloc(A,B)\n",
    "    # 10*(A + B)\n",
    "    temp = similar(A)\n",
    "    for j in 1:100, i in 1:100\n",
    "        C[i,j] = (A[i,j] + B[i,j]) * 10\n",
    "    end\n",
    "end\n",
    "inner_alloc(S,T)"
   ]
  },
  {
   "cell_type": "code",
   "execution_count": 76,
   "metadata": {},
   "outputs": [
    {
     "name": "stdout",
     "output_type": "stream",
     "text": [
      "  20.719 μs (2 allocations: 78.20 KiB)\n"
     ]
    }
   ],
   "source": [
    "@btime inner_alloc(S,T)"
   ]
  },
  {
   "cell_type": "code",
   "execution_count": null,
   "metadata": {},
   "outputs": [],
   "source": [
    "function inner_noalloc!(C,A,B) # usando um cache Array C já alocado e mutamos\n",
    "    \n",
    "    "
   ]
  }
 ],
 "metadata": {
  "kernelspec": {
   "display_name": "Julia 1.4.1",
   "language": "julia",
   "name": "julia-1.4"
  },
  "language_info": {
   "file_extension": ".jl",
   "mimetype": "application/julia",
   "name": "julia",
   "version": "1.4.1"
  }
 },
 "nbformat": 4,
 "nbformat_minor": 4
}
