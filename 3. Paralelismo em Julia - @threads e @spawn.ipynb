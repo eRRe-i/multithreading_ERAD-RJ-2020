{
 "cells": [
  {
   "cell_type": "markdown",
   "metadata": {},
   "source": [
    "# Paralelismo em Julia"
   ]
  },
  {
   "cell_type": "code",
   "execution_count": 75,
   "metadata": {},
   "outputs": [
    {
     "name": "stdout",
     "output_type": "stream",
     "text": [
      "nthreads() = 2\n"
     ]
    },
    {
     "data": {
      "text/plain": [
       "2"
      ]
     },
     "execution_count": 75,
     "metadata": {},
     "output_type": "execute_result"
    }
   ],
   "source": [
    "using BenchmarkTools\n",
    "using Base.Threads\n",
    "@show nthreads()"
   ]
  },
  {
   "cell_type": "code",
   "execution_count": null,
   "metadata": {},
   "outputs": [],
   "source": [
    "a = rand(100_000)"
   ]
  },
  {
   "cell_type": "code",
   "execution_count": 4,
   "metadata": {},
   "outputs": [
    {
     "data": {
      "text/plain": [
       "baseline_sum (generic function with 1 method)"
      ]
     },
     "execution_count": 4,
     "metadata": {},
     "output_type": "execute_result"
    }
   ],
   "source": [
    "function baseline_sum(arr)\n",
    "    result::eltype(arr) = zero(eltype(arr))\n",
    "    for i in arr\n",
    "        result += i\n",
    "    end\n",
    "    return result\n",
    "end"
   ]
  },
  {
   "cell_type": "code",
   "execution_count": 5,
   "metadata": {},
   "outputs": [
    {
     "data": {
      "text/plain": [
       "49941.07260774294"
      ]
     },
     "execution_count": 5,
     "metadata": {},
     "output_type": "execute_result"
    }
   ],
   "source": [
    "baseline_sum(a)"
   ]
  },
  {
   "cell_type": "markdown",
   "metadata": {},
   "source": [
    "# @threads"
   ]
  },
  {
   "cell_type": "code",
   "execution_count": 2,
   "metadata": {},
   "outputs": [
    {
     "ename": "LoadError",
     "evalue": "UndefVarError: @threads not defined",
     "output_type": "error",
     "traceback": [
      "UndefVarError: @threads not defined",
      ""
     ]
    }
   ],
   "source": [
    "function threadid_array()\n",
    "    arr = Array{Int64}(undef, 10)\n",
    "    @threads for i = 1:length(arr)\n",
    "        arr[i] = Threads.threadid()\n",
    "    end\n",
    "    return arr\n",
    "end"
   ]
  },
  {
   "cell_type": "code",
   "execution_count": 90,
   "metadata": {},
   "outputs": [
    {
     "data": {
      "text/plain": [
       "10-element Array{Int64,1}:\n",
       " 1\n",
       " 1\n",
       " 1\n",
       " 1\n",
       " 1\n",
       " 2\n",
       " 2\n",
       " 2\n",
       " 2\n",
       " 2"
      ]
     },
     "execution_count": 90,
     "metadata": {},
     "output_type": "execute_result"
    }
   ],
   "source": [
    "threadid_array()"
   ]
  },
  {
   "cell_type": "code",
   "execution_count": 43,
   "metadata": {},
   "outputs": [
    {
     "data": {
      "text/plain": [
       "threaded_sum (generic function with 1 method)"
      ]
     },
     "execution_count": 43,
     "metadata": {},
     "output_type": "execute_result"
    }
   ],
   "source": [
    "function threaded_sum(arr)\n",
    "    results = zeros(eltype(arr), nthreads())\n",
    "    @threads for id in 1:nthreads()             #@threads gera um closure       \n",
    "        acc = zero(eltype(arr))                 #cada thread tem um acc localmente \n",
    "        len = div(length(arr), nthreads())      #cada thread trabalha 1/nthreads() do array\n",
    "        domain = ((id-1)*len+1):id*len    \n",
    "        @inbounds for i in domain          \n",
    "            acc += arr[i]\n",
    "        end\n",
    "        results[id] = acc                       #cada soma parcial é posta em uma variável no escopo acima\n",
    "    end\n",
    "    sum(results)                                #soma os resultados\n",
    "end"
   ]
  },
  {
   "cell_type": "code",
   "execution_count": null,
   "metadata": {},
   "outputs": [],
   "source": [
    "threaded_sum(a) ≈ baseline_sum(a)"
   ]
  },
  {
   "cell_type": "code",
   "execution_count": 10,
   "metadata": {},
   "outputs": [
    {
     "data": {
      "text/plain": [
       "naive_sum (generic function with 1 method)"
      ]
     },
     "execution_count": 10,
     "metadata": {},
     "output_type": "execute_result"
    }
   ],
   "source": [
    "function naive_sum(arr)\n",
    "    total = zero(eltype(arr))\n",
    "    @threads for i in arr\n",
    "        total += i\n",
    "    end\n",
    "    return total\n",
    "end"
   ]
  },
  {
   "cell_type": "code",
   "execution_count": 77,
   "metadata": {},
   "outputs": [
    {
     "data": {
      "text/plain": [
       "27208.474392480144"
      ]
     },
     "execution_count": 77,
     "metadata": {},
     "output_type": "execute_result"
    }
   ],
   "source": [
    "naive_sum(a)"
   ]
  },
  {
   "cell_type": "code",
   "execution_count": 78,
   "metadata": {},
   "outputs": [
    {
     "data": {
      "text/plain": [
       "false"
      ]
     },
     "execution_count": 78,
     "metadata": {},
     "output_type": "execute_result"
    }
   ],
   "source": [
    "naive_sum(a) ≈ baseline_sum(a)"
   ]
  },
  {
   "cell_type": "markdown",
   "metadata": {},
   "source": [
    "## Atomics"
   ]
  },
  {
   "cell_type": "code",
   "execution_count": 13,
   "metadata": {},
   "outputs": [
    {
     "data": {
      "text/plain": [
       "naive_atomic_sum (generic function with 1 method)"
      ]
     },
     "execution_count": 13,
     "metadata": {},
     "output_type": "execute_result"
    }
   ],
   "source": [
    "function naive_atomic_sum(arr)\n",
    "    total = Atomic{eltype(arr)}(0)\n",
    "    @threads for i in arr\n",
    "        atomic_add!(total, i)\n",
    "    end\n",
    "    return total[]\n",
    "end"
   ]
  },
  {
   "cell_type": "code",
   "execution_count": 79,
   "metadata": {},
   "outputs": [
    {
     "data": {
      "text/plain": [
       "true"
      ]
     },
     "execution_count": 79,
     "metadata": {},
     "output_type": "execute_result"
    }
   ],
   "source": [
    "naive_atomic_sum(a) ≈ baseline_sum(a)"
   ]
  },
  {
   "cell_type": "code",
   "execution_count": 70,
   "metadata": {},
   "outputs": [
    {
     "name": "stdout",
     "output_type": "stream",
     "text": [
      "  129.398 μs (1 allocation: 16 bytes)\n"
     ]
    },
    {
     "data": {
      "text/plain": [
       "49941.07260774294"
      ]
     },
     "execution_count": 70,
     "metadata": {},
     "output_type": "execute_result"
    }
   ],
   "source": [
    "@btime baseline_sum(a)"
   ]
  },
  {
   "cell_type": "code",
   "execution_count": 48,
   "metadata": {},
   "outputs": [
    {
     "name": "stdout",
     "output_type": "stream",
     "text": [
      "  1.815 ms (15 allocations: 1.52 KiB)\n"
     ]
    },
    {
     "data": {
      "text/plain": [
       "49941.07260774359"
      ]
     },
     "execution_count": 48,
     "metadata": {},
     "output_type": "execute_result"
    }
   ],
   "source": [
    "naive_atomic_sum(a)\n",
    "@btime naive_atomic_sum(a)"
   ]
  },
  {
   "cell_type": "code",
   "execution_count": 17,
   "metadata": {},
   "outputs": [
    {
     "data": {
      "text/plain": [
       "sum_thread_split (generic function with 1 method)"
      ]
     },
     "execution_count": 17,
     "metadata": {},
     "output_type": "execute_result"
    }
   ],
   "source": [
    "function sum_thread_split(A)\n",
    "   r = Atomic{eltype(A)}(zero(eltype(A)))\n",
    "   len, rem = divrem(length(A), nthreads())\n",
    "   #Split the array equally among the threads\n",
    "   @threads for t in 1:nthreads()\n",
    "      partial = zero(eltype(A))\n",
    "      for i in (1:len) .+ (t-1)*len\n",
    "         @inbounds partial += A[i]\n",
    "      end\n",
    "      atomic_add!(r, partial)\n",
    "    end\n",
    "   result = r[]\n",
    "   #process up the remaining data\n",
    "   for i in length(A)-rem+1:length(A)\n",
    "      @inbounds result += A[i]\n",
    "   end\n",
    "   return result\n",
    "end"
   ]
  },
  {
   "cell_type": "code",
   "execution_count": null,
   "metadata": {},
   "outputs": [],
   "source": [
    "sum_thread_split(a) ≈ baseline_sum(a)"
   ]
  },
  {
   "cell_type": "code",
   "execution_count": 53,
   "metadata": {},
   "outputs": [
    {
     "name": "stdout",
     "output_type": "stream",
     "text": [
      "  72.586 μs (15 allocations: 1.53 KiB)\n"
     ]
    },
    {
     "data": {
      "text/plain": [
       "49941.07260774326"
      ]
     },
     "execution_count": 53,
     "metadata": {},
     "output_type": "execute_result"
    }
   ],
   "source": [
    "sum_thread_split(a)\n",
    "@btime sum_thread_split(a)"
   ]
  },
  {
   "cell_type": "markdown",
   "metadata": {},
   "source": [
    "## Lock"
   ]
  },
  {
   "cell_type": "code",
   "execution_count": 20,
   "metadata": {},
   "outputs": [
    {
     "data": {
      "text/plain": [
       "sum_thread_lock (generic function with 1 method)"
      ]
     },
     "execution_count": 20,
     "metadata": {},
     "output_type": "execute_result"
    }
   ],
   "source": [
    "function sum_thread_lock(A)\n",
    "    result = zero(eltype(A))\n",
    "    cond = ReentrantLock()\n",
    "    len, rem = divrem(length(A), nthreads())\n",
    "    @threads for t in 1:nthreads()\n",
    "        partial = zero(eltype(A))\n",
    "        for i in (1:len) .+ (t-1)*len\n",
    "            @inbounds partial += A[i]\n",
    "        end\n",
    "        lock(cond)\n",
    "        result += partial\n",
    "        unlock(cond)\n",
    "    end\n",
    "    for i in length(A)-rem+1:length(A)\n",
    "        @inbounds result += A[i]\n",
    "    end\n",
    "    return result\n",
    "end"
   ]
  },
  {
   "cell_type": "code",
   "execution_count": 80,
   "metadata": {},
   "outputs": [
    {
     "data": {
      "text/plain": [
       "true"
      ]
     },
     "execution_count": 80,
     "metadata": {},
     "output_type": "execute_result"
    }
   ],
   "source": [
    "sum_thread_lock(a) ≈ baseline_sum(a)"
   ]
  },
  {
   "cell_type": "code",
   "execution_count": 81,
   "metadata": {},
   "outputs": [
    {
     "name": "stdout",
     "output_type": "stream",
     "text": [
      "  72.657 μs (22 allocations: 1.70 KiB)\n"
     ]
    },
    {
     "data": {
      "text/plain": [
       "49941.07260774326"
      ]
     },
     "execution_count": 81,
     "metadata": {},
     "output_type": "execute_result"
    }
   ],
   "source": [
    "sum_thread_lock(a)\n",
    "@btime sum_thread_lock(a)"
   ]
  },
  {
   "cell_type": "code",
   "execution_count": 23,
   "metadata": {},
   "outputs": [
    {
     "name": "stdout",
     "output_type": "stream",
     "text": [
      "baseline sum:\n",
      "  129.418 μs (1 allocation: 16 bytes)\n",
      "naive atomic sum:\n",
      "  3.473 ms (15 allocations: 1.52 KiB)\n",
      "sum thread lock:\n",
      "  72.679 μs (22 allocations: 1.70 KiB)\n",
      "sum thread split\n",
      "  72.583 μs (15 allocations: 1.53 KiB)\n"
     ]
    },
    {
     "data": {
      "text/plain": [
       "49941.07260774326"
      ]
     },
     "execution_count": 23,
     "metadata": {},
     "output_type": "execute_result"
    }
   ],
   "source": [
    "println(\"baseline sum:\")\n",
    "@btime baseline_sum(a)\n",
    "println(\"naive atomic sum:\")\n",
    "@btime naive_atomic_sum(a)\n",
    "println(\"sum thread lock:\")\n",
    "@btime sum_thread_lock(a)\n",
    "println(\"sum thread split\")\n",
    "@btime sum_thread_split(a)"
   ]
  },
  {
   "cell_type": "code",
   "execution_count": null,
   "metadata": {},
   "outputs": [],
   "source": [
    "sum_thread_split(a) == baseline_sum(a)"
   ]
  },
  {
   "cell_type": "code",
   "execution_count": null,
   "metadata": {},
   "outputs": [],
   "source": [
    "sum_thread_split(a) ≈ baseline_sum(a)"
   ]
  },
  {
   "cell_type": "markdown",
   "metadata": {},
   "source": [
    "# @spawn"
   ]
  },
  {
   "cell_type": "code",
   "execution_count": 24,
   "metadata": {},
   "outputs": [],
   "source": [
    "import Base.Threads.@spawn"
   ]
  },
  {
   "cell_type": "code",
   "execution_count": 82,
   "metadata": {},
   "outputs": [
    {
     "name": "stdout",
     "output_type": "stream",
     "text": [
      "1 running on "
     ]
    },
    {
     "data": {
      "text/plain": [
       "Task (runnable) @0x00007f227c60ee60"
      ]
     },
     "execution_count": 82,
     "metadata": {},
     "output_type": "execute_result"
    },
    {
     "name": "stdout",
     "output_type": "stream",
     "text": [
      "1\n",
      "2 running on 1\n",
      "3 running on 1\n",
      "4 running on 1\n",
      "5 running on 1\n",
      "6 running on 1\n",
      "7 running on 1\n",
      "8 running on 1\n",
      "9 running on 1\n",
      "10 running on 1\n"
     ]
    }
   ],
   "source": [
    "function naive_spawn()\n",
    "    @spawn for i= 1:10\n",
    "          println(i,\" running on \", threadid())\n",
    "    end\n",
    "end\n",
    "naive_spawn()"
   ]
  },
  {
   "cell_type": "code",
   "execution_count": 88,
   "metadata": {},
   "outputs": [
    {
     "name": "stdout",
     "output_type": "stream",
     "text": [
      "1\n",
      "2\n",
      "2\n",
      "2\n",
      "2\n",
      "2\n",
      "2\n",
      "2\n",
      "2\n",
      "1\n"
     ]
    }
   ],
   "source": [
    "function task_spawn()\n",
    "    for i = 1:10\n",
    "        @spawn println(threadid())\n",
    "    end\n",
    "end\n",
    "task_spawn()"
   ]
  },
  {
   "cell_type": "code",
   "execution_count": 73,
   "metadata": {},
   "outputs": [
    {
     "data": {
      "text/plain": [
       "spawn_sum! (generic function with 1 method)"
      ]
     },
     "execution_count": 73,
     "metadata": {},
     "output_type": "execute_result"
    }
   ],
   "source": [
    "function spawn_sum!(A::Vector{Float64}, lo, hi)\n",
    "    if lo == hi\n",
    "        return A[lo]\n",
    "    end\n",
    "    mid = (hi + lo + 1) >> 1\n",
    "    leftsum = @spawn spawn_sum!(A, lo, mid-1)\n",
    "    rigthsum = @spawn spawn_sum!(A, mid, hi)\n",
    "    return fetch(leftsum) + fetch(rigthsum)\n",
    "end"
   ]
  },
  {
   "cell_type": "code",
   "execution_count": 55,
   "metadata": {},
   "outputs": [
    {
     "name": "stdout",
     "output_type": "stream",
     "text": [
      "  265.830 ms (1568799 allocations: 149.06 MiB)\n"
     ]
    },
    {
     "data": {
      "text/plain": [
       "49941.07260774379"
      ]
     },
     "execution_count": 55,
     "metadata": {},
     "output_type": "execute_result"
    }
   ],
   "source": [
    "@btime spawn_sum!(a, 1, length(a))"
   ]
  },
  {
   "cell_type": "code",
   "execution_count": 29,
   "metadata": {},
   "outputs": [
    {
     "name": "stdout",
     "output_type": "stream",
     "text": [
      "  129.404 μs (1 allocation: 16 bytes)\n"
     ]
    },
    {
     "data": {
      "text/plain": [
       "49941.07260774294"
      ]
     },
     "execution_count": 29,
     "metadata": {},
     "output_type": "execute_result"
    }
   ],
   "source": [
    "@btime baseline_sum(a)"
   ]
  },
  {
   "cell_type": "markdown",
   "metadata": {},
   "source": [
    "# Comparando @threads e @spawn"
   ]
  },
  {
   "cell_type": "code",
   "execution_count": 30,
   "metadata": {},
   "outputs": [
    {
     "data": {
      "text/plain": [
       "nestedloops_base (generic function with 1 method)"
      ]
     },
     "execution_count": 30,
     "metadata": {},
     "output_type": "execute_result"
    }
   ],
   "source": [
    "function nestedloops_base(nx, ny, nz)\n",
    "   state = ones(nx,ny,nz)\n",
    "   for k = 1:nz\n",
    "      for j = 1:ny\n",
    "         for i = 1:nx\n",
    "            state[i,j,k] *= sin(i*j*k)\n",
    "         end\n",
    "      end\n",
    "   end\n",
    "   return\n",
    "end"
   ]
  },
  {
   "cell_type": "code",
   "execution_count": 31,
   "metadata": {},
   "outputs": [
    {
     "data": {
      "text/plain": [
       "nestedloops_threads_outer_loop (generic function with 1 method)"
      ]
     },
     "execution_count": 31,
     "metadata": {},
     "output_type": "execute_result"
    }
   ],
   "source": [
    "function nestedloops_threads_outer_loop(nx, ny, nz)\n",
    "   state = ones(nx,ny,nz)\n",
    "   Threads.@threads for k = 1:nz\n",
    "      for j = 1:ny\n",
    "         for i = 1:nx\n",
    "            state[i,j,k] *= sin(i*j*k)\n",
    "         end\n",
    "      end\n",
    "   end\n",
    "   return\n",
    "end"
   ]
  },
  {
   "cell_type": "code",
   "execution_count": 32,
   "metadata": {},
   "outputs": [
    {
     "data": {
      "text/plain": [
       "nestedloops_threads_inner_loop (generic function with 1 method)"
      ]
     },
     "execution_count": 32,
     "metadata": {},
     "output_type": "execute_result"
    }
   ],
   "source": [
    "function nestedloops_threads_inner_loop(nx, ny, nz)\n",
    "   state = ones(nx,ny,nz)\n",
    "   Threads.@threads for k = 1:nx\n",
    "      for j = 1:ny\n",
    "         for i = 1:nz\n",
    "            state[i,j,k] *= sin(i*j*k)\n",
    "         end\n",
    "      end\n",
    "   end\n",
    "   return\n",
    "end"
   ]
  },
  {
   "cell_type": "code",
   "execution_count": 33,
   "metadata": {},
   "outputs": [
    {
     "data": {
      "text/plain": [
       "nestedloops_threads_3_loops (generic function with 1 method)"
      ]
     },
     "execution_count": 33,
     "metadata": {},
     "output_type": "execute_result"
    }
   ],
   "source": [
    "function nestedloops_threads_3_loops(nx, ny, nz)\n",
    "   state = ones(nx,ny,nz)\n",
    "   @threads for k = 1:nz\n",
    "      @threads for j = 1:ny\n",
    "         @threads for i = 1:nx\n",
    "            state[i,j,k] *= sin(i*j*k)\n",
    "         end\n",
    "      end\n",
    "   end\n",
    "   return\n",
    "end"
   ]
  },
  {
   "cell_type": "code",
   "execution_count": 36,
   "metadata": {},
   "outputs": [
    {
     "data": {
      "text/plain": [
       "nestedloops_spawn_3_loops (generic function with 1 method)"
      ]
     },
     "execution_count": 36,
     "metadata": {},
     "output_type": "execute_result"
    }
   ],
   "source": [
    "function nestedloops_spawn_3_loops(nx, ny, nz)\n",
    "   state = ones(nx,ny,nz)\n",
    "   @sync @spawn for k = 1:nz\n",
    "      @sync @spawn for j = 1:ny\n",
    "         @sync @spawn for i = 1:nx\n",
    "            state[i,j,k] *= sin(i*j*k)\n",
    "         end\n",
    "      end\n",
    "   end\n",
    "   #println(state[2,2,2])\n",
    "   return\n",
    "end"
   ]
  },
  {
   "cell_type": "code",
   "execution_count": 37,
   "metadata": {},
   "outputs": [
    {
     "data": {
      "text/plain": [
       "nestedloops_spawn_outer_loop (generic function with 1 method)"
      ]
     },
     "execution_count": 37,
     "metadata": {},
     "output_type": "execute_result"
    }
   ],
   "source": [
    "function nestedloops_spawn_outer_loop(nx, ny, nz)\n",
    "   state = ones(nx,ny,nz)\n",
    "   @sync @spawn for k = 1:nz\n",
    "      for j = 1:ny\n",
    "         for i = 1:nx\n",
    "            state[i,j,k] *= sin(i*j*k)\n",
    "         end\n",
    "      end\n",
    "   end\n",
    "   #println(state[2,2,2])\n",
    "   return\n",
    "end"
   ]
  },
  {
   "cell_type": "code",
   "execution_count": 39,
   "metadata": {},
   "outputs": [
    {
     "name": "stdout",
     "output_type": "stream",
     "text": [
      "base line:\n",
      "  0.217147 seconds (2 allocations: 61.035 MiB)\n",
      "@threads on the outer loop:\n",
      "  0.145858 seconds (161 allocations: 61.046 MiB, 5.47% gc time)\n",
      "@threads on the inner loop:\n",
      "  0.141237 seconds (163 allocations: 61.046 MiB)\n",
      "@threads 3 loops:\n",
      "  0.308548 seconds (191.83 k allocations: 77.680 MiB, 2.57% gc time)\n",
      "@spawn 3 loops\n",
      "  0.223603 seconds (13 allocations: 61.036 MiB, 1.68% gc time)\n",
      "@spawn on the outer loop\n",
      "  0.221564 seconds (13 allocations: 61.036 MiB)\n"
     ]
    }
   ],
   "source": [
    "nx, ny, nk = 200, 200, 200\n",
    "nestedloops_base(nx, ny, nk)\n",
    "nestedloops_threads_outer_loop(nx, ny, nk)\n",
    "nestedloops_threads_inner_loop(nx, ny, nk)\n",
    "\n",
    "println(\"base line:\")\n",
    "@time nestedloops_base(nx, ny, nk)\n",
    "println(\"@threads on the outer loop:\")\n",
    "@time nestedloops_threads_outer_loop(nx, ny, nk)\n",
    "println(\"@threads on the inner loop:\")\n",
    "@time nestedloops_threads_inner_loop(nx, ny, nk)\n",
    "println(\"@threads 3 loops:\")\n",
    "@time nestedloops_threads_3_loops(nx, ny, nk)\n",
    "println(\"@spawn 3 loops\")\n",
    "@time nestedloops_spawn_3_loops(nx, ny, nk)\n",
    "println(\"@spawn on the outer loop\")\n",
    "@time nestedloops_spawn_outer_loop(nx, ny, nk)"
   ]
  }
 ],
 "metadata": {
  "kernelspec": {
   "display_name": "Julia 1.4.1",
   "language": "julia",
   "name": "julia-1.4"
  },
  "language_info": {
   "file_extension": ".jl",
   "mimetype": "application/julia",
   "name": "julia",
   "version": "1.4.1"
  }
 },
 "nbformat": 4,
 "nbformat_minor": 4
}
