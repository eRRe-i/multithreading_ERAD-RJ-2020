{
 "cells": [
  {
   "cell_type": "markdown",
   "metadata": {},
   "source": [
    "<tr width=\"100%\" style=\"border: none;\">\n",
    " <td style=\"border: none;\" width=\"100px\">\n",
    "    <img align=\"left\" src=\"https://scontent.fsdu6-1.fna.fbcdn.net/v/t1.0-9/119980404_110377110817815_8742065228034188360_o.png?_nc_cat=102&ccb=2&_nc_sid=09cbfe&_nc_eui2=AeHPOyPo66_nL2m2_55Dc4WT_KIgOzpn0L38oiA7OmfQvY-09vbbvPEIHucRVXVzBvf_VHPuUwZ7maLcwEIj4YH5&_nc_ohc=KabrajgavvEAX_pGRyz&_nc_ht=scontent.fsdu6-1.fna&oh=80637c89d4615ee3b2a04f7f8d62ffb5&oe=5FEB2990\" width=\"130\"/> \n",
    "  </td>\n",
    "  <td style=\"border: none;\" width=\"60%\">\n",
    "    <h1><a>Instalação do Julia e uso no Jupyter Notebook</a></h1>\n",
    "    <td>\n",
    "</tr>\n",
    "<tr width=\"100%\" style=\"border: none; text-align: left\">\n",
    "    <td colspan=\"2\" style=\"border: none; text-align: left\">\n",
    "        <body> Leandro Bataglia, Pedro Machado, Gabriel Marinho, <br> Filipe Braida, Juliana Zamith, Leandro Alvim e Raul Ferreira </body>\n",
    "    </td>\n",
    "    </tr>"
   ]
  },
  {
   "cell_type": "markdown",
   "metadata": {},
   "source": [
    "## O que é a Linguagem Julia ? \n",
    "\n",
    "Julia é uma linguagem de programação desenvolvida com a proposta de reconciliar produtividade e desempenho, aliando uma sintaxe próxima de linguagens como Python e um compilador _just-in-time_ , tendo desempenho proporcional ao de linguagens como C.\n",
    "\n",
    "Julia já tem sido usada em aplicações de larga escala, como: locomoção de robôs em terrenos acidentados (MIT); modelagem macroeconômica, na qual o Julia reduziu o tempo da computação de semanas a dias (Now-Casting Economics); catalogação de objetos astronômicos de forma massivamente paralela (NERSC); sistema de evasão de colisões em pleno voo (Federal Aviation Administration /US)."
   ]
  },
  {
   "cell_type": "markdown",
   "metadata": {},
   "source": [
    "## Como instalar o Julia e o IJulia\n",
    "\n",
    "Para instalar o Julia, é recomendável buscar sempre o binário na página inicial. Atualmente o Julia encontra-se na versão 1.5.3 em https://julialang.org/downloads/. O Julia funciona na linha de comando do terminal, muito parecido com o Python, mas é possível utilizá-la com uma IDE. O Juno é a IDE recomendada que funciona sobre o Atom, mais informações em: https://junolab.org/.\n",
    "![Imgur](https://imgur.com/CB4DkZm.png)"
   ]
  },
  {
   "cell_type": "markdown",
   "metadata": {},
   "source": [
    "## Como fazer o Julia executar no seu Jupyter Notebook?\n",
    "\n",
    "O jupyter notebook é um ambiente que permite a execução de código aliado a marcações de texto em Markdown, muito usado para a criação de anotações e apresentações para aula e pesquisa."
   ]
  },
  {
   "cell_type": "markdown",
   "metadata": {},
   "source": [
    "É possível executar o Julia em seu jupyter notebook, para fazê-lo, instale o pacote IJulia no seu Julia:"
   ]
  },
  {
   "cell_type": "code",
   "execution_count": null,
   "metadata": {},
   "outputs": [],
   "source": [
    "using Pkg; Pkg.add(\"IJulia\"); Pkg.build(\"IJulia\") #não é necessário executar essa linha de código aqui"
   ]
  },
  {
   "cell_type": "markdown",
   "metadata": {},
   "source": [
    "Este processo informará ao jupyter as especificações necessárias para executar o Julia. Mais informações em: https://julialang.github.io/IJulia.jl/stable/manual/installation/.\n",
    "\n",
    "Uma vez instalado. Também é possível abrir o jupyter a partir do Julia. Com o I Julia compilado. execute o comando `notebook()`. O jupyter deve abrir o navegador de sua preferência."
   ]
  },
  {
   "cell_type": "code",
   "execution_count": null,
   "metadata": {},
   "outputs": [],
   "source": [
    "using IJulia; notebook() # este comando compila o pacote IJulia e depois inicia o notebook, \n",
    "                         # apenas como exemplo, não é necessário executar"
   ]
  },
  {
   "cell_type": "markdown",
   "metadata": {},
   "source": [
    "O Julia possui seu próprio ambiente de notebook interativo, chamado Pluto. Ele pode ser instalado e executado de forma fácil e intuitiva através do pacote \"Pluto.jl\"\n",
    "\n",
    "<img width=\"500\" align=\"left\" src='https://i.imgur.com/gTxIItj.png'> </img>"
   ]
  }
 ],
 "metadata": {
  "kernelspec": {
   "display_name": "Julia 1.5.3",
   "language": "julia",
   "name": "julia-1.5"
  },
  "language_info": {
   "file_extension": ".jl",
   "mimetype": "application/julia",
   "name": "julia",
   "version": "1.5.3"
  }
 },
 "nbformat": 4,
 "nbformat_minor": 4
}
