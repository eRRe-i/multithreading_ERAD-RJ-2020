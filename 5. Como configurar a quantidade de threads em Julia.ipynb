{
 "cells": [
  {
   "cell_type": "markdown",
   "metadata": {},
   "source": [
    "# 5. Como configurar a quantidade de threads no ambiente?\n",
    "\n",
    "Iremos trabalhar com threads, para isso, é necessário que o Julia seja inicializado com a quantidade de threads configuradas."
   ]
  },
  {
   "cell_type": "markdown",
   "metadata": {},
   "source": [
    "## Como variável de ambiente\n",
    "**Ubuntu** :\n",
    "É possível definir um valor para uma variável de ambiente antes de iniciar o Julia:\n",
    "\n",
    "<img align='left' src='https://i.imgur.com/fxYMIsT.png'> </img>"
   ]
  },
  {
   "cell_type": "markdown",
   "metadata": {},
   "source": [
    "Também é possível definir o valor de JULIA_NUM_THREADS no arquivo bash para definir a quantidade de threads de forma permanente."
   ]
  },
  {
   "cell_type": "markdown",
   "metadata": {},
   "source": [
    "## Ao iniciar o Julia no terminal\n",
    "Para definir threads ao iniciar o Julia, basta passar o número de threads desejado como argumento ao iniciar o julia\n",
    "\n",
    "<img align='left' src='https://i.imgur.com/AtPZS1V.png'> </img>"
   ]
  },
  {
   "cell_type": "markdown",
   "metadata": {},
   "source": [
    "## No Atom: \n",
    "Com o Juno instalado, vá na Aba Juno -> Settings -> Julia Options -> Number of Threads. Depois, reinicie o Atom.\n",
    "\n",
    "<img align='left' src='https://i.imgur.com/vu4f4RU.png'> </img>"
   ]
  },
  {
   "cell_type": "code",
   "execution_count": null,
   "metadata": {},
   "outputs": [],
   "source": [
    "Aqui, vale dizer que existe um notebbok nativo no Julia "
   ]
  }
 ],
 "metadata": {
  "kernelspec": {
   "display_name": "Julia 1.5.3",
   "language": "julia",
   "name": "julia-1.5"
  },
  "language_info": {
   "file_extension": ".jl",
   "mimetype": "application/julia",
   "name": "julia",
   "version": "1.5.3"
  }
 },
 "nbformat": 4,
 "nbformat_minor": 4
}
