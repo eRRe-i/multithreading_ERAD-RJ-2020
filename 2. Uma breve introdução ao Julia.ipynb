{
 "cells": [
  {
   "cell_type": "markdown",
   "metadata": {},
   "source": [
    "<tr width=\"100%\" style=\"border: none;\">\n",
    " <td style=\"border: none;\" width=\"120px\">\n",
    "    <img align=\"left\" src=\"https://i.imgur.com/zC3NxsV.png\" width=\"130\"/> \n",
    "  </td>\n",
    "  <td style=\"border: none;\" width=\"80%\">\n",
    "    <h1><a>Uma Breve Introdução ao Julia</a></h1>\n",
    "    <td>\n",
    "</tr>\n",
    "<tr width=\"100%\" style=\"border: none; text-align: left\">\n",
    "    <td colspan=\"2\" style=\"border: none; text-align: left\">\n",
    "        <body> Leandro Bataglia, Pedro Machado, Gabriel Marinho, <br> Filipe Braida, Juliana Zamith, Leandro Alvim e Raul Ferreira </body>\n",
    "    </td>\n",
    "    </tr>"
   ]
  },
  {
   "cell_type": "markdown",
   "metadata": {},
   "source": [
    "## Características da Linguagem\n",
    "\n",
    "`Julia` é uma linguagem _open source_ criada para ter **a velocidade do C**, **o dinamismo do Ruby**, **a homoiconicidade** (capacidade da linguagem se referir a si mesma) **do Lisp** com uma **notação matemática como a do Matlab**. Além disso, foi criada, também, para poder ser **usada em programação geral como o Python**, **fácil para estatísticas como o R**, **natual em processamento de string como o Pearl**, **poderosa para álgebra linear como o Matlab**, **boa para juntar programas como o shell**, além de ser **fácil par aprender**. Uma linguagem de programação criada para ser **interativa e compilada**.\n",
    "\n",
    "O design da linguagem teve como principio a alta performance e ela gera código nativo eficiente para múltiplas plataformas através do LLVM. \n",
    "Para começar, a linguagem Julia tem como referencia várias sintaxes de linguagens de programação modernas, como por exemplo o Matlab, Python, Ruby, Perl, Lisp, Go e outras. Algumas características gerais: a **não necessidade do uso do caractere ';'**, as **estruturas dos blocos como as do Matlab, com a _keyword_ `end` usada para definir o fim do bloco** e a **declaração dinâmica**.\n",
    "\n",
    "Mais sobre o porquê da criação da linguagem `Julia` pode ser encontrado acessando o link [Why we created Julia]\n",
    "\n",
    "[why we created julia]: https://julialang.org/blog/2012/02/why-we-created-julia/"
   ]
  },
  {
   "cell_type": "markdown",
   "metadata": {},
   "source": [
    "## Tipos\n",
    "\n",
    "`Julia` possui uma ampla variedade de tipos, com uma grande possibilidade de tipos numéricos por conta da definição do tamanho do número de bits e do sinal. Alguns dos tipos mais comuns em `Julia` são: `Float16`, `Float32` e `Float64` para tipos primitivos de **ponto flutuante**; `Bool` para **booleanos**; `Char` para **caracteres**; `Int8`, `UInt8`, `Int16`, `UInt16`, `Int32`, `UInt32`, `Int64`, `UInt64`, `Int128` e `UInt128` para **inteiros**. Podemos ver, nos tipos inteiros, que temos a **definição do tamanho dos bytes** e o **sinal**, representado pela adição da letra U antes do tipo.\n",
    "\n",
    "Além disso, `Julia` também conta com estruturas básicas como **tuplas**, **strings**, **dicionários** e **arrays** que serão vistos mais pra frente."
   ]
  },
  {
   "cell_type": "markdown",
   "metadata": {},
   "source": [
    "## Declaração de variáveis\n",
    "\n",
    "Julia é uma linguagem que oferece o melhor dos dois mundos (estático e dinâmico) no que tange a tipagem dos dados. Ele possui um sistema de tipagem dinâmica, e consegue ganhar vantagens que derivam da tipagem estática inferindo ou definindo o tipo específico das variáveis."
   ]
  },
  {
   "cell_type": "code",
   "execution_count": 95,
   "metadata": {},
   "outputs": [
    {
     "data": {
      "text/plain": [
       "Int64"
      ]
     },
     "execution_count": 95,
     "metadata": {},
     "output_type": "execute_result"
    }
   ],
   "source": [
    "b = 3\n",
    "a = b + 1\n",
    "typeof(a)"
   ]
  },
  {
   "cell_type": "code",
   "execution_count": 96,
   "metadata": {},
   "outputs": [
    {
     "data": {
      "text/plain": [
       "Float64"
      ]
     },
     "execution_count": 96,
     "metadata": {},
     "output_type": "execute_result"
    }
   ],
   "source": [
    "a = b + 1.0\n",
    "typeof(a)"
   ]
  },
  {
   "cell_type": "code",
   "execution_count": 97,
   "metadata": {},
   "outputs": [
    {
     "data": {
      "text/plain": [
       "Int64"
      ]
     },
     "execution_count": 97,
     "metadata": {},
     "output_type": "execute_result"
    }
   ],
   "source": [
    "x = 20\n",
    "typeof(x)"
   ]
  },
  {
   "cell_type": "code",
   "execution_count": 98,
   "metadata": {},
   "outputs": [
    {
     "data": {
      "text/plain": [
       "Float64"
      ]
     },
     "execution_count": 98,
     "metadata": {},
     "output_type": "execute_result"
    }
   ],
   "source": [
    "x = 1.5\n",
    "typeof(x)"
   ]
  },
  {
   "cell_type": "code",
   "execution_count": 99,
   "metadata": {},
   "outputs": [
    {
     "data": {
      "text/plain": [
       "String"
      ]
     },
     "execution_count": 99,
     "metadata": {},
     "output_type": "execute_result"
    }
   ],
   "source": [
    "x = \"10\"\n",
    "typeof(x)"
   ]
  },
  {
   "cell_type": "markdown",
   "metadata": {},
   "source": [
    "Nos casos acima, podem ser atribuídos diferentes tipos de valores a variável `x`. Isto faz com que o programa não tenha conhecimento dos tipos da variável até a hora da execução. Isso dá ao programador uma maior flexibilidade na hora de escrever o código, mas, por outro lado, faz com que tenhamos que ter mais cuidado ao escrevê-lo.\n",
    "\n",
    "Por outro lado, `Julia` também permite a definição de tipos para as variáveis. Para fazê-lo, é necessário o uso do operador `::` que atribui o tipo à variável. Porém, não é possível a definição de tipos no escopo global."
   ]
  },
  {
   "cell_type": "code",
   "execution_count": 100,
   "metadata": {},
   "outputs": [
    {
     "ename": "LoadError",
     "evalue": "syntax: type declarations on global variables are not yet supported",
     "output_type": "error",
     "traceback": [
      "syntax: type declarations on global variables are not yet supported",
      "",
      "Stacktrace:",
      " [1] top-level scope at In[100]:1",
      " [2] include_string(::Function, ::Module, ::String, ::String) at ./loading.jl:1091"
     ]
    }
   ],
   "source": [
    "x::Int64 = 1"
   ]
  },
  {
   "cell_type": "code",
   "execution_count": 101,
   "metadata": {},
   "outputs": [
    {
     "data": {
      "text/plain": [
       "1"
      ]
     },
     "execution_count": 101,
     "metadata": {},
     "output_type": "execute_result"
    }
   ],
   "source": [
    "let\n",
    "    y::Int64 = 1\n",
    "end"
   ]
  },
  {
   "cell_type": "code",
   "execution_count": 102,
   "metadata": {},
   "outputs": [
    {
     "ename": "LoadError",
     "evalue": "MethodError: Cannot `convert` an object of type String to an object of type Int64\nClosest candidates are:\n  convert(::Type{T}, !Matched::T) where T<:Number at number.jl:6\n  convert(::Type{T}, !Matched::Number) where T<:Number at number.jl:7\n  convert(::Type{T}, !Matched::Ptr) where T<:Integer at pointer.jl:23\n  ...",
     "output_type": "error",
     "traceback": [
      "MethodError: Cannot `convert` an object of type String to an object of type Int64\nClosest candidates are:\n  convert(::Type{T}, !Matched::T) where T<:Number at number.jl:6\n  convert(::Type{T}, !Matched::Number) where T<:Number at number.jl:7\n  convert(::Type{T}, !Matched::Ptr) where T<:Integer at pointer.jl:23\n  ...",
      "",
      "Stacktrace:",
      " [1] top-level scope at In[102]:3",
      " [2] include_string(::Function, ::Module, ::String, ::String) at ./loading.jl:1091"
     ]
    }
   ],
   "source": [
    "let\n",
    "    y::Int64 = 1\n",
    "    y = \"casa\"\n",
    "end"
   ]
  },
  {
   "cell_type": "markdown",
   "metadata": {},
   "source": [
    "### Situações com a definição de tipos\n",
    "\n",
    "A definição de tipos, atualmente, é suportada em contextos de **funções**. Neles, podemos definir os tipos das variáveis **de dentro da função**, **de seus parâmetros** e de seu **retorno**. Além disso, `Julia` também permite a definição de tipos de variáveis dentro do escopo de uma **struct**."
   ]
  },
  {
   "cell_type": "code",
   "execution_count": null,
   "metadata": {},
   "outputs": [],
   "source": [
    "# Definição do tipo da variável X no escopo da função foo1()\n",
    "function foo1()\n",
    "   x::Int64 = 100\n",
    "   x\n",
    "end\n",
    "\n",
    "# Definição do tipo da variável X no escopo da função e de seu retorno\n",
    "function foo2()::Int64\n",
    "   x::Int64 = 100\n",
    "   x\n",
    "end\n",
    "\n",
    "# Definição do tipo da do parâmetro X da função foo3()\n",
    "function foo3(x::Int64)\n",
    "   x\n",
    "end\n",
    "\n",
    "# Definição do tipo da variável number no escopo da struct.\n",
    "struct teste\n",
    "    number::Int64\n",
    "end"
   ]
  },
  {
   "cell_type": "markdown",
   "metadata": {},
   "source": [
    "## Operadores\n",
    "\n",
    "Julia conta com operadores **lógicos**, **aritméticos** e **relacionais**.\n",
    "\n",
    "### Operadores lógicos\n",
    "Os operadores lógicos são curto-circuitados. Isso significa que não precisamos fazer TODAS as relações caso uma delas já nos diz o resultado."
   ]
  },
  {
   "cell_type": "code",
   "execution_count": 103,
   "metadata": {},
   "outputs": [
    {
     "data": {
      "text/plain": [
       "false"
      ]
     },
     "execution_count": 103,
     "metadata": {},
     "output_type": "execute_result"
    }
   ],
   "source": [
    "# Usando o operador AND, representado por &&\n",
    "false && true"
   ]
  },
  {
   "cell_type": "code",
   "execution_count": 104,
   "metadata": {},
   "outputs": [
    {
     "data": {
      "text/plain": [
       "true"
      ]
     },
     "execution_count": 104,
     "metadata": {},
     "output_type": "execute_result"
    }
   ],
   "source": [
    "# Usando o operador OR, representado por ||\n",
    "true || false"
   ]
  },
  {
   "cell_type": "code",
   "execution_count": 105,
   "metadata": {},
   "outputs": [
    {
     "data": {
      "text/plain": [
       "false"
      ]
     },
     "execution_count": 105,
     "metadata": {},
     "output_type": "execute_result"
    }
   ],
   "source": [
    "# Usando o operador NOT, representado por !\n",
    "!true"
   ]
  },
  {
   "cell_type": "code",
   "execution_count": 106,
   "metadata": {},
   "outputs": [
    {
     "data": {
      "text/plain": [
       "true"
      ]
     },
     "execution_count": 106,
     "metadata": {},
     "output_type": "execute_result"
    }
   ],
   "source": [
    "true || println(\"Não é executado\")"
   ]
  },
  {
   "cell_type": "code",
   "execution_count": 107,
   "metadata": {},
   "outputs": [
    {
     "name": "stdout",
     "output_type": "stream",
     "text": [
      "É executado\n"
     ]
    }
   ],
   "source": [
    "false || println(\"É executado\")"
   ]
  },
  {
   "cell_type": "markdown",
   "metadata": {},
   "source": [
    "### Operadores aritméticos"
   ]
  },
  {
   "cell_type": "code",
   "execution_count": 108,
   "metadata": {},
   "outputs": [
    {
     "data": {
      "text/plain": [
       "22"
      ]
     },
     "execution_count": 108,
     "metadata": {},
     "output_type": "execute_result"
    }
   ],
   "source": [
    "a = 19\n",
    "b = 3\n",
    "\n",
    "a + b"
   ]
  },
  {
   "cell_type": "code",
   "execution_count": 109,
   "metadata": {},
   "outputs": [
    {
     "data": {
      "text/plain": [
       "16"
      ]
     },
     "execution_count": 109,
     "metadata": {},
     "output_type": "execute_result"
    }
   ],
   "source": [
    "a - b"
   ]
  },
  {
   "cell_type": "code",
   "execution_count": 110,
   "metadata": {},
   "outputs": [
    {
     "data": {
      "text/plain": [
       "57"
      ]
     },
     "execution_count": 110,
     "metadata": {},
     "output_type": "execute_result"
    }
   ],
   "source": [
    "a * b"
   ]
  },
  {
   "cell_type": "code",
   "execution_count": 111,
   "metadata": {},
   "outputs": [
    {
     "data": {
      "text/plain": [
       "6.333333333333333"
      ]
     },
     "execution_count": 111,
     "metadata": {},
     "output_type": "execute_result"
    }
   ],
   "source": [
    "a / b"
   ]
  },
  {
   "cell_type": "code",
   "execution_count": 112,
   "metadata": {},
   "outputs": [
    {
     "data": {
      "text/plain": [
       "6"
      ]
     },
     "execution_count": 112,
     "metadata": {},
     "output_type": "execute_result"
    }
   ],
   "source": [
    "a ÷ b"
   ]
  },
  {
   "cell_type": "code",
   "execution_count": 113,
   "metadata": {},
   "outputs": [
    {
     "data": {
      "text/plain": [
       "0.15789473684210525"
      ]
     },
     "execution_count": 113,
     "metadata": {},
     "output_type": "execute_result"
    }
   ],
   "source": [
    "a \\ b"
   ]
  },
  {
   "cell_type": "code",
   "execution_count": 114,
   "metadata": {},
   "outputs": [
    {
     "data": {
      "text/plain": [
       "6859"
      ]
     },
     "execution_count": 114,
     "metadata": {},
     "output_type": "execute_result"
    }
   ],
   "source": [
    "a ^ b"
   ]
  },
  {
   "cell_type": "code",
   "execution_count": 115,
   "metadata": {},
   "outputs": [
    {
     "data": {
      "text/plain": [
       "1"
      ]
     },
     "execution_count": 115,
     "metadata": {},
     "output_type": "execute_result"
    }
   ],
   "source": [
    "a % b"
   ]
  },
  {
   "cell_type": "code",
   "execution_count": 116,
   "metadata": {},
   "outputs": [
    {
     "data": {
      "text/plain": [
       "42"
      ]
     },
     "execution_count": 116,
     "metadata": {},
     "output_type": "execute_result"
    }
   ],
   "source": [
    "α, β = 21, 2\n",
    "\n",
    "🎒🚀 = 2α "
   ]
  },
  {
   "cell_type": "code",
   "execution_count": 117,
   "metadata": {},
   "outputs": [
    {
     "data": {
      "text/plain": [
       "42"
      ]
     },
     "execution_count": 117,
     "metadata": {},
     "output_type": "execute_result"
    }
   ],
   "source": [
    "🎒🚀"
   ]
  },
  {
   "cell_type": "markdown",
   "metadata": {},
   "source": [
    "### Operadores relacionais\n",
    "\n",
    "Sobre os operadores relacionais é importante destacar que eles geram **valores booleanos**. Isto é, caso atribuamos uma operação relacional a uma variável, esta pode receber os valores `true` ou `false`."
   ]
  },
  {
   "cell_type": "code",
   "execution_count": 118,
   "metadata": {},
   "outputs": [
    {
     "data": {
      "text/plain": [
       "true"
      ]
     },
     "execution_count": 118,
     "metadata": {},
     "output_type": "execute_result"
    }
   ],
   "source": [
    "a = 19\n",
    "b = 9\n",
    "\n",
    "a > b"
   ]
  },
  {
   "cell_type": "code",
   "execution_count": 119,
   "metadata": {},
   "outputs": [
    {
     "data": {
      "text/plain": [
       "false"
      ]
     },
     "execution_count": 119,
     "metadata": {},
     "output_type": "execute_result"
    }
   ],
   "source": [
    "a < b"
   ]
  },
  {
   "cell_type": "code",
   "execution_count": 120,
   "metadata": {},
   "outputs": [
    {
     "data": {
      "text/plain": [
       "false"
      ]
     },
     "execution_count": 120,
     "metadata": {},
     "output_type": "execute_result"
    }
   ],
   "source": [
    "a == b"
   ]
  },
  {
   "cell_type": "code",
   "execution_count": 121,
   "metadata": {},
   "outputs": [
    {
     "data": {
      "text/plain": [
       "true"
      ]
     },
     "execution_count": 121,
     "metadata": {},
     "output_type": "execute_result"
    }
   ],
   "source": [
    "a != b"
   ]
  },
  {
   "cell_type": "code",
   "execution_count": 122,
   "metadata": {},
   "outputs": [
    {
     "data": {
      "text/plain": [
       "true"
      ]
     },
     "execution_count": 122,
     "metadata": {},
     "output_type": "execute_result"
    }
   ],
   "source": [
    "a >= b"
   ]
  },
  {
   "cell_type": "code",
   "execution_count": 124,
   "metadata": {},
   "outputs": [
    {
     "data": {
      "text/plain": [
       "Bool"
      ]
     },
     "execution_count": 124,
     "metadata": {},
     "output_type": "execute_result"
    }
   ],
   "source": [
    "typeof(a <= b)"
   ]
  },
  {
   "cell_type": "markdown",
   "metadata": {},
   "source": [
    "## Funções\n",
    "\n",
    "Nos exemplos acima, mostramos a declaração de tipos em uma função. Essa função, assim como as funções no geral em Julia e em outras linguagens, são operações agrupadas em um escopo que serão executadas toda vez que a função for chamada. Desta forma, podemos evitar repetição de código, deixando-o mais limpo e legível.\n",
    "As funções em Julia são _first-class citizens_. Além disso, existe um suporte para função anônima e, para ter a sintaxe próxima da matemática, existem diversas forma para a declaração da função.\n",
    "\n",
    "Para definir uma função, começamos com a *keyword* `function` seguida pelo nome da função e, entre parênteses os parâmetros. Seu corpo, assim como as estruturas condicionais ou de repetição (faladas mais adiante), possuem o corpo indentado com um *tab*, o que não é necessário, e terminam com a *keyword* `end`."
   ]
  },
  {
   "cell_type": "code",
   "execution_count": null,
   "metadata": {},
   "outputs": [],
   "source": [
    "function example1(x)\n",
    "    return x + 1\n",
    "end"
   ]
  },
  {
   "cell_type": "code",
   "execution_count": 125,
   "metadata": {},
   "outputs": [
    {
     "data": {
      "text/plain": [
       "3"
      ]
     },
     "execution_count": 125,
     "metadata": {},
     "output_type": "execute_result"
    }
   ],
   "source": [
    "example2(x) = x + 1\n",
    "example2(2)"
   ]
  },
  {
   "cell_type": "code",
   "execution_count": 126,
   "metadata": {},
   "outputs": [
    {
     "data": {
      "text/plain": [
       "3"
      ]
     },
     "execution_count": 126,
     "metadata": {},
     "output_type": "execute_result"
    }
   ],
   "source": [
    "example3 = x -> x + 1 #Exemplo de função anônima\n",
    "example3(2)"
   ]
  },
  {
   "cell_type": "code",
   "execution_count": null,
   "metadata": {},
   "outputs": [],
   "source": [
    "function example4(x) #o retorno é opcional e será retornado o último valor executado\n",
    "    x + 1\n",
    "end"
   ]
  },
  {
   "cell_type": "code",
   "execution_count": null,
   "metadata": {},
   "outputs": [],
   "source": [
    "function example5() #É possível ter retorno void em Julia\n",
    "    return nothing\n",
    "end"
   ]
  },
  {
   "cell_type": "code",
   "execution_count": null,
   "metadata": {},
   "outputs": [],
   "source": [
    "function example6()\n",
    "    nothing\n",
    "end"
   ]
  },
  {
   "cell_type": "markdown",
   "metadata": {},
   "source": [
    "#### Exemplo\n",
    "\n",
    "Caso queiramos implementar uma função que recebe dois valores e nos retorna a soma desses valores, fazemos"
   ]
  },
  {
   "cell_type": "code",
   "execution_count": 127,
   "metadata": {},
   "outputs": [
    {
     "data": {
      "text/plain": [
       "sum (generic function with 1 method)"
      ]
     },
     "execution_count": 127,
     "metadata": {},
     "output_type": "execute_result"
    }
   ],
   "source": [
    "function sum(a, b)\n",
    "    return a + b\n",
    "end"
   ]
  },
  {
   "cell_type": "markdown",
   "metadata": {},
   "source": [
    "A função acima nos retorna a soma de dois números. Porém, a função não define o tipo dos parâmetros e do retorno da função. Assim, em tese, é possível passar uma `String` para a função, o que resultaria em um erro. Se quisermos definir o tipo dos parâmetros e do retorno da função, vamos utilizar o conceito visto anteriormente sobre tipagem. Faremos:"
   ]
  },
  {
   "cell_type": "code",
   "execution_count": 128,
   "metadata": {},
   "outputs": [
    {
     "data": {
      "text/plain": [
       "sum (generic function with 2 methods)"
      ]
     },
     "execution_count": 128,
     "metadata": {},
     "output_type": "execute_result"
    }
   ],
   "source": [
    "function sum(a::Int8, b::Int8)::Int8\n",
    "    return a + b\n",
    "end"
   ]
  },
  {
   "cell_type": "markdown",
   "metadata": {},
   "source": [
    "Desta forma fazemos com que a função obrigue os parâmetros recebidos a serem do tipo `Int8` e o retorno a ser, também, um `Int8`.\n",
    "\n",
    "Outra maneira de se criar uma função é a partir desta forma mais curta. ([Manual de funções do Julia])\n",
    "\n",
    "[Manual de funções do Julia]: https://docs.julialang.org/en/v1/manual/functions/"
   ]
  },
  {
   "cell_type": "code",
   "execution_count": null,
   "metadata": {},
   "outputs": [],
   "source": [
    "sum(a::Int8, b::Int8)::Int8 = a + b"
   ]
  },
  {
   "cell_type": "markdown",
   "metadata": {},
   "source": [
    "## Estruturas condicionais\n",
    "\n",
    "Quando queremos dar um rumo à tarefa de acordo com um condição, utilizamos as chamadas **estruturas condicionais**. Estas são estruturas que utilizam condições para a realização de alguma tarefa. Assim, caso tenhamos dois ou mais fluxos de execução, podemos usar essas estruturas para separar e definir cada um desses possíveis caminhos de acordo com o resultado desta condição. Este resultado é de tipo `Bool`, que pode ser verdadeiro, com o valor lógico `true`, ou falso, com o valor lógico `false`."
   ]
  },
  {
   "cell_type": "code",
   "execution_count": 129,
   "metadata": {},
   "outputs": [],
   "source": [
    "x = 3\n",
    "y = 5\n",
    "\n",
    "if x > y\n",
    "    print(\"X é maior.\")\n",
    "end"
   ]
  },
  {
   "cell_type": "markdown",
   "metadata": {},
   "source": [
    "Acima temos uma estrutura condicional simples, onde apenas o caso verdadeiro é executado. No entanto, caso queiramos que alguma tarefa seja executada para o caso\n",
    "de essa expressão retornar o valor `false`, utilizamos a *keyword* `else`, da seguinte forma:"
   ]
  },
  {
   "cell_type": "code",
   "execution_count": 130,
   "metadata": {},
   "outputs": [
    {
     "name": "stdout",
     "output_type": "stream",
     "text": [
      "X é menor."
     ]
    }
   ],
   "source": [
    "x = 3\n",
    "y = 5\n",
    "\n",
    "if x > y\n",
    "    print(\"X é maior\")\n",
    "else\n",
    "    print(\"X é menor.\")\n",
    "end"
   ]
  },
  {
   "cell_type": "markdown",
   "metadata": {},
   "source": [
    "Desta forma, caso o valor contido em X NÃO seja maior do que o valor contido em Y, o programa irá mostrar uma outra mensagem, informando que X é menor. \n",
    "Porém, existe uma outra condição para o caso de a primeira ser falsa: o caso em que x é **igual** a y. Se deixarmos o programa do jeito que está acima e\n",
    "essa condição for satisfeita, teremos uma saída errada. Podemos, para resolver esse problema, adicionar um outro `if` para que ele teste se o valor contido\n",
    "em x é igual ao valor contido em Y. Entretanto, usar apenas `if`s faz com que nosso programa perca desempenho, visto que ele terá de testar **todas** as condições\n",
    "mesmo que a primeira já tenha dado o valor `true`.\n",
    "Assim, conheceremos uma nova keyword: a `elseif`."
   ]
  },
  {
   "cell_type": "code",
   "execution_count": 131,
   "metadata": {},
   "outputs": [
    {
     "name": "stdout",
     "output_type": "stream",
     "text": [
      "X é menor do que Y"
     ]
    }
   ],
   "source": [
    "x = 3\n",
    "y = 5\n",
    "\n",
    "if x > y\n",
    "    print(\"X é maior do que Y\")\n",
    "elseif x == y\n",
    "    print(\"X é igual a Y\")\n",
    "else\n",
    "    print(\"X é menor do que Y\")\n",
    "end"
   ]
  },
  {
   "cell_type": "markdown",
   "metadata": {},
   "source": [
    "O `elseif` faz a mesma coisa que um `if` dentro um `else`. Ou seja, caso a expressão do `if` retorne um valor `false`, o `elseif` é acionado e faz uma outra condição.\n",
    "No exemplo acima, a condição é verificar se o valor de X é igual ao valor de Y.\n",
    "\n",
    "### Operador ternário\n",
    "\n",
    "O operador ternário funciona como um if-else mais simplificado. Para fazê-lo, basta digitar `a ? B : c`, onde `a` é a condição, `b` é a operação caso a condição seja \n",
    "verdadeira e `c` é a operação caso a condição seja falsa.\n",
    "Por exemplo, suponhamos que queremos *printar* uma mensagem na tela dependendo do valor de um número, armazenado em `x`: caso este valor seja maior do que 3.14, *printamos*\n",
    "\"Maior que PI\" e, caso contrário, \"Menor ou igual a PI\"."
   ]
  },
  {
   "cell_type": "code",
   "execution_count": 132,
   "metadata": {},
   "outputs": [
    {
     "name": "stdout",
     "output_type": "stream",
     "text": [
      "Maior que PI"
     ]
    }
   ],
   "source": [
    "x = 3.18\n",
    "print(x > 3.14 ? \"Maior que PI\" : \"Menor ou igual a PI\")"
   ]
  },
  {
   "cell_type": "markdown",
   "metadata": {},
   "source": [
    "Desta forma, temos um print mais simplificado. Se usássemos, ao invés disso, o if-else convencional, teríamos 5 linhas de código."
   ]
  },
  {
   "cell_type": "markdown",
   "metadata": {},
   "source": [
    "## Vetores\n",
    "\n",
    "Vetores (ou *arrays* unidimensionais) são estruturas que armazenam dados. Isto é, caso queiramos armazenar o nome de todos os alunos de uma sala, por exemplo, podemos armazená-los em um vetor. Em Julia, vetores são inicializados utilizando `[1, 2, 3]`, quase como no Matlab."
   ]
  },
  {
   "cell_type": "code",
   "execution_count": 133,
   "metadata": {},
   "outputs": [
    {
     "data": {
      "text/plain": [
       "3-element Array{Int64,1}:\n",
       " 1\n",
       " 2\n",
       " 3"
      ]
     },
     "execution_count": 133,
     "metadata": {},
     "output_type": "execute_result"
    }
   ],
   "source": [
    "array = [1, 2, 3]"
   ]
  },
  {
   "cell_type": "code",
   "execution_count": null,
   "metadata": {},
   "outputs": [],
   "source": [
    "🚀 = () -> nothing # Uma função declarada em uma variável"
   ]
  },
  {
   "cell_type": "code",
   "execution_count": 134,
   "metadata": {},
   "outputs": [
    {
     "data": {
      "text/plain": [
       "3-element Array{Any,1}:\n",
       "   #5 (generic function with 1 method)\n",
       "   \"Mochila\"\n",
       " 42"
      ]
     },
     "execution_count": 134,
     "metadata": {},
     "output_type": "execute_result"
    }
   ],
   "source": [
    "a = [🚀, \"Mochila\", 42]"
   ]
  },
  {
   "cell_type": "markdown",
   "metadata": {},
   "source": [
    "O acesso a um elemento array é feito com `[]`, com seu índice iniciando em 1, diferentemente do C que inicia em 0. Assim, caso queiramos retornar a primeira posição do array, devemos o fazer com `array[1]`."
   ]
  },
  {
   "cell_type": "code",
   "execution_count": 135,
   "metadata": {},
   "outputs": [
    {
     "data": {
      "text/plain": [
       "5-element Array{Int64,1}:\n",
       " 10\n",
       " 20\n",
       " 30\n",
       " 40\n",
       " 50"
      ]
     },
     "execution_count": 135,
     "metadata": {},
     "output_type": "execute_result"
    }
   ],
   "source": [
    "array = [10, 20, 30, 40, 50]"
   ]
  },
  {
   "cell_type": "code",
   "execution_count": 136,
   "metadata": {},
   "outputs": [
    {
     "data": {
      "text/plain": [
       "10"
      ]
     },
     "execution_count": 136,
     "metadata": {},
     "output_type": "execute_result"
    }
   ],
   "source": [
    "array[1] # printa o valor 10"
   ]
  },
  {
   "cell_type": "code",
   "execution_count": 137,
   "metadata": {},
   "outputs": [
    {
     "ename": "LoadError",
     "evalue": "BoundsError: attempt to access 5-element Array{Int64,1} at index [0]",
     "output_type": "error",
     "traceback": [
      "BoundsError: attempt to access 5-element Array{Int64,1} at index [0]",
      "",
      "Stacktrace:",
      " [1] getindex(::Array{Int64,1}, ::Int64) at ./array.jl:809",
      " [2] top-level scope at In[137]:1",
      " [3] include_string(::Function, ::Module, ::String, ::String) at ./loading.jl:1091"
     ]
    }
   ],
   "source": [
    "array[0] # printa um erro de acesso às posições do vetor, chamado de BoundsError"
   ]
  },
  {
   "cell_type": "markdown",
   "metadata": {},
   "source": [
    "### Inicialização com `zeros()` ou `ones()`\n",
    "\n",
    "Além de inicializar o vetor da forma que vimos acima, o `Julia` nos permite criar arrays com todos os elementos zerados utilizando a função `zeros()` ou a função `ones()`, que pode receber parâmetros indicando o tipo e a dimensão do nosso array. Caso o tipo não seja definido, como vemos nos dois primeiros exemplos abaixo, o array é criado com o tipo `Float64`. Já nos dois exemplos mais abaixo, temos a definição do tipo do array para `Int`."
   ]
  },
  {
   "cell_type": "code",
   "execution_count": 138,
   "metadata": {},
   "outputs": [
    {
     "data": {
      "text/plain": [
       "2-element Array{Float64,1}:\n",
       " 0.0\n",
       " 0.0"
      ]
     },
     "execution_count": 138,
     "metadata": {},
     "output_type": "execute_result"
    }
   ],
   "source": [
    "zeros(2)"
   ]
  },
  {
   "cell_type": "code",
   "execution_count": 139,
   "metadata": {},
   "outputs": [
    {
     "data": {
      "text/plain": [
       "2-element Array{Float64,1}:\n",
       " 1.0\n",
       " 1.0"
      ]
     },
     "execution_count": 139,
     "metadata": {},
     "output_type": "execute_result"
    }
   ],
   "source": [
    "ones(2)"
   ]
  },
  {
   "cell_type": "code",
   "execution_count": 141,
   "metadata": {},
   "outputs": [
    {
     "data": {
      "text/plain": [
       "2-element Array{Int8,1}:\n",
       " 0\n",
       " 0"
      ]
     },
     "execution_count": 141,
     "metadata": {},
     "output_type": "execute_result"
    }
   ],
   "source": [
    "zeros(Int8, 2)"
   ]
  },
  {
   "cell_type": "code",
   "execution_count": 142,
   "metadata": {},
   "outputs": [
    {
     "data": {
      "text/plain": [
       "2-element Array{Int64,1}:\n",
       " 1\n",
       " 1"
      ]
     },
     "execution_count": 142,
     "metadata": {},
     "output_type": "execute_result"
    }
   ],
   "source": [
    "ones(Int, 2)"
   ]
  },
  {
   "cell_type": "markdown",
   "metadata": {},
   "source": [
    "### [1, 2, 3] vs [1 2 3]"
   ]
  },
  {
   "cell_type": "markdown",
   "metadata": {},
   "source": [
    "Criar um array utilizando vírgulas ou não para separar os elementos pode ter uma diferença maior do que parece. Por exemplo, criar um array utilizando o código `a = [1, 2, 3]`, como vimos anteriormente, cria um array de 3 elementos. Porém, quando fazemos o mesmo sem utilizar as vírgulas, temos uma **matriz 1x3 (array de duas dimensões)** e não um **array de 3 elementos**."
   ]
  },
  {
   "cell_type": "code",
   "execution_count": 143,
   "metadata": {},
   "outputs": [
    {
     "data": {
      "text/plain": [
       "3-element Array{Int64,1}:\n",
       " 1\n",
       " 2\n",
       " 3"
      ]
     },
     "execution_count": 143,
     "metadata": {},
     "output_type": "execute_result"
    }
   ],
   "source": [
    "array = [1, 2, 3]"
   ]
  },
  {
   "cell_type": "code",
   "execution_count": 144,
   "metadata": {},
   "outputs": [
    {
     "data": {
      "text/plain": [
       "1×3 Array{Int64,2}:\n",
       " 1  2  3"
      ]
     },
     "execution_count": 144,
     "metadata": {},
     "output_type": "execute_result"
    }
   ],
   "source": [
    "matrix = [1 2 3]"
   ]
  },
  {
   "cell_type": "markdown",
   "metadata": {},
   "source": [
    "## Matrizes\n",
    "\n",
    "As matrizes são formalmente definidas como uma sequência de valores distribuídos múltiplas dimensões, e são uma das estruturas mais utilizadas para o agrupamento de valores com uma mesma finalidade.\n",
    "\n",
    "As formas de inicialização desta estrutura são simples. Como podemos ver abaixo, ela funciona, basicamente, como a criação do array unidimensional. Porém, ao invés de usarmos vírgula para separar os elementos de uma linha, utilizamos espaço e, além disso, separamos as linhas umas das outras, como no exemplo:"
   ]
  },
  {
   "cell_type": "code",
   "execution_count": 145,
   "metadata": {},
   "outputs": [
    {
     "data": {
      "text/plain": [
       "2×3 Array{Int64,2}:\n",
       " 1  2  3\n",
       " 4  5  6"
      ]
     },
     "execution_count": 145,
     "metadata": {},
     "output_type": "execute_result"
    }
   ],
   "source": [
    "matrix = [1 2 3; 4 5 6]"
   ]
  },
  {
   "cell_type": "code",
   "execution_count": 158,
   "metadata": {},
   "outputs": [
    {
     "data": {
      "text/plain": [
       "2"
      ]
     },
     "execution_count": 158,
     "metadata": {},
     "output_type": "execute_result"
    }
   ],
   "source": [
    "matrix[1, 2]  # é possível referir-se a uma estrutura multidimensional de forma unidimensional"
   ]
  },
  {
   "cell_type": "markdown",
   "metadata": {},
   "source": [
    "### Inicialização com `zeros()` ou `ones()`\n",
    "\n",
    "Assim como podemos inicializar um array unidimensional utilizando as funções `zeros()` e `ones()`, podemos o fazer para criar matrizes, ou arrays multi-dimensionais. Basta adicionar um outro parâmetro, indicando mais uma dimensão. Abaixo, criamos duas matrizes 2x3 utilizando esses métodos."
   ]
  },
  {
   "cell_type": "code",
   "execution_count": 149,
   "metadata": {},
   "outputs": [
    {
     "data": {
      "text/plain": [
       "2×3 Array{Int64,2}:\n",
       " 0  0  0\n",
       " 0  0  0"
      ]
     },
     "execution_count": 149,
     "metadata": {},
     "output_type": "execute_result"
    }
   ],
   "source": [
    "zeros(Int, 2, 3)"
   ]
  },
  {
   "cell_type": "code",
   "execution_count": 153,
   "metadata": {},
   "outputs": [
    {
     "data": {
      "text/plain": [
       "2×3 Array{Int64,2}:\n",
       " 1  1  1\n",
       " 1  1  1"
      ]
     },
     "execution_count": 153,
     "metadata": {},
     "output_type": "execute_result"
    }
   ],
   "source": [
    "ones(Int, 2, 3)"
   ]
  },
  {
   "cell_type": "markdown",
   "metadata": {},
   "source": [
    "## Estruturas de repetição\n",
    "\n",
    "Os laços de repetição são estruturas que têm como objetivo a execução repetida de uma determinada tarefa ao decorrer do código. Por exemplo, caso queiramos percorrer um vetor, podemos utilizar uma estrutura de repetição para iterar sobre os elementos armazenados na estrutura. O uso dessas estruturas de repetição facilitam nosso trabalho na manipulação de arrays.\n",
    "Em Julia, estas estruturas têm como base alguma expressão condicional ou algum elemento iterável que dita até quando a determinada tarefa irá ser executada. A linguagem nos proporciona três tipos de estruturas de repetição: o `for`, o `foreach` e o `while`."
   ]
  },
  {
   "cell_type": "code",
   "execution_count": 154,
   "metadata": {},
   "outputs": [
    {
     "name": "stdout",
     "output_type": "stream",
     "text": [
      "----LAÇO FOR----\n",
      "Leandro\n",
      "Pedro\n",
      "Gabriel\n",
      "Braida\n",
      "Juliana\n",
      "Alvim\n",
      "Raul\n",
      "Freixo\n"
     ]
    }
   ],
   "source": [
    "names = [\"Leandro\", \"Pedro\", \"Gabriel\", \"Braida\", \"Juliana\", \"Alvim\", \"Raul\", \"Freixo\"]\n",
    "\n",
    "println(\"----LAÇO FOR----\")\n",
    "for i = 1:length(names)\n",
    "    println(names[i])\n",
    "end"
   ]
  },
  {
   "cell_type": "code",
   "execution_count": 155,
   "metadata": {},
   "outputs": [
    {
     "name": "stdout",
     "output_type": "stream",
     "text": [
      "\n",
      "----LAÇO FOREACH----\n",
      "Leandro\n",
      "Pedro\n",
      "Gabriel\n",
      "Braida\n",
      "Juliana\n",
      "Alvim\n",
      "Raul\n",
      "Freixo\n"
     ]
    }
   ],
   "source": [
    "println(\"\\n----LAÇO FOREACH----\")\n",
    "for name in names\n",
    "    println(name)\n",
    "end"
   ]
  },
  {
   "cell_type": "code",
   "execution_count": 156,
   "metadata": {},
   "outputs": [
    {
     "name": "stdout",
     "output_type": "stream",
     "text": [
      "\n",
      "----LAÇO WHILE----\n",
      "Leandro\n",
      "Pedro\n",
      "Gabriel\n",
      "Braida\n",
      "Juliana\n",
      "Alvim\n",
      "Raul\n",
      "Freixo\n"
     ]
    }
   ],
   "source": [
    "println(\"\\n----LAÇO WHILE----\")\n",
    "i = 1\n",
    "while i <= length(names)\n",
    "    println(names[i])\n",
    "    i += 1\n",
    "end"
   ]
  },
  {
   "cell_type": "markdown",
   "metadata": {},
   "source": [
    "### Operador *dois-pontos* ou ':'\n",
    "\n",
    "Quando lidamos com array, queremos poder ter a capacidade de selecionar **todos** os valores em uma linha ou coluna, por exemplo. Para isso, ao invés de fazermos um loop explicitamente, podemos fazer o uso do **operador *dois-pontos***, que serve para nos dar **todas** as instâncias em uma linha ou coluna. Por exemplo, se quisermos todos os elementos de **todas as linhas e da coluna 3**, podemos simplesmente fazer `matrix[:, 3]`. Além disso, o operador *colon* pode nos dar intervalos, bastando adicionar o **índice inicial**, o **intervalo** (caso seja um intervalo com o *step* personalizado) e o **índice final** do intervalo. Caso o operador seja usado para gerar um intervalo apenas com o índice inicial, devemos utilizar a *keyword* `end` para definir o fim do array.\n",
    "Vejamos os exemplos a seguir.\n",
    "\n",
    "#### Retornando as instâncias de todas as linhas/colunas"
   ]
  },
  {
   "cell_type": "code",
   "execution_count": 157,
   "metadata": {},
   "outputs": [
    {
     "data": {
      "text/plain": [
       "6×6 Array{Int64,2}:\n",
       "  1   2   3   4   5   6\n",
       "  7   8   9  10  11  12\n",
       " 13  14  15  16  17  18\n",
       " 19  20  21  22  23  24\n",
       " 25  26  27  28  29  30\n",
       " 31  32  33  34  35  36"
      ]
     },
     "execution_count": 157,
     "metadata": {},
     "output_type": "execute_result"
    }
   ],
   "source": [
    "matrix = [1 2 3 4 5 6; 7 8 9 10 11 12; 13 14 15 16 17 18; 19 20 21 22 23 24; 25 26 27 28 29 30; 31 32 33 34 35 36]"
   ]
  },
  {
   "cell_type": "code",
   "execution_count": 159,
   "metadata": {},
   "outputs": [
    {
     "data": {
      "text/plain": [
       "6-element Array{Int64,1}:\n",
       "  2\n",
       "  8\n",
       " 14\n",
       " 20\n",
       " 26\n",
       " 32"
      ]
     },
     "execution_count": 159,
     "metadata": {},
     "output_type": "execute_result"
    }
   ],
   "source": [
    "matrix = [(i-1)*6+j for i = 1:6, j = 1:6]\n",
    "matrix[:, 2] # linhas na coluna 2"
   ]
  },
  {
   "cell_type": "code",
   "execution_count": 160,
   "metadata": {},
   "outputs": [
    {
     "data": {
      "text/plain": [
       "6-element Array{Int64,1}:\n",
       " 1\n",
       " 2\n",
       " 3\n",
       " 4\n",
       " 5\n",
       " 6"
      ]
     },
     "execution_count": 160,
     "metadata": {},
     "output_type": "execute_result"
    }
   ],
   "source": [
    "matrix = [(i-1)*6+j for i = 1:6, j = 1:6]\n",
    "matrix[1, :] # colunas da primeira linha"
   ]
  },
  {
   "cell_type": "markdown",
   "metadata": {},
   "source": [
    "#### Retornando as instâncias de todas as linhas/colunas iniciando em um valor específico"
   ]
  },
  {
   "cell_type": "code",
   "execution_count": null,
   "metadata": {},
   "outputs": [],
   "source": [
    "# matriz\n",
    "#  1  2  3  4  5  6\n",
    "#  7  8  9 10 11 12\n",
    "# 13 14 15 16 17 18\n",
    "# 19 20 21 22 23 24\n",
    "# 25 26 27 28 29 30\n",
    "# 31 32 33 34 35 36"
   ]
  },
  {
   "cell_type": "code",
   "execution_count": 161,
   "metadata": {},
   "outputs": [
    {
     "data": {
      "text/plain": [
       "5-element Array{Int64,1}:\n",
       " 10\n",
       " 16\n",
       " 22\n",
       " 28\n",
       " 34"
      ]
     },
     "execution_count": 161,
     "metadata": {},
     "output_type": "execute_result"
    }
   ],
   "source": [
    "matrix = [(i-1)*6+j for i = 1:6, j = 1:6]\n",
    "matrix[2:end, 4] # todas as linhas, a partir da segunda, na coluna 4"
   ]
  },
  {
   "cell_type": "code",
   "execution_count": 162,
   "metadata": {},
   "outputs": [
    {
     "data": {
      "text/plain": [
       "3-element Array{Int64,1}:\n",
       " 28\n",
       " 29\n",
       " 30"
      ]
     },
     "execution_count": 162,
     "metadata": {},
     "output_type": "execute_result"
    }
   ],
   "source": [
    "matrix = [(i-1)*6+j for i = 1:6, j = 1:6]\n",
    "matrix[5, 4:end] # todas as colunas, a partir da quarta, na linha 5"
   ]
  },
  {
   "cell_type": "markdown",
   "metadata": {},
   "source": [
    "#### Retornando as instâncias em um intervalo personalizado"
   ]
  },
  {
   "cell_type": "code",
   "execution_count": null,
   "metadata": {},
   "outputs": [],
   "source": [
    "# matriz\n",
    "#  1  2  3  4  5  6\n",
    "#  7  8  9 10 11 12\n",
    "# 13 14 15 16 17 18\n",
    "# 19 20 21 22 23 24\n",
    "# 25 26 27 28 29 30\n",
    "# 31 32 33 34 35 36"
   ]
  },
  {
   "cell_type": "code",
   "execution_count": 163,
   "metadata": {},
   "outputs": [
    {
     "data": {
      "text/plain": [
       "3-element Array{Int64,1}:\n",
       " 12\n",
       " 18\n",
       " 24"
      ]
     },
     "execution_count": 163,
     "metadata": {},
     "output_type": "execute_result"
    }
   ],
   "source": [
    "matrix = [(i-1)*6+j for i = 1:6, j = 1:6]\n",
    "matrix[2:4, 6] # linhas 2, 3 e 4 na coluna 6"
   ]
  },
  {
   "cell_type": "code",
   "execution_count": 164,
   "metadata": {},
   "outputs": [
    {
     "data": {
      "text/plain": [
       "3-element Array{Int64,1}:\n",
       "  9\n",
       " 10\n",
       " 11"
      ]
     },
     "execution_count": 164,
     "metadata": {},
     "output_type": "execute_result"
    }
   ],
   "source": [
    "matrix = [(i-1)*6+j for i = 1:6, j = 1:6]\n",
    "matrix[2, 3:5] # colunas 3, 4 e 5 na linha 2"
   ]
  },
  {
   "cell_type": "markdown",
   "metadata": {},
   "source": [
    "#### Retornando as instâncias em um intervalo personalizado com o valor do *step* personalizado"
   ]
  },
  {
   "cell_type": "code",
   "execution_count": null,
   "metadata": {},
   "outputs": [],
   "source": [
    "# matriz\n",
    "#  1  2  3  4  5  6\n",
    "#  7  8  9 10 11 12\n",
    "# 13 14 15 16 17 18\n",
    "# 19 20 21 22 23 24\n",
    "# 25 26 27 28 29 30\n",
    "# 31 32 33 34 35 36"
   ]
  },
  {
   "cell_type": "code",
   "execution_count": 165,
   "metadata": {},
   "outputs": [
    {
     "data": {
      "text/plain": [
       "3-element Array{Int64,1}:\n",
       " 12\n",
       " 24\n",
       " 36"
      ]
     },
     "execution_count": 165,
     "metadata": {},
     "output_type": "execute_result"
    }
   ],
   "source": [
    "matrix = [(i-1)*6+j for i = 1:6, j = 1:6]\n",
    "matrix[2:2:6, 6] # linhas 2, 4 e 6 na coluna 6 (step = 2)"
   ]
  },
  {
   "cell_type": "code",
   "execution_count": 166,
   "metadata": {},
   "outputs": [
    {
     "data": {
      "text/plain": [
       "3-element Array{Int64,1}:\n",
       "  7\n",
       "  9\n",
       " 11"
      ]
     },
     "execution_count": 166,
     "metadata": {},
     "output_type": "execute_result"
    }
   ],
   "source": [
    "matrix = [(i-1)*6+j for i = 1:6, j = 1:6]\n",
    "matrix[2, 1:2:5] # colunas 1, 3 e 5 na linha 2 (step = 2)"
   ]
  },
  {
   "cell_type": "markdown",
   "metadata": {},
   "source": [
    "## Range\n",
    "\n",
    "Uma estrutura muito útil presente no Julia, como vimos anteriormente, é o range. Ele é um objeto iterável e possui o funcionamento semelhante ao do Python. Contudo, a sua sintaxe é mais simples. A grande vantagem de utilizar um iterador é a desnecessidade de alocação em memória de um grande volume de dados.\n",
    "\n",
    "Abaixo temos dois exemplos usando o laço `for` com um `range` e um `array`. É possível observar o uso do **operador três pontos** (`...`). Este, nos exemplos abaixo, transforma um range em um array para que possamos ver a diferença entre os dois casos."
   ]
  },
  {
   "cell_type": "code",
   "execution_count": 167,
   "metadata": {},
   "outputs": [
    {
     "name": "stdout",
     "output_type": "stream",
     "text": [
      "  0.000000 seconds\n"
     ]
    }
   ],
   "source": [
    "@time for i in 1:20000\n",
    "    nothing\n",
    "end"
   ]
  },
  {
   "cell_type": "code",
   "execution_count": 168,
   "metadata": {},
   "outputs": [
    {
     "name": "stdout",
     "output_type": "stream",
     "text": [
      "  0.006801 seconds (117.97 k allocations: 3.105 MiB)\n"
     ]
    }
   ],
   "source": [
    "@time for i in [1:20000...]\n",
    "    nothing\n",
    "end"
   ]
  },
  {
   "cell_type": "code",
   "execution_count": 169,
   "metadata": {},
   "outputs": [
    {
     "data": {
      "text/plain": [
       "UnitRange{Int64}"
      ]
     },
     "execution_count": 169,
     "metadata": {},
     "output_type": "execute_result"
    }
   ],
   "source": [
    "a = 1:2\n",
    "typeof(a)"
   ]
  },
  {
   "cell_type": "code",
   "execution_count": 170,
   "metadata": {},
   "outputs": [
    {
     "data": {
      "text/plain": [
       "Array{Int64,1}"
      ]
     },
     "execution_count": 170,
     "metadata": {},
     "output_type": "execute_result"
    }
   ],
   "source": [
    "a = [1:2...]\n",
    "typeof(a)"
   ]
  },
  {
   "cell_type": "markdown",
   "metadata": {},
   "source": [
    "## Multiple dispatch\n",
    "\n",
    "É uma característica onde uma função ou método pode ser executado dinamicamente baseado no tipo de um ou mais argumentos"
   ]
  },
  {
   "cell_type": "code",
   "execution_count": 171,
   "metadata": {},
   "outputs": [
    {
     "data": {
      "text/plain": [
       "ex_md (generic function with 5 methods)"
      ]
     },
     "execution_count": 171,
     "metadata": {},
     "output_type": "execute_result"
    }
   ],
   "source": [
    "ex_md(x::String, y::String) = println(\"x e y são strings\")"
   ]
  },
  {
   "cell_type": "code",
   "execution_count": 172,
   "metadata": {},
   "outputs": [
    {
     "data": {
      "text/plain": [
       "ex_md (generic function with 5 methods)"
      ]
     },
     "execution_count": 172,
     "metadata": {},
     "output_type": "execute_result"
    }
   ],
   "source": [
    "ex_md(x::Int, y::Int) = println(\"x e y são inteiros\")"
   ]
  },
  {
   "cell_type": "code",
   "execution_count": 173,
   "metadata": {},
   "outputs": [
    {
     "data": {
      "text/plain": [
       "ex_md (generic function with 5 methods)"
      ]
     },
     "execution_count": 173,
     "metadata": {},
     "output_type": "execute_result"
    }
   ],
   "source": [
    "ex_md(x::Int, y::String) = println(\"x é inteiro e y é string\")"
   ]
  },
  {
   "cell_type": "code",
   "execution_count": 174,
   "metadata": {},
   "outputs": [
    {
     "name": "stdout",
     "output_type": "stream",
     "text": [
      "x e y são strings\n"
     ]
    }
   ],
   "source": [
    "ex_md(\"oi\",\"oi\")"
   ]
  },
  {
   "cell_type": "code",
   "execution_count": 175,
   "metadata": {},
   "outputs": [
    {
     "name": "stdout",
     "output_type": "stream",
     "text": [
      "x e y são inteiros\n"
     ]
    }
   ],
   "source": [
    "ex_md(3, 4)"
   ]
  },
  {
   "cell_type": "code",
   "execution_count": 176,
   "metadata": {},
   "outputs": [
    {
     "name": "stdout",
     "output_type": "stream",
     "text": [
      "x é inteiro e y é string\n"
     ]
    }
   ],
   "source": [
    "ex_md(3, \"oi\")"
   ]
  },
  {
   "cell_type": "markdown",
   "metadata": {},
   "source": [
    "## Funções especializadas\n",
    "\n",
    "Um dos motivos atrelados a proporcionalidade de performance do Julia com o C é a compilação Just In Time, junto a criação de funções especializadas.\n",
    "\n",
    "Um bom exemplo para mostrar essas funções especializadas são as operações aritméticas. Seu comportamento irá depender do tipo dos dados dos seus operandos que será determinado durante o tempo de execução."
   ]
  },
  {
   "cell_type": "code",
   "execution_count": 177,
   "metadata": {},
   "outputs": [
    {
     "data": {
      "text/plain": [
       "f (generic function with 1 method)"
      ]
     },
     "execution_count": 177,
     "metadata": {},
     "output_type": "execute_result"
    }
   ],
   "source": [
    "function f(a, b)\n",
    "    return 2a + b\n",
    "end"
   ]
  },
  {
   "cell_type": "code",
   "execution_count": 178,
   "metadata": {},
   "outputs": [
    {
     "name": "stdout",
     "output_type": "stream",
     "text": [
      "\t.text\n",
      "; ┌ @ In[177]:2 within `f'\n",
      "; │┌ @ promotion.jl:312 within `*' @ float.jl:405\n",
      "\tvaddsd\t%xmm0, %xmm0, %xmm0\n",
      "; │└\n",
      "; │┌ @ float.jl:401 within `+'\n",
      "\tvaddsd\t%xmm1, %xmm0, %xmm0\n",
      "; │└\n",
      "\tretq\n",
      "\tnopl\t(%rax)\n",
      "; └\n"
     ]
    }
   ],
   "source": [
    "@code_native f(2.0, 3.0)"
   ]
  },
  {
   "cell_type": "code",
   "execution_count": 179,
   "metadata": {},
   "outputs": [
    {
     "name": "stdout",
     "output_type": "stream",
     "text": [
      "\t.text\n",
      "; ┌ @ In[177]:2 within `f'\n",
      "; │┌ @ int.jl:86 within `+'\n",
      "\tleaq\t(%rsi,%rdi,2), %rax\n",
      "; │└\n",
      "\tretq\n",
      "\tnopw\t%cs:(%rax,%rax)\n",
      "\tnop\n",
      "; └\n"
     ]
    }
   ],
   "source": [
    "@code_native f(2, 3)"
   ]
  },
  {
   "cell_type": "markdown",
   "metadata": {},
   "source": [
    "## Metaprogramação\n",
    "\n",
    "Com Julia, é possível referir-se ao próprio código como objeto da linguagem. Assim, um programa pode ser capaz de alterar e gerar o próprio código."
   ]
  },
  {
   "cell_type": "code",
   "execution_count": 181,
   "metadata": {},
   "outputs": [
    {
     "data": {
      "text/plain": [
       "@sayhello (macro with 2 methods)"
      ]
     },
     "execution_count": 181,
     "metadata": {},
     "output_type": "execute_result"
    }
   ],
   "source": [
    "macro sayhello()\n",
    "           return :( println(\"Hello, world!\") )\n",
    "       end\n",
    "macro sayhello(name)\n",
    "           return :( println(\"Hello, \", $name) )\n",
    "       end"
   ]
  },
  {
   "cell_type": "code",
   "execution_count": 182,
   "metadata": {},
   "outputs": [
    {
     "name": "stdout",
     "output_type": "stream",
     "text": [
      "Hello, world!\n"
     ]
    }
   ],
   "source": [
    "@sayhello"
   ]
  },
  {
   "cell_type": "code",
   "execution_count": 183,
   "metadata": {},
   "outputs": [
    {
     "name": "stdout",
     "output_type": "stream",
     "text": [
      "Hello, Julia\n"
     ]
    }
   ],
   "source": [
    "@sayhello \"Julia\""
   ]
  },
  {
   "cell_type": "code",
   "execution_count": 184,
   "metadata": {},
   "outputs": [
    {
     "name": "stdout",
     "output_type": "stream",
     "text": [
      "Hello, Julia\n"
     ]
    }
   ],
   "source": [
    "@sayhello(\"Julia\")"
   ]
  },
  {
   "cell_type": "markdown",
   "metadata": {},
   "source": [
    "Macros podem tornar a realização de tarefas usuais mais prática. Por exemplo, a macro `@macroexpand` permite ver o que ocorre dentro de uma macro. No código abaixo, ela exibe o funcionamento da macro `@elapsed`, que por sua vez retorna a marcação do tempo que a função peakflops() leva para ser executada."
   ]
  },
  {
   "cell_type": "code",
   "execution_count": 188,
   "metadata": {},
   "outputs": [
    {
     "data": {
      "text/plain": [
       "quote\n",
       "    while false\n",
       "    end\n",
       "    local var\"#49#t0\" = Base.time_ns()\n",
       "    peakflops()\n",
       "    (Base.time_ns() - var\"#49#t0\") / 1.0e9\n",
       "end"
      ]
     },
     "execution_count": 188,
     "metadata": {},
     "output_type": "execute_result"
    }
   ],
   "source": [
    "Base.remove_linenums!(@macroexpand @elapsed peakflops())"
   ]
  },
  {
   "cell_type": "code",
   "execution_count": 187,
   "metadata": {},
   "outputs": [
    {
     "data": {
      "text/plain": [
       "0.70358026"
      ]
     },
     "execution_count": 187,
     "metadata": {},
     "output_type": "execute_result"
    }
   ],
   "source": [
    "@elapsed peakflops() #em segundos"
   ]
  },
  {
   "cell_type": "code",
   "execution_count": 186,
   "metadata": {},
   "outputs": [
    {
     "data": {
      "text/plain": [
       "3.1652327980749924e10"
      ]
     },
     "execution_count": 186,
     "metadata": {},
     "output_type": "execute_result"
    }
   ],
   "source": [
    "peakflops()"
   ]
  },
  {
   "cell_type": "markdown",
   "metadata": {},
   "source": [
    "O uso de macros pode tornar o código muito mais legível:"
   ]
  },
  {
   "cell_type": "code",
   "execution_count": 189,
   "metadata": {},
   "outputs": [
    {
     "data": {
      "text/plain": [
       "5"
      ]
     },
     "execution_count": 189,
     "metadata": {},
     "output_type": "execute_result"
    }
   ],
   "source": [
    "ccall(:strlen, Cint, (Cstring,), \"Maria\")"
   ]
  },
  {
   "cell_type": "code",
   "execution_count": 190,
   "metadata": {},
   "outputs": [
    {
     "data": {
      "text/plain": [
       "5"
      ]
     },
     "execution_count": 190,
     "metadata": {},
     "output_type": "execute_result"
    }
   ],
   "source": [
    "@ccall strlen(\"Maria\"::Cstring)::Cint"
   ]
  },
  {
   "cell_type": "markdown",
   "metadata": {},
   "source": [
    "### Macros de Performance\n",
    "\n",
    "**_@inbounds_** permite a eliminação de checagem de borda em Arrays nas expressões passadas.\n",
    "\n",
    "**_@fastmath_** permite otimizações em operações de ponto flutuante que retorna um resutado para números reais, mas pode mudar resultados que dependem de precisão.\n",
    "\n",
    "**_@simd_** é uma macro que permite que o compilador utilize vetorização SIMD, prometendo que os valores no loop são independentes e podem ser reordenados. É possível que o compilador faça essa otimização em muitos casos. A macro é indicada para autorizar quando a alteração da ordem seria ilegal, como em operações de ponto-flutuante que possam gerar valores indesejados."
   ]
  },
  {
   "cell_type": "markdown",
   "metadata": {},
   "source": [
    "## Pacotes\n",
    "\n",
    "Julia dispõe de um sistema de gerenciamento de pacotes oficial, o Pkg. Ele é responsável por adicionar, atualizar e remover pacotes do seu ambiente. Todo pacote possui um nome, um identificador único e um número de versão. É um sistema robusto que permite cada pacote compile sempre as dependências corretas para aquela versão."
   ]
  },
  {
   "cell_type": "code",
   "execution_count": null,
   "metadata": {},
   "outputs": [],
   "source": [
    "using Pkg; Pkg.add(\"BenchmarkTools\")"
   ]
  },
  {
   "cell_type": "markdown",
   "metadata": {},
   "source": [
    "### Ecossistema:"
   ]
  },
  {
   "cell_type": "markdown",
   "metadata": {},
   "source": [
    "<tr valign=\"center\" width=\"100%\" style=\"border: none;\">\n",
    " <td valign=\"center\" style=\"border: none;\" width=\"100px\">\n",
    "    <img align=\"left\" src=\"https://i.imgur.com/5wiVwj6.png\" width=\"130px\"/> \n",
    "  </td>\n",
    "  <td align=\"left\" valign= \"center\" style=\"border: none;\" width=\"80%\">\n",
    "      <body > JuMP: Uma linguagem de modelagem embutida em <br> Julia para resolução de problemas de otimização. </body>\n",
    "    <td>\n",
    "</tr>\n",
    "<tr valign=\"center\" width=\"100%\" style=\"border: none;\">\n",
    " <td valign=\"center\" style=\"border: none;\" width=\"100px\">\n",
    "    <img align=\"left\" src=\"https://i.imgur.com/fzX8niP.png\" width=\"130px\"/> \n",
    "  </td>\n",
    "  <td align=\"left\" valign= \"center\" style=\"border: none;\" width=\"80%\">\n",
    "      <body > Um pacote para resolver equações diferenciais numericamente. </body>\n",
    "    <td>\n",
    "</tr>\n",
    "</tr>\n",
    "<tr valign=\"center\" width=\"100%\" style=\"border: none;\">\n",
    " <td valign=\"center\" style=\"border: none;\" width=\"100px\">\n",
    "    <img align=\"left\" src=\"https://i.imgur.com/abCGYhv.png\" width=\"130px\"/> \n",
    "  </td>\n",
    "  <td align=\"left\" valign= \"center\" style=\"border: none;\" width=\"80%\">\n",
    "      <body > Uma biblioteca para machine learning altamente <br> integrada com vários pacotes da linguagem. </body>\n",
    "    <td>\n",
    "</tr>\n",
    "<tr valign=\"center\" width=\"100%\" style=\"border: none;\">\n",
    " <td valign=\"center\" style=\"border: none;\" width=\"100px\">\n",
    "    <img align=\"left\" src=\"https://i.imgur.com/nXBr4PZ.png\" width=\"130px\"/> \n",
    "  </td>\n",
    "  <td align=\"left\" valign= \"center\" style=\"border: none;\" width=\"80%\">\n",
    "      <body > Um framework de seleção, tuning, avaliação, <br> \n",
    "          composição e comparação de modelos de machine learning. </body>\n",
    "    <td>\n",
    "</tr>"
   ]
  },
  {
   "cell_type": "markdown",
   "metadata": {},
   "source": [
    "### Synthetic Datasets\n",
    "\n",
    "Um pacote desenvolvido no ATIS-Labs para a geração de Datasets sintéticos."
   ]
  },
  {
   "cell_type": "markdown",
   "metadata": {},
   "source": [
    "<tr valign=\"center\" width=\"50%\" style=\"border: none;\">\n",
    " <td valign=\"center\" style=\"border: none;\" width=\"50%\">\n",
    "    <img align=\"left\" src=\"https://i.imgur.com/MWgSJsa.png\" width=\"600px\"/> \n",
    "  </td>\n",
    "  <td align=\"left\" valign= \"center\" style=\"border: none;\" width=\"50%\">\n",
    "      <img align=\"left\" src=\"https://i.imgur.com/cTQmC8c.gif\" width=\"600px\"/>\n",
    "    <td>\n",
    "</tr>"
   ]
  },
  {
   "cell_type": "markdown",
   "metadata": {},
   "source": [
    "link: http://synthetic.atislabs.com.br/"
   ]
  }
 ],
 "metadata": {
  "kernelspec": {
   "display_name": "Julia 1.5.3",
   "language": "julia",
   "name": "julia-1.5"
  },
  "language_info": {
   "file_extension": ".jl",
   "mimetype": "application/julia",
   "name": "julia",
   "version": "1.5.3"
  }
 },
 "nbformat": 4,
 "nbformat_minor": 4
}
