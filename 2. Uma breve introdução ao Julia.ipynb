{
 "cells": [
  {
   "cell_type": "markdown",
   "metadata": {
    "collapsed": false
   },
   "source": [
    "## Características da Linguagem\n",
    "\n",
    "`Julia` é uma linguagem _open source_ criada para ter **a velocidade do C**, **o dinamismo do Ruby**, **a homoiconicidade** (capacidade da linguagem se referir a si mesma) **do Lisp** com uma **notação matemática como a do Matlab**. Além disso, foi criada, também, para poder ser **usada em programação geral como o Python**, **fácil para estatísticas como o R**, **natual em processamento de string como o Pearl**, **poderosa para álgebra linear como o Matlab**, **boa para juntar programas como o shell**, além de ser **fácil par aprender**. Uma linguagem de programação criada para ser **interativa e compilada**.\n",
    "\n",
    "Além disso, Julia tem algumas _features_ interessantes como a **não necessidade do uso do caractere ';'**, as **estruturas dos blocos como as do Matlab, com a _keyword_ `end` usada para definir o fim do bloco** e a **declaração dinâmica**. Essas _features_ serão apresentadas mais pra frente.\n",
    "\n",
    "Mais sobre o por quê da criação da linguagem `Julia` pode ser encontrado acessando o link [Why we created Julia]\n",
    "\n",
    "[why we created julia]: https://julialang.org/blog/2012/02/why-we-created-julia/"
   ]
  },
  {
   "cell_type": "markdown",
   "metadata": {
    "collapsed": false
   },
   "source": [
    "## Tipos\n",
    "\n",
    "`Julia` possui uma grande variedade de tipos, com uma grande possibilidade de tipos numéricos por conta da definição do tamanho do número de bits e do sinal. Alguns dos tipos mais comuns em `Julia` são: `Float16`, `Float32` e `Float64` para tipos primitivos **ponto flutuantes**; `Bool` para **booleanos**; `Char` para **caracteres**; `Int8`, `UInt8`, `Int16`, `UInt16`, `Int32`, `UInt32`, `Int64`, `UInt64`, `Int128` e `UInt128` para **inteiros**. Podemos ver, nos tipos inteiros, que temos a **definição do tamanho dos bytes** e o **sinal**, representado pela adição da letra U antes do tipo.\n",
    "\n",
    "Além disso, `Julia` também conta com estruturas básicas como **tuplas**, **strings**, **dicionários** e **arrays** que serão vistos mais pra frente."
   ]
  },
  {
   "cell_type": "markdown",
   "metadata": {
    "collapsed": false
   },
   "source": [
    "## Declaração de variáveis\n",
    "\n",
    "Julia é uma linguagem que oferece o melhor dos dois mundos no que tange a tipagem dos dados. Além de possuir o sistema de tipagem dinâmica, ele consegue ganhar vantagens que vem da tipagem estática inferindo ou definindo o tipo específico da variável. Isso quer dizer que mesmo sem dizer o tipo da variável, o `Julia` consegue inferir seu tipo através da expressão em sua criação. Por exemplo, se fizermos uma soma com um valor inteiro, estamos inferindo esse tipo na variável que receberá essa soma. Por outro lado, se fizermos o mesmo, mas usando um tipo `Float`, faremos com que a variável que receberá a soma fique com o tipo `Float` também."
   ]
  },
  {
   "cell_type": "code",
   "execution_count": 0,
   "metadata": {
    "collapsed": false
   },
   "outputs": [
   ],
   "source": [
    "b = 3\n",
    "a = b + 1\n",
    "println(typeof(a))\n",
    "\n",
    "a = b + 1.0\n",
    "println(typeof(a))"
   ]
  },
  {
   "cell_type": "code",
   "execution_count": 0,
   "metadata": {
    "collapsed": false
   },
   "outputs": [
   ],
   "source": [
    "x = 20\n",
    "println(typeof(x))\n",
    "\n",
    "x = 1.5\n",
    "println(typeof(x))\n",
    "\n",
    "x = \"10\"\n",
    "println(typeof(x))"
   ]
  },
  {
   "cell_type": "markdown",
   "metadata": {
    "collapsed": false
   },
   "source": [
    "Nos casos acima, podem ser atribuídos diferentes tipos de valores a variável `x`, por conta da tipagem dinâmica. Ela faz com que o programa não tenha conhecimento dos tipos da variável até a hora da execução, quando a manipulação dos valores dos dados são disponibilizadas. Isso dá ao programador uma maior flexibilidade da nora de escrever o código, mas, por outro lado, faz com que tenhamos mais cuidado ao escrever o código, pois como os tipos podem não estar definidos, podemos ter problemas com isso na hora da execução.\n",
    "\n",
    "Por outro lado, `Julia` também permite a definição de tipos para as variáveis. Para o fazer, é necessário o uso do operador `::` que define um tipo estático à variável. Porém, atualmente, não é possível a definição de tipos no escopo global."
   ]
  },
  {
   "cell_type": "code",
   "execution_count": 0,
   "metadata": {
    "collapsed": false
   },
   "outputs": [
   ],
   "source": [
    "x::Int64 = 1"
   ]
  },
  {
   "cell_type": "markdown",
   "metadata": {
    "collapsed": false
   },
   "source": [
    "### Situações com a definição de tipos\n",
    "\n",
    "A definição de tipos, atualmente, é suportada em contextos de **funções**. Neles, podemos definir os tipos das variáveis **de dentro da função**, **de seus parâmetros** e de seu **retorno**. Além disso, `Julia` também permite a definição de tipos de variáveis dentro do excopo de uma **struct**. Falaremos sobre ambos mais pra frente."
   ]
  },
  {
   "cell_type": "code",
   "execution_count": 0,
   "metadata": {
    "collapsed": false
   },
   "outputs": [
   ],
   "source": [
    "# Definição do tipo da variável X no escopo da função foo()\n",
    "function foo()\n",
    "   x::Int64 = 100\n",
    "   x\n",
    "end\n",
    "\n",
    "# Definição do tipo da variável X no escopo da função e de sey retorno\n",
    "function foo()::Int64\n",
    "   x::Int64 = 100\n",
    "   x\n",
    "end\n",
    "\n",
    "# Definição do tipo da do parâmetro X da função foo()\n",
    "function foo(x::Int64)\n",
    "   x\n",
    "end\n",
    "\n",
    "# Definição do tipo da variável number no escopo da struct.\n",
    "struct teste\n",
    "    number::Int64\n",
    "end"
   ]
  },
  {
   "cell_type": "markdown",
   "metadata": {
    "collapsed": false
   },
   "source": [
    "## Operadores\n",
    "\n",
    "Julia conta com operadores como os do **C**, como operadores **lógicos**, **aritméticos** e **relacionais**.\n",
    "\n",
    "### Operadores lógicos"
   ]
  },
  {
   "cell_type": "code",
   "execution_count": 0,
   "metadata": {
    "collapsed": false
   },
   "outputs": [
   ],
   "source": [
    "# Usando o operador AND, representado por &&\n",
    "println(true && false)\n",
    "\n",
    "# Usando o operador OR, representado por ||\n",
    "println(true || false)\n",
    "\n",
    "# Usando o operador NOT, representado por !\n",
    "println(!true)"
   ]
  },
  {
   "cell_type": "markdown",
   "metadata": {
    "collapsed": false
   },
   "source": [
    "### Operadores aritméticos"
   ]
  },
  {
   "cell_type": "code",
   "execution_count": 0,
   "metadata": {
    "collapsed": false
   },
   "outputs": [
   ],
   "source": [
    "a = 19\n",
    "b = 3\n",
    "\n",
    "add = a + b\n",
    "println(add)\n",
    "\n",
    "sub = a - b\n",
    "println(sub)\n",
    "\n",
    "mul = a * b\n",
    "println(mul)\n",
    "\n",
    "div1 = a / b\n",
    "println(div1)\n",
    "\n",
    "div2 = a ÷ b\n",
    "println(div2)\n",
    "\n",
    "div3 = a \\ b\n",
    "println(div3)\n",
    "\n",
    "pow = a ^ b\n",
    "println(pow)\n",
    "\n",
    "mod = a % b\n",
    "println(mod)"
   ]
  },
  {
   "cell_type": "markdown",
   "metadata": {
    "collapsed": false
   },
   "source": [
    "### Operadores relacionais\n",
    "\n",
    "Sobre os operadores relacionais é importante destacar que eles geram **valores booleanos**. Isto é, caso atribuamos uma operação relacional a uma variável, esta pode receber os valores `true` ou `false`. Além disso, eles são curto-circuitados. Isso significa que não precisamos fazer TODAS as relações caso uma delas já nos diz o resultado."
   ]
  },
  {
   "cell_type": "code",
   "execution_count": 0,
   "metadata": {
    "collapsed": false
   },
   "outputs": [
   ],
   "source": [
    "a = 19\n",
    "b = 99\n",
    "\n",
    "println(a > b)\n",
    "println(a < b)\n",
    "println(a == b)\n",
    "println(a != b)\n",
    "println(a >= b)\n",
    "println(a <= b)"
   ]
  },
  {
   "cell_type": "markdown",
   "metadata": {
    "collapsed": false
   },
   "source": [
    "## Funções\n",
    "\n",
    "Nos exemplos acima, mostramos a declaração de tipos em uma função. Essa função, assim como as funções no geral em Julia e em outras linguagens, são operações agrupadas em um escopo que serão executadas toda vez que a função for chamada. Desta forma, podemos evitar repetição de código, deixando-o mais limpo e legível.\n",
    "\n",
    "Para definir uma função, começamos com a *keyword* `function` seguida pelo nome da função e, entre parênteses os parâmetros. Seu corpo, assim como as estruturas condicionais ou de repetição (faladas mais adiante), possuem o corpo identado com um *tab*, o que não é necessário, e terminam com a *keyword* `end`."
   ]
  },
  {
   "cell_type": "code",
   "execution_count": 0,
   "metadata": {
    "collapsed": false
   },
   "outputs": [
   ],
   "source": [
    "function example()\n",
    "    corpo_identado\n",
    "end"
   ]
  },
  {
   "cell_type": "markdown",
   "metadata": {
    "collapsed": false
   },
   "source": [
    "#### Exemplo\n",
    "\n",
    "Caso queiramos implementar uma função que recebe dois valores e nos retorna a soma desses valores, fazemos"
   ]
  },
  {
   "cell_type": "code",
   "execution_count": 0,
   "metadata": {
    "collapsed": false
   },
   "outputs": [
   ],
   "source": [
    "function sum(a, b)\n",
    "    return a + b\n",
    "end"
   ]
  },
  {
   "cell_type": "markdown",
   "metadata": {
    "collapsed": false
   },
   "source": [
    "A função acima nos retorna a soma de dois números. Porém, a função não define o tipo dos parâmetros e do retorno da função. Assim, podemos passar valores como 9.2 ou até mesmo algum valor em `String` para a função, o que resultaria em um erro. Se quisermos definir o tipo dos parâmetros e do retorno da função, vamos utilizar o conceito visto anteriormente sobre tipagem. Faremos"
   ]
  },
  {
   "cell_type": "code",
   "execution_count": 0,
   "metadata": {
    "collapsed": false
   },
   "outputs": [
   ],
   "source": [
    "function sum(a::Int8, b::Int8)::Int8\n",
    "    return a + b\n",
    "end"
   ]
  },
  {
   "cell_type": "markdown",
   "metadata": {
    "collapsed": false
   },
   "source": [
    "Desta forma fazemos com que a função obrigue os parâmetros recebidos a serem do tipo `Int8` e o retorno a ser, também, um Int8.\n",
    "\n",
    "Outra maneira de se criar uma função é a partir desta forma mais curta. ([Manual de funções do Julia])\n",
    "\n",
    "[Manual de funções do Julia]: https://docs.julialang.org/en/v1/manual/functions/"
   ]
  },
  {
   "cell_type": "code",
   "execution_count": 0,
   "metadata": {
    "collapsed": false
   },
   "outputs": [
   ],
   "source": [
    "sum(a::Int8, b::Int8)::Int8 = a + b"
   ]
  },
  {
   "cell_type": "code",
   "execution_count": 0,
   "metadata": {
    "collapsed": false
   },
   "outputs": [
   ],
   "source": [
    "## FUNÇÃO ANÔNIMA"
   ]
  },
  {
   "cell_type": "markdown",
   "metadata": {
    "collapsed": false
   },
   "source": [
    "## Estruturas condicionais\n",
    "\n",
    "Quando queremos dar um rumo à tarefa de acordo com um condição, utilizamos as chamadas **estruturas condicionais**. Estas são estruturas que utilizam condições para a realização de alguma tarefa. Assim, caso tenhamos dois ou mais caminhos a serem seguidos baseados em alguma condição, podemos usar essas estruturas para separar e definir cada um desses possíveis caminhos a serem seguidos de acordo com o resultado desta condição, que posse ser verdadeira, com o valor lógico `true`, ou falsa, com o valor lógico `false`."
   ]
  },
  {
   "cell_type": "code",
   "execution_count": 0,
   "metadata": {
    "collapsed": false
   },
   "outputs": [
   ],
   "source": [
    "x = 3\n",
    "y = 5\n",
    "\n",
    "if x > y\n",
    "    print(\"X é maior.\")\n",
    "end"
   ]
  },
  {
   "cell_type": "markdown",
   "metadata": {
    "collapsed": false
   },
   "source": [
    "Acima temos uma estrutura condicional simples, onde apenas o caso verdadeiro é executado. No entanto, caso queiramos que alguma tarefa seja executada para o caso\n",
    "de essa expressão retornar o valor `false`, utilizamos a *keyword* `else`, da seguinte forma:"
   ]
  },
  {
   "cell_type": "code",
   "execution_count": 0,
   "metadata": {
    "collapsed": false
   },
   "outputs": [
   ],
   "source": [
    "x = 3\n",
    "y = 5\n",
    "\n",
    "if x > y\n",
    "    print(\"X é maior\")\n",
    "else\n",
    "    print(\"X é menor.\")\n",
    "end"
   ]
  },
  {
   "cell_type": "markdown",
   "metadata": {
    "collapsed": false
   },
   "source": [
    "Desta forma, caso o valor contido em X NÃO seja maior do que o valor contido em Y, o programa irá mostrar uma outra mensagem, informando que X é menor. \n",
    "Porém, existe uma outra condição para o caso de a primeira ser falsa: o caso em que x é **igual** a y. Se deixarmos o programa do jeito que está acima e\n",
    "essa condição for satisfeita, teremos uma saída errada. Podemos, para resolver esse problema, adicionar um outro `if` para que ele teste se o valor contido\n",
    "em x é igual ao valor contido em Y. Entretanto, usar apenas `if`s faz com que nosso programa perca desempenho, visto que ele terá de testar **todas** as condições\n",
    "mesmo que a primeira já tenha dado o valor `true`.\n",
    "Assim, conheceremos uma nova keyword: a `elseif`."
   ]
  },
  {
   "cell_type": "code",
   "execution_count": 0,
   "metadata": {
    "collapsed": false
   },
   "outputs": [
   ],
   "source": [
    "x = 3\n",
    "y = 5\n",
    "\n",
    "if x > y\n",
    "    print(\"X é maior do que Y\")\n",
    "elseif x == y\n",
    "    print(\"X é igual a Y\")\n",
    "else\n",
    "    print(\"X é menor do que Y\")\n",
    "end"
   ]
  },
  {
   "cell_type": "markdown",
   "metadata": {
    "collapsed": false
   },
   "source": [
    "O `elseif` faz a mesma coisa que um `if` dentro um `else`. Ou seja, caso a expressão do `if` retorne um valor `false`, o `elseif` é acionado e faz uma outra condição.\n",
    "No exemplo acima, a condição é verificar se o valor de X é igual ao valor de Y.\n",
    "\n",
    "### Operador ternário\n",
    "\n",
    "O operador ternário funciona como um if-else mais simplificado. Para fazê-lo, basta digitar `a ? B : c`, onde `a` é a condição, `b` é a operação caso a condição seja \n",
    "verdadeira e `c` é a operação caso a condição seja falsa.\n",
    "Por exemplo, suponhamos que queremos *printar* uma mensagem na tela dependendo do valor de um número, armazenado em `x`: caso este valor seja maior do que 3.14, *printamos*\n",
    "\"Maior que PI\" e, caso contrário, \"Menor ou igual a PI\"."
   ]
  },
  {
   "cell_type": "code",
   "execution_count": 0,
   "metadata": {
    "collapsed": false
   },
   "outputs": [
   ],
   "source": [
    "x = 3.18\n",
    "print(x > 3.14 ? \"Maior que PI\" : \"Menor ou igual a PI\")"
   ]
  },
  {
   "cell_type": "markdown",
   "metadata": {
    "collapsed": false
   },
   "source": [
    "Desta forma, temos um print mais simplificado. Se usássemos, ao invés disso, o if-else convencional, teríamos 5 linhas de código."
   ]
  },
  {
   "cell_type": "markdown",
   "metadata": {
    "collapsed": false
   },
   "source": [
    "## Vetores\n",
    "\n",
    "Vetores (ou *arrays* unidimensionais) são estruturas que armazenam dados de um mesmo tipo. Isto é, caso queiramos armazenar o nome de todos os alunos de uma sala, por exemplo, podemos armazená-los em um vetor. Em Julia, vetores são inicializados utilizando `[1, 2, 3]`, quase como no Matlab."
   ]
  },
  {
   "cell_type": "code",
   "execution_count": 0,
   "metadata": {
    "collapsed": false
   },
   "outputs": [
   ],
   "source": [
    "array = [1, 2, 3]"
   ]
  },
  {
   "cell_type": "markdown",
   "metadata": {
    "collapsed": false
   },
   "source": [
    "No exemplo acima, fazemos a declaração de um array de números inteiros com uma dimensão e três elementos. Desta forma, temos um array unidimensional com dois elementos.\n",
    "\n",
    "O acesso do array é feito com `[]`, com seu índice iniciando em 1, diferentemente do C que inicia em 0. Assim, caso queiramos retornar a primeira posição do array, devemos o fazer com `array[1]`."
   ]
  },
  {
   "cell_type": "code",
   "execution_count": 0,
   "metadata": {
    "collapsed": false
   },
   "outputs": [
   ],
   "source": [
    "array = [10, 20, 30, 40, 50]\n",
    "\n",
    "println(array[1]) # printa o valor 10\n",
    "println(array[0]) # printa um erro de acesso às posições do vetor, chamado de BoundsError"
   ]
  },
  {
   "cell_type": "markdown",
   "metadata": {
    "collapsed": false
   },
   "source": [
    "### Inicialização com `zeros()` ou `ones()`\n",
    "\n",
    "Além de inicializar o vetor da forma que vimos acima, o `Julia` nos permite criar arrays com todos os elementos zerados utilizando a função `zeros()` ou a função `ones()`, que pode receber parâmetros indicando o tipo e a dimensão do nosso array. Caso o tipo não seja definido, como vemos nos dois primeiros exemplos abaixo, o array é criado com o tipo `Float64`. Já nos dois exemplos mais abaixo, temos a definição do tipo do array para `Int`."
   ]
  },
  {
   "cell_type": "code",
   "execution_count": 0,
   "metadata": {
    "collapsed": false
   },
   "outputs": [
   ],
   "source": [
    "zerosArray = zeros(2)\n",
    "println(zerosArray)\n",
    "\n",
    "onesArray = ones(2)\n",
    "println(onesArray)"
   ]
  },
  {
   "cell_type": "code",
   "execution_count": 0,
   "metadata": {
    "collapsed": false
   },
   "outputs": [
   ],
   "source": [
    "zerosArray = zeros(Int, 2)\n",
    "println(zerosArray)\n",
    "\n",
    "onesArray = ones(Int, 2)\n",
    "println(onesArray)"
   ]
  },
  {
   "cell_type": "markdown",
   "metadata": {
    "collapsed": false
   },
   "source": [
    "### [1, 2, 3] vs [1 2 3]"
   ]
  },
  {
   "cell_type": "markdown",
   "metadata": {
    "collapsed": false
   },
   "source": [
    "Criar um array utilizando vírgulas ou não para separar os elementos pode ter uma diferença maior do que parece. Por exemplo, criar um array utilizando o código `a = [1, 2, 3]`, como vimos anteriormente, cria um array de 3 elementos. Porém, quando fazemos o mesmo sem utilizar as vírgulas, temos uma **matriz 1x3** e não um **array de 3 elementos**."
   ]
  },
  {
   "cell_type": "code",
   "execution_count": 0,
   "metadata": {
    "collapsed": false
   },
   "outputs": [
   ],
   "source": [
    "array = [1, 2, 3]\n",
    "println(typeof(array))\n",
    "\n",
    "matrix = [1 2 3]\n",
    "println(typeof(matrix))"
   ]
  },
  {
   "cell_type": "markdown",
   "metadata": {
    "collapsed": false
   },
   "source": [
    "Acima, temos, na primeira linha, a criação de um array de 1 dimensão (representado por `Array{Int64, 1}`) no *output* da célula e uma matriz, ou array de duas dimensões (representado por `Array{Int64, 2}`) no *output* da célula."
   ]
  },
  {
   "cell_type": "markdown",
   "metadata": {
    "collapsed": false
   },
   "source": [
    "## Matrizes\n",
    "\n",
    "As matrizes são formalmente definidas como uma dupla sequencia de valores distribuídos entre linhas e colunas e são uma das estruturas mais utilizadas para o agrupamento de valores com uma mesma finalidade.\n",
    "\n",
    "As formas de inicialização desta estrutura são simples. Como podemos ver abaixo, ela funciona, basicamente, como a criação do array unidimensional. Porém, ao invés de usarmos vírgula para separar os elementos de uma linha, utilizamos espaço e, além disso, separamos as linhas umas das outras, como no exemplo"
   ]
  },
  {
   "cell_type": "code",
   "execution_count": 0,
   "metadata": {
    "collapsed": false
   },
   "outputs": [
   ],
   "source": [
    "matrix = [1 2 3; 4 5 6]"
   ]
  },
  {
   "cell_type": "markdown",
   "metadata": {
    "collapsed": false
   },
   "source": [
    "### Inicialização com `zeros()` ou `ones()`\n",
    "\n",
    "Assim como podemos inicializar um array unidimensional utilizando as funções `zeros()` e `ones()`, podemos o fazer para criar matrizes, ou arrays multi-dimensionais. Basta adicionar um outro parâmetro, indicando mais uma dimensão. Abaixo, criamos duas matrizes 2x3 utilizando esses métodos."
   ]
  },
  {
   "cell_type": "code",
   "execution_count": 0,
   "metadata": {
    "collapsed": false
   },
   "outputs": [
   ],
   "source": [
    "zerosMatrix = zeros(Int, 2, 3)\n",
    "println(zerosMatrix)\n",
    "\n",
    "onesMatrix = ones(Int, 2, 3)\n",
    "println(onesMatrix)"
   ]
  },
  {
   "cell_type": "markdown",
   "metadata": {
    "collapsed": false
   },
   "source": [
    "## Estruturas de repetição\n",
    "\n",
    "Os laços de repetição são estruturas que têm como objetivo a execução repetida de uma determinada tarefa ao decorrer do código. Por exemplo, caso queiramos percorrer um vetor, podemos utilizar uma estrutura de repetição para iterar sobre os elementos armazenados na estrutura. O uso dessas estruturas de repetição facilitam nosso trabalho na manipulação de arrays.\n",
    "Em Julia, estas estruturas têm como base alguma expressão condicional ou algum elemento iterável que dita até quando a determinada tarefa irá ser executada. A linguagem nos proporciona três tipos de estruturas de repetição: o `for`, o `foreach` e o `while`."
   ]
  },
  {
   "cell_type": "code",
   "execution_count": 0,
   "metadata": {
    "collapsed": false
   },
   "outputs": [
   ],
   "source": [
    "names = [\"Leandro\", \"Pedro\", \"Gabriel\", \"Marcela\", \"Freixo\"]\n",
    "\n",
    "println(\"----LAÇO FOR----\")\n",
    "for i = 1:length(names)\n",
    "    println(names[i])\n",
    "end\n",
    "\n",
    "println(\"\\n----LAÇO FOREACH----\")\n",
    "for name in names\n",
    "    println(name)\n",
    "end\n",
    "\n",
    "println(\"\\n----LAÇO WHILE----\")\n",
    "i = 1\n",
    "while i <= length(names)\n",
    "    println(names[i])\n",
    "    i += 1\n",
    "end"
   ]
  },
  {
   "cell_type": "markdown",
   "metadata": {
    "collapsed": false
   },
   "source": [
    "### Operador *colon* ou ':'\n",
    "\n",
    "Quando lidamos com array, queremos poder ter a capacidade de selecionar **todos** os valores em uma linha ou coluna, por exemplo. Para isso, ao invés de fazermos um loop explicitamente, podemos fazer o uso do **operador *colon***, que serve para nos dar **todas** as instâncias em uma linha ou coluna. Por exemplo, se quisermos todos os elementos de **todas as linhas e da coluna 3**, podemos simplesmente fazer `matrix[:, 3]`. Além disso, o operador *colon* pode nos dar intervalos, bastando adicionar o **índice inicial**, o **intervalo** (caso seja um intervalo com o *step* personalizado) e o **índice final** do intervalo. Caso o operador seja usado para gerar um intervalo apenas com o índice inicial, devemos utilizar a *keyword* `end` para definir o fim do array.\n",
    "Vejamos os exemplos a seguir.\n",
    "\n",
    "#### Retornando as instâncias de todas as linhas/colunas"
   ]
  },
  {
   "cell_type": "code",
   "execution_count": 0,
   "metadata": {
    "collapsed": false
   },
   "outputs": [
   ],
   "source": [
    "# matriz\n",
    "#  1  2  3  4  5  6\n",
    "#  7  8  9 10 11 12\n",
    "# 13 14 15 16 17 18\n",
    "# 19 20 21 22 23 24\n",
    "# 25 26 27 28 29 30\n",
    "# 31 32 33 34 35 36\n",
    "matrix = [1 2 3 4 5 6; 7 8 9 10 11 12; 13 14 15 16 17 18; 19 20 21 22 23 24; 25 26 27 28 29 30; 31 32 33 34 35 36]\n",
    "\n",
    "matrix[:, 2] # linhas na coluna 2\n",
    "matrix[1, :] # colunas da primeira linha"
   ]
  },
  {
   "cell_type": "markdown",
   "metadata": {
    "collapsed": false
   },
   "source": [
    "#### Retornando as instâncias de todas as linhas/colunas iniciando em um valor específico"
   ]
  },
  {
   "cell_type": "code",
   "execution_count": 0,
   "metadata": {
    "collapsed": false
   },
   "outputs": [
   ],
   "source": [
    "# matriz\n",
    "#  1  2  3  4  5  6\n",
    "#  7  8  9 10 11 12\n",
    "# 13 14 15 16 17 18\n",
    "# 19 20 21 22 23 24\n",
    "# 25 26 27 28 29 30\n",
    "# 31 32 33 34 35 36\n",
    "matrix = [1 2 3 4 5 6; 7 8 9 10 11 12; 13 14 15 16 17 18; 19 20 21 22 23 24; 25 26 27 28 29 30; 31 32 33 34 35 36]\n",
    "\n",
    "matrix[2:end, 4] # todas as linhas, a partir da segunda, na coluna 4\n",
    "matrix[5, 4:end] # todas as colunas, a partir da quarta, na linha 5"
   ]
  },
  {
   "cell_type": "markdown",
   "metadata": {
    "collapsed": false
   },
   "source": [
    "#### Retornando as instâncias em um intervalo personalizado"
   ]
  },
  {
   "cell_type": "code",
   "execution_count": 0,
   "metadata": {
    "collapsed": false
   },
   "outputs": [
   ],
   "source": [
    "# matriz\n",
    "#  1  2  3  4  5  6\n",
    "#  7  8  9 10 11 12\n",
    "# 13 14 15 16 17 18\n",
    "# 19 20 21 22 23 24\n",
    "# 25 26 27 28 29 30\n",
    "# 31 32 33 34 35 36\n",
    "matrix = [1 2 3 4 5 6; 7 8 9 10 11 12; 13 14 15 16 17 18; 19 20 21 22 23 24; 25 26 27 28 29 30; 31 32 33 34 35 36]\n",
    "\n",
    "matrix[2:4, 6] # linhas 2, 3 e 4 na coluna 6\n",
    "matrix[2, 3:5] # colunas 3, 4 e 5 na linha 2"
   ]
  },
  {
   "cell_type": "markdown",
   "metadata": {
    "collapsed": false
   },
   "source": [
    "#### Retornando as instâncias em um intervalo personalizado com o valor do *step* personalizado"
   ]
  },
  {
   "cell_type": "code",
   "execution_count": 0,
   "metadata": {
    "collapsed": false
   },
   "outputs": [
   ],
   "source": [
    "# matriz\n",
    "#  1  2  3  4  5  6\n",
    "#  7  8  9 10 11 12\n",
    "# 13 14 15 16 17 18\n",
    "# 19 20 21 22 23 24\n",
    "# 25 26 27 28 29 30\n",
    "# 31 32 33 34 35 36\n",
    "matrix = [1 2 3 4 5 6; 7 8 9 10 11 12; 13 14 15 16 17 18; 19 20 21 22 23 24; 25 26 27 28 29 30; 31 32 33 34 35 36]\n",
    "\n",
    "matrix[2:2:6, 6] # linhas 2, 4 e 6 na coluna 6 (step = 2)\n",
    "matrix[2, 1:2:5] # colunas 1, 3 e 5 na linha 2 (step = 2)"
   ]
  },
  {
   "cell_type": "markdown",
   "metadata": {
    "collapsed": false
   },
   "source": [
    "## Range x Array\n",
    "\n",
    "Uma estrutura muito útil presente no Julia, como vimos anteriormente, são os iteradores: estruturas que viabilizam a geração de dados a serem usados no momento de suas requisições, tirando a necessidade da alocação destes dados.\n",
    "A partir disso conseguimos visualizar a diferença entre percorrer um `range` e um `array`. O `array` é uma estrutura de dado para armazenamento continuo em memoria de itens, que no Julia pode ser iterável, porém mantém os dados alocados na memoria, no caso do `range`, seus valores são gerados e retornados a cada iteração, não efetuando alocação de dados.\n",
    "\n",
    "Abaixo temos dois exemplos usando o laço `for` com um `range` e um `array`. É possível observar o uso do **operador três pontos** (`...`). Este, nos exemplos abaixo, transforma um range em um array para que possamos ver a diferença entre os dois casos."
   ]
  },
  {
   "cell_type": "code",
   "execution_count": 0,
   "metadata": {
    "collapsed": false
   },
   "outputs": [
   ],
   "source": [
    "@time for i in 1:20000\n",
    "    nothing\n",
    "end"
   ]
  },
  {
   "cell_type": "code",
   "execution_count": 0,
   "metadata": {
    "collapsed": false
   },
   "outputs": [
   ],
   "source": [
    "@time for i in [1:20000...]\n",
    "    nothing\n",
    "end"
   ]
  },
  {
   "cell_type": "code",
   "execution_count": 0,
   "metadata": {
    "collapsed": false
   },
   "outputs": [
   ],
   "source": [
    "a = 1:2\n",
    "typeof(a)"
   ]
  },
  {
   "cell_type": "code",
   "execution_count": 0,
   "metadata": {
    "collapsed": false
   },
   "outputs": [
   ],
   "source": [
    "a = [1:2...]\n",
    "typeof(a)"
   ]
  },
  {
   "cell_type": "markdown",
   "metadata": {
    "collapsed": false
   },
   "source": [
    "## <título>\n",
    "\n",
    "Um dos motivos atrelados a proporcionalidade de performance do Julia com o C é a compilação Just In Time, junto a criação de funções especializadas.\n",
    "\n",
    "Um bom exemplo para mostrar essas funções especializadas são as operações aritméticas entre dados de tipos diferentes, que acontecem de de outra forma por conta da diferente representação em memória deles. Normalmente, em linguagens interpretadas, em consequência da tipagem dinâmica, o tipo de dado armazenado na variável só pode ser inferido no momento em que este dado irá ser usado. Então, é neste momento em que é definida qual função irá ser utilizada. Isso acaba aumentando o tempo de execução deste tipo de linguagem. Com o intuito de mitigar este problema, em Julia, quando uma função é criada, embora ela seja genérica, o próprio compilador da linguagem gera diversas funções diferentes para cada uma das possíveis entradas de dados, já fixando as operações que devem ser usadas para aquele tipo de entrada."
   ]
  },
  {
   "cell_type": "code",
   "execution_count": 0,
   "metadata": {
    "collapsed": false
   },
   "outputs": [
   ],
   "source": [
    "function f(a, b)\n",
    "    return 2a + b\n",
    "end"
   ]
  },
  {
   "cell_type": "code",
   "execution_count": 0,
   "metadata": {
    "collapsed": false
   },
   "outputs": [
   ],
   "source": [
    "@code_native f(2.0, 3.0)"
   ]
  },
  {
   "cell_type": "code",
   "execution_count": 0,
   "metadata": {
    "collapsed": false
   },
   "outputs": [
   ],
   "source": [
    "@code_native f(2, 3)"
   ]
  },
  {
   "cell_type": "code",
   "execution_count": 0,
   "metadata": {
    "collapsed": false
   },
   "outputs": [
   ],
   "source": [
    "\n"
   ]
  }
 ],
 "metadata": {
  "kernelspec": {
   "display_name": "Julia 1.5",
   "env": {
    "JULIA_DEPOT_PATH": "/home/user/.julia/:/ext/julia/depot/",
    "JULIA_PROJECT": "/home/user/.julia/environment/v1.5"
   },
   "language": "julia",
   "metadata": {
    "cocalc": {
     "description": "The Julia Programming Language",
     "priority": 10,
     "url": "https://julialang.org/"
    }
   },
   "name": "julia-1.5"
  },
  "language_info": {
   "file_extension": ".jl",
   "mimetype": "application/julia",
   "name": "julia",
   "version": "1.5.2"
  },
  "orig_nbformat": 2
 },
 "nbformat": 4,
 "nbformat_minor": 4
}