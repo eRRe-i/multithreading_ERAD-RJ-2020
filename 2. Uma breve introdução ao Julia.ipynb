{
 "cells": [
  {
   "cell_type": "code",
   "execution_count": 1,
   "metadata": {
    "collapsed": true,
    "scrolled": true
   },
   "outputs": [
    {
     "name": "stderr",
     "output_type": "stream",
     "text": [
      "\u001b[32m\u001b[1m Activating\u001b[22m\u001b[39m new environment at `~/Project.toml`\n"
     ]
    },
    {
     "ename": "LoadError",
     "evalue": "ArgumentError: Package StaticArrays not found in current path:\n- Run `import Pkg; Pkg.add(\"StaticArrays\")` to install the StaticArrays package.\n",
     "output_type": "error",
     "traceback": [
      "ArgumentError: Package StaticArrays not found in current path:\n- Run `import Pkg; Pkg.add(\"StaticArrays\")` to install the StaticArrays package.\n",
      "",
      "Stacktrace:",
      " [1] require(::Module, ::Symbol) at ./loading.jl:893",
      " [2] include_string(::Function, ::Module, ::String, ::String) at ./loading.jl:1091"
     ]
    }
   ],
   "source": [
    "using Pkg\n",
    "Pkg.activate(\".\")\n",
    "using CSV, DataFrames, StaticArrays\n",
    "\n",
    "path = \"../data/\"\n",
    "movies = CSV.File(path * \"movies.csv\") |> DataFrame;\n",
    "movies = movies[1:10, :]"
   ]
  },
  {
   "cell_type": "markdown",
   "metadata": {},
   "source": [
    "## Declaração das Variáveis\n",
    "Julia é uma linguagem que oferece o melhor dos dois mundos no que tange a tipagem dos dados. Além de oferecer a versatilidade de um sistema de tipagem dinâmica, também\n",
    "oferece a possibilidade de declaração de tipos, trazendo para si o ganho de performance oferecido por este sistema."
   ]
  },
  {
   "cell_type": "code",
   "execution_count": 1,
   "metadata": {},
   "outputs": [
    {
     "data": {
      "text/plain": [
       "Int64"
      ]
     },
     "execution_count": 1,
     "metadata": {},
     "output_type": "execute_result"
    }
   ],
   "source": [
    "x = 20\n",
    "typeof(x)"
   ]
  },
  {
   "cell_type": "code",
   "execution_count": 3,
   "metadata": {},
   "outputs": [
    {
     "data": {
      "text/plain": [
       "Float64"
      ]
     },
     "execution_count": 3,
     "metadata": {},
     "output_type": "execute_result"
    }
   ],
   "source": [
    "x = 1.5\n",
    "typeof(x)"
   ]
  },
  {
   "cell_type": "code",
   "execution_count": 4,
   "metadata": {
    "scrolled": true
   },
   "outputs": [
    {
     "data": {
      "text/plain": [
       "String"
      ]
     },
     "execution_count": 4,
     "metadata": {},
     "output_type": "execute_result"
    }
   ],
   "source": [
    "x = \"20\"\n",
    "typeof(x)"
   ]
  },
  {
   "cell_type": "markdown",
   "metadata": {},
   "source": [
    "Nestes casos, podem ser atribuídos diferentes tipos de valores a variável `x`, por conta da tipagem dinâmica. Para a definição dos tipos em Julia, é necessário o uso do operador `::` que define um tipo estático à variável. Porém, atualmente, não é possível a definição de tipos no escopo global."
   ]
  },
  {
   "cell_type": "code",
   "execution_count": 5,
   "metadata": {},
   "outputs": [
    {
     "ename": "LoadError",
     "evalue": "syntax: type declarations on global variables are not yet supported",
     "output_type": "error",
     "traceback": [
      "syntax: type declarations on global variables are not yet supported",
      "",
      "Stacktrace:",
      " [1] top-level scope at In[5]:1",
      " [2] include_string(::Function, ::Module, ::String, ::String) at ./loading.jl:1091",
      " [3] execute_code(::String, ::String) at /home/conrado/.julia/packages/IJulia/a1SNk/src/execute_request.jl:27",
      " [4] execute_request(::ZMQ.Socket, ::IJulia.Msg) at /home/conrado/.julia/packages/IJulia/a1SNk/src/execute_request.jl:86",
      " [5] #invokelatest#1 at ./essentials.jl:710 [inlined]",
      " [6] invokelatest at ./essentials.jl:709 [inlined]",
      " [7] eventloop(::ZMQ.Socket) at /home/conrado/.julia/packages/IJulia/a1SNk/src/eventloop.jl:8",
      " [8] (::IJulia.var\"#15#18\")() at ./task.jl:356"
     ]
    }
   ],
   "source": [
    "x::Int64 = 1"
   ]
  },
  {
   "cell_type": "markdown",
   "metadata": {},
   "source": [
    "### Situações onde a definição de tipos é possível:"
   ]
  },
  {
   "cell_type": "code",
   "execution_count": 0,
   "metadata": {},
   "outputs": [],
   "source": [
    "function foo()\n",
    "   x::Int64 = 100\n",
    "   x\n",
    "end"
   ]
  },
  {
   "cell_type": "code",
   "execution_count": 0,
   "metadata": {},
   "outputs": [],
   "source": [
    "function foo()::Int64\n",
    "   x::Int64 = 100\n",
    "   x\n",
    "end"
   ]
  },
  {
   "cell_type": "code",
   "execution_count": 0,
   "metadata": {},
   "outputs": [],
   "source": [
    "function foo(x::Int64)\n",
    "   x\n",
    "end"
   ]
  },
  {
   "cell_type": "code",
   "execution_count": 0,
   "metadata": {},
   "outputs": [],
   "source": [
    "struct teste\n",
    "    number::Int64\n",
    "end"
   ]
  },
  {
   "cell_type": "markdown",
   "metadata": {},
   "source": [
    "### Funções\n",
    "Nos exemplos acima, mostramos a declaração de tipos em uma função. Essa função, assim como as funções no geral em Julia e em outras linguagens, são operações agrupadas em um\n",
    "escopo que serão executadas toda vez que a função for chamada. Desta forma, podemos evitar repetição de código, deixando-o mais limpo e legível.\n",
    "\n",
    "Para definir uma função, começamos com a *keyword* `function` seguida pelo nome da função e, entre parênteses os parâmetros. Seu corpo, assim como as estruturas condicionais ou de repetição (faladas mais adiante), possuem o corpo identado com um *tab*, o que não é necessário, e terminam com a *keyword* `end`."
   ]
  },
  {
   "cell_type": "code",
   "execution_count": 3,
   "metadata": {},
   "outputs": [
    {
     "data": {
      "text/plain": [
       "example (generic function with 1 method)"
      ]
     },
     "execution_count": 3,
     "metadata": {},
     "output_type": "execute_result"
    }
   ],
   "source": [
    "function example()\n",
    "    corpo_identado\n",
    "end"
   ]
  },
  {
   "cell_type": "markdown",
   "metadata": {},
   "source": [
    "#### Exemplo\n",
    "\n",
    "Caso queiramos implementar uma função que recebe dois valores e nos retorna a soma desses valores, fazemos"
   ]
  },
  {
   "cell_type": "code",
   "execution_count": 5,
   "metadata": {},
   "outputs": [
    {
     "data": {
      "text/plain": [
       "sum (generic function with 1 method)"
      ]
     },
     "execution_count": 5,
     "metadata": {},
     "output_type": "execute_result"
    }
   ],
   "source": [
    "function sum(a, b)\n",
    "    return a + b\n",
    "end"
   ]
  },
  {
   "cell_type": "markdown",
   "metadata": {},
   "source": [
    "A função acima nos retorna a soma de dois números. Porém, a função não define o tipo dos parâmetros e do retorno da função. Assim, podemos passar valores como 9.2 ou até mesmo\n",
    "algum valor em `String` para a função, o que resultaria em um erro. Se quisermos definir o tipo dos parâmetros e do retorno da função, vamos utilizar o conceito visto anteriormente\n",
    "sobre tipagem. Faremos"
   ]
  },
  {
   "cell_type": "code",
   "execution_count": 0,
   "metadata": {},
   "outputs": [],
   "source": [
    "function sum(a::Int8, b::Int8)::Int8\n",
    "    return a + b\n",
    "end"
   ]
  },
  {
   "cell_type": "markdown",
   "metadata": {},
   "source": [
    "Desta forma fazemos com que a função obrigue os parâmetros recebidos a serem do tipo `Int8` e o retorno a ser, também, um Int8."
   ]
  },
  {
   "cell_type": "markdown",
   "metadata": {},
   "source": [
    "Outra maneira de se criar uma função é a partir desta forma mais curta"
   ]
  },
  {
   "cell_type": "code",
   "execution_count": 13,
   "metadata": {
    "scrolled": true
   },
   "outputs": [
    {
     "data": {
      "text/plain": [
       "sum (generic function with 2 methods)"
      ]
     },
     "execution_count": 13,
     "metadata": {},
     "output_type": "execute_result"
    }
   ],
   "source": [
    "sum(a::Int8, b::Int8)::Int8 = a + b"
   ]
  },
  {
   "cell_type": "markdown",
   "metadata": {},
   "source": [
    "Além disso, a linguagem também permite a criação de funções anônimas."
   ]
  },
  {
   "cell_type": "code",
   "execution_count": 15,
   "metadata": {},
   "outputs": [
    {
     "data": {
      "text/plain": [
       "#3 (generic function with 1 method)"
      ]
     },
     "execution_count": 15,
     "metadata": {},
     "output_type": "execute_result"
    }
   ],
   "source": [
    "(x) -> x + 2"
   ]
  },
  {
   "cell_type": "markdown",
   "metadata": {},
   "source": [
    "## Estruturas condicionais\n",
    "\n",
    "Quando queremos dar um rumo à tarefa de acordo com um condição, utilizamos as chamadas **estruturas condicionais**. Estas são estruturas que utilizam condições para a realização de alguma tarefa. Assim, caso tenhamos dois ou mais caminhos a serem seguidos baseados em alguma condição, podemos usar essas estruturas para separar e definir cada um desses possíveis caminhos a serem seguidos de acordo com o resultado desta condição, que posse ser verdadeira, com o valor lógico `true`, ou falsa, com o valor lógico `false`."
   ]
  },
  {
   "cell_type": "code",
   "execution_count": 8,
   "metadata": {},
   "outputs": [],
   "source": [
    "x = 3\n",
    "y = 5\n",
    "\n",
    "if x > y\n",
    "    print(\"X é maior.\")\n",
    "end"
   ]
  },
  {
   "cell_type": "markdown",
   "metadata": {},
   "source": [
    "Acima temos uma estrutura condicional simples, onde apenas o caso verdadeiro é executado. No entanto, caso queiramos que alguma tarefa seja executada para o caso\n",
    "de essa expressão retornar o valor `false`, utilizamos a *keyword* `else`, da seguinte forma:"
   ]
  },
  {
   "cell_type": "code",
   "execution_count": 9,
   "metadata": {},
   "outputs": [
    {
     "name": "stdout",
     "output_type": "stream",
     "text": [
      "X é menor."
     ]
    }
   ],
   "source": [
    "x = 3\n",
    "y = 5\n",
    "\n",
    "if x > y\n",
    "    print(\"X é maior\")\n",
    "else\n",
    "    print(\"X é menor.\")\n",
    "end"
   ]
  },
  {
   "cell_type": "markdown",
   "metadata": {},
   "source": [
    "Desta forma, caso o valor contido em X NÃO seja maior do que o valor contido em Y, o programa irá mostrar uma outra mensagem, informando que X é menor. \n",
    "Porém, existe uma outra condição para o caso de a primeira ser falsa: o caso em que x é **igual** a y. Se deixarmos o programa do jeito que está acima e\n",
    "essa condição for satisfeita, teremos uma saída errada. Podemos, para resolver esse problema, adicionar um outro `if` para que ele teste se o valor contido\n",
    "em x é igual ao valor contido em Y. Entretanto, usar apenas `if`s faz com que nosso programa perca desempenho, visto que ele terá de testar **todas** as condições\n",
    "mesmo que a primeira já tenha dado o valor `true`.\n",
    "Assim, conheceremos uma nova keyword: a `elseif`."
   ]
  },
  {
   "cell_type": "code",
   "execution_count": 10,
   "metadata": {},
   "outputs": [
    {
     "name": "stdout",
     "output_type": "stream",
     "text": [
      "X é menor do que Y"
     ]
    }
   ],
   "source": [
    "x = 3\n",
    "y = 5\n",
    "\n",
    "if x > y\n",
    "    print(\"X é maior do que Y\")\n",
    "elseif x == y\n",
    "    print(\"X é igual a Y\")\n",
    "else\n",
    "    print(\"X é menor do que Y\")\n",
    "end"
   ]
  },
  {
   "cell_type": "markdown",
   "metadata": {},
   "source": [
    "O `elseif` faz a mesma coisa que um `if` dentro um `else`. Ou seja, caso a expressão do `if` retorne um valor `false`, o `elseif` é acionado e faz uma outra condição.\n",
    "No exemplo acima, a condição é verificar se o valor de X é igual ao valor de Y.\n",
    "\n",
    "### Operador ternário\n",
    "\n",
    "O operador ternário funciona como um if-else mais simplificado. Para fazê-lo, basta digitar `a ? B : c`, onde `a` é a condição, `b` é a operação caso a condição seja \n",
    "verdadeira e `c` é a operação caso a condição seja falsa.\n",
    "Por exemplo, suponhamos que queremos *printar* uma mensagem na tela dependendo do valor de um número, armazenado em `x`: caso este valor seja maior do que 3.14, *printamos*\n",
    "\"Maior que PI\" e, caso contrário, \"Menor ou igual a PI\"."
   ]
  },
  {
   "cell_type": "code",
   "execution_count": 11,
   "metadata": {},
   "outputs": [
    {
     "name": "stdout",
     "output_type": "stream",
     "text": [
      "Maior que PI"
     ]
    }
   ],
   "source": [
    "x = 3.18\n",
    "print(x > 3.14 ? \"Maior que PI\" : \"Menor ou igual a PI\")"
   ]
  },
  {
   "cell_type": "markdown",
   "metadata": {},
   "source": [
    "Desta forma, temos um print mais simplificado. Se usássemos, ao invés disso, o if-else convencional, teríamos 5 linhas de código."
   ]
  },
  {
   "cell_type": "markdown",
   "metadata": {},
   "source": [
    "### Vetores"
   ]
  },
  {
   "cell_type": "markdown",
   "metadata": {},
   "source": [
    "Vetores (ou *arrays* unidimensionais) são estruturas que armazenam dados de um mesmo tipo. Isto é, caso queiramos armazenar o nome de todos os alunos de uma sala, por exemplo, podemos armazená-los em um vetor. Em Julia, vetores são inicializados utilizando a *keyword* `Array` e, entre chaves (`{}`), dizemos o tipo do vetor e sua dimensão, seguido de `(undef, length)`, onde `undef` diz ao compilador que estamos apenas alocando o espaço dos elementos do *array*, que é indefinido; e `length` o diz o tamanho de cada uma das dimensões do array."
   ]
  },
  {
   "cell_type": "code",
   "execution_count": 2,
   "metadata": {
    "scrolled": true
   },
   "outputs": [
    {
     "data": {
      "text/plain": [
       "2-element Array{Int64,1}:\n",
       " 139828070609424\n",
       " 139828429591248"
      ]
     },
     "execution_count": 2,
     "metadata": {},
     "output_type": "execute_result"
    }
   ],
   "source": [
    "array = Array{Int, 1}(undef, 2)"
   ]
  },
  {
   "cell_type": "markdown",
   "metadata": {},
   "source": [
    "No exemplo acima, fazemos a declaração de um array de números inteiros, representados por `Int` de 1 dimensão e dizemos que teremos um tamanho igual a 2. Desta forma, temos um array unidimensional com dois elementos.\n",
    "\n",
    "#### Inicialização com `zeros()`\n",
    "\n",
    "Além de inicializar o vetor da forma que vimos acima, a linguagem Julia nos permite criar arrays com todos os elementos zerados utilizando a função `zeros()`, que pode receber parâmetros indicando o tipo e a dimensão do nosso array. Caso o tipo não seja definido, como vemos no primeiro exemplo abaixo, o array é criado com o tipo `Float64`. Já no exemplo mais abaixo, temos a definição do tipo do array para `Int`."
   ]
  },
  {
   "cell_type": "code",
   "execution_count": 1,
   "metadata": {},
   "outputs": [
    {
     "data": {
      "text/plain": [
       "2-element Array{Float64,1}:\n",
       " 0.0\n",
       " 0.0"
      ]
     },
     "execution_count": 1,
     "metadata": {},
     "output_type": "execute_result"
    }
   ],
   "source": [
    "zeros(2)"
   ]
  },
  {
   "cell_type": "code",
   "execution_count": 2,
   "metadata": {},
   "outputs": [
    {
     "data": {
      "text/plain": [
       "2-element Array{Int64,1}:\n",
       " 0\n",
       " 0"
      ]
     },
     "execution_count": 2,
     "metadata": {},
     "output_type": "execute_result"
    }
   ],
   "source": [
    "zeros(Int, 2)"
   ]
  },
  {
   "cell_type": "markdown",
   "metadata": {},
   "source": [
    "### Matrizes\n",
    "As matrizes são formalmente definidas como uma dupla sequencia de valores distribuídos entre linhas e colunas e são uma das estruturas mais utilizadas para o agrupamento de valores com uma mesma finalidade.\n",
    "\n",
    "As formas de inicialização desta estrutura são simples, como podemos ver abaixo:"
   ]
  },
  {
   "cell_type": "code",
   "execution_count": 14,
   "metadata": {
    "scrolled": true
   },
   "outputs": [
    {
     "data": {
      "text/plain": [
       "2×2 Array{Int64,2}:\n",
       " 140173946765680  140174926697168\n",
       " 140174926713184  140174468641712"
      ]
     },
     "execution_count": 14,
     "metadata": {},
     "output_type": "execute_result"
    }
   ],
   "source": [
    "matriz = Array{Int, 2}(undef, (2, 2))"
   ]
  },
  {
   "cell_type": "code",
   "execution_count": 15,
   "metadata": {},
   "outputs": [
    {
     "data": {
      "text/plain": [
       "2×2 Array{Float64,2}:\n",
       " 0.0  0.0\n",
       " 0.0  0.0"
      ]
     },
     "execution_count": 15,
     "metadata": {},
     "output_type": "execute_result"
    }
   ],
   "source": [
    "matriz = zeros((2, 2))"
   ]
  },
  {
   "cell_type": "code",
   "execution_count": 16,
   "metadata": {},
   "outputs": [
    {
     "data": {
      "text/plain": [
       "2×2 Array{Int64,2}:\n",
       " 0  0\n",
       " 0  0"
      ]
     },
     "execution_count": 16,
     "metadata": {},
     "output_type": "execute_result"
    }
   ],
   "source": [
    "matriz = zeros(Int, (2, 2))"
   ]
  },
  {
   "cell_type": "markdown",
   "metadata": {},
   "source": [
    "### StaticArray"
   ]
  },
  {
   "cell_type": "markdown",
   "metadata": {},
   "source": [
    "Um aspecto importante que deve ser observado e levado em consideração na construção de códigos quando um dos objetivos é alto desempenho é a preocupação com a alocação de memória.\n",
    "\n",
    "No caso do Julia, sempre quando efetuamos a alocação de memoria usando estruturas dinâmicas, estruturas nas quais podem ser alocados diferentes tipos de dados, criamos a necessidade de um lugar para o armazenamento que disponibilize um redimensionamento do espaço. Logo, o alocamento destas estruturas acabam sendo destinado à HEAP e não à pilha, e em diversas situações isto pode ocasionar uma perda de performance no procedimento que normalmente já é o mais custoso nas aplicações.\n",
    "Mas para a solução deste problema, temos uma Library com estruturas que inibem esse problema, com a criação de vetores e matrizes estáticas."
   ]
  },
  {
   "cell_type": "code",
   "execution_count": 41,
   "metadata": {},
   "outputs": [
    {
     "data": {
      "text/plain": [
       "3-element SArray{Tuple{3},Float64,1,3} with indices SOneTo(3):\n",
       " 0.0\n",
       " 0.0\n",
       " 0.0"
      ]
     },
     "execution_count": 41,
     "metadata": {},
     "output_type": "execute_result"
    }
   ],
   "source": [
    "SVector{3,Float64}(zeros(3))"
   ]
  },
  {
   "cell_type": "code",
   "execution_count": 40,
   "metadata": {},
   "outputs": [
    {
     "data": {
      "text/plain": [
       "3-element SArray{Tuple{3},Int64,1,3} with indices SOneTo(3):\n",
       " 1\n",
       " 2\n",
       " 3"
      ]
     },
     "execution_count": 40,
     "metadata": {},
     "output_type": "execute_result"
    }
   ],
   "source": [
    "SA[1, 2, 3]"
   ]
  },
  {
   "cell_type": "markdown",
   "metadata": {},
   "source": [
    "## Estruturas de repetição\n",
    "\n",
    "Os laços de repetição são estruturas que têm como objetivo a execução repetida de uma determinada tarefa ao decorrer do código. Por exemplo, caso queiramos percorrer um vetor, podemos utilizar uma estrutura de repetição para iterar sobre os elementos armazenados na estrutura. O uso dessas estruturas de repetição facilitam nosso trabalho na manipulação de arrays.\n",
    "Em Julia, estas estruturas têm como base alguma expressão condicional ou algum elemento iterável que dita até quando a determinada tarefa irá ser executada.\n",
    "\n",
    "### Exemplo\n",
    "Temos uma lista de filmes armazenadas em um vetor e queremos exibir o nome desses vetores. Cada um dos elementos do vetor representa um filme, que pode ser entendido, também, como um vetor com as informações deste filme, como seu nome, ano de lançamento etc. Assim, se quisermos acessar alguma dessas informações, o fazemos da mesma forma que acessamos a um elemento dentro de um vetor: usando colchetes (`[]`)."
   ]
  },
  {
   "cell_type": "code",
   "execution_count": 23,
   "metadata": {},
   "outputs": [
    {
     "name": "stdout",
     "output_type": "stream",
     "text": [
      "Toy Story (1995)\n",
      "Jumanji (1995)\n",
      "Grumpier Old Men (1995)\n",
      "Waiting to Exhale (1995)\n",
      "Father of the Bride Part II (1995)\n",
      "Heat (1995)\n",
      "Sabrina (1995)\n",
      "Tom and Huck (1995)\n",
      "Sudden Death (1995)\n",
      "GoldenEye (1995)\n"
     ]
    }
   ],
   "source": [
    "for i = 1:length(elementos)\n",
    "    println(movies[i, 2])\n",
    "end"
   ]
  },
  {
   "cell_type": "markdown",
   "metadata": {},
   "source": [
    "No exemplo acima, fazemos uma estrutura de repetição usando um **for loop** que itera sobre o array `elementos`. Essa iteração acontece de maneira simples: é criado uma variável que recebe um intervalo e, enquanto esse intervalo ainda não alcançar seu máximo, as tarefas dentro do escopo da estrutura são executadas. Nesse caso, nosso intervalo vai de 1 (quando fazemos `i = 1`) até o último elemento do nosso array, representado por `length(elementos)`. Dentro do escopo da estrutura, temos um `print` com `movies[i, 2]`. Esse `movies` faz referência ao atributo que criamos lá no início do notebook, com os filmes importados do dataset. Assim, a cada iteração, temos um novo valor para a variável `i`, que nos servirá de iterador para o nosso array.\n",
    "Porém, ao invés disso, podemos, também, fazer um iterador já com o nome dos filmes. Nesse caso, nosso \"intervalo\" se baseia em cada um dos elementos contidos na nossa expressão. Por exemplo: abaixo, temos `elemento = movies[:, 2]`. Em outras palavras, essa expressão nos diz que a variável `elemento` vai receber **cada** um dos elementos contidos no array `movies[:, 2]`. \n",
    "\n",
    "#### Caractere ':'\n",
    "Quando lidamos com array, podemos usar o caractere `:` para dizer \"todo o intervalo\". Então, caso tenhamos um array de duas dimensões e queremos os elementos de **todas** as linhas, mas apenas da terceira coluna, por exemplo, podemos fazer `array[:, 3]`."
   ]
  },
  {
   "cell_type": "code",
   "execution_count": 24,
   "metadata": {},
   "outputs": [
    {
     "name": "stdout",
     "output_type": "stream",
     "text": [
      "Toy Story (1995)\n",
      "Jumanji (1995)\n",
      "Grumpier Old Men (1995)\n",
      "Waiting to Exhale (1995)\n",
      "Father of the Bride Part II (1995)\n",
      "Heat (1995)\n",
      "Sabrina (1995)\n",
      "Tom and Huck (1995)\n",
      "Sudden Death (1995)\n",
      "GoldenEye (1995)\n"
     ]
    }
   ],
   "source": [
    "for elemento = movies[:, 2]\n",
    "    println(elemento)\n",
    "end"
   ]
  },
  {
   "cell_type": "markdown",
   "metadata": {},
   "source": [
    "As estruturas acima percorrem os elementos do objeto posto após o símbolo de atribuição e, a cada iteração, o elemento atual é atribuído à variável contida antes do operador '=',\n",
    "facilitando a execução de uma determinada tarefa sobre um conjunto de elementos alvo."
   ]
  },
  {
   "cell_type": "code",
   "execution_count": 0,
   "metadata": {},
   "outputs": [],
   "source": [
    "for elemento in elementos end\n",
    "\n",
    "for i in 1:length(elementos) end"
   ]
  },
  {
   "cell_type": "markdown",
   "metadata": {},
   "source": [
    "\n",
    "Já nesses casos, embora a mudança na sintaxe, temos o mesmo funcionamento. Mas, por questões de coerência na escrita, \n",
    "é aconselhável o uso destas estruturas para percorrer objetos iteraveis e o uso da estrutura anterior para percorrer 'ranges'."
   ]
  },
  {
   "cell_type": "markdown",
   "metadata": {},
   "source": [
    "### While loop\n",
    "Aqui entramos nas estruturas que funcionam a partir de uma expressão condicional, onde a tarefa permanece sendo realizada enquanto a condição é satisfeita."
   ]
  },
  {
   "cell_type": "markdown",
   "metadata": {},
   "source": [
    "#### Exemplo:\n",
    "Caso queiramos realizar uma tarefa somente sobre os primeiros elementos de um conjunto.\n",
    "Neste caso queremos *imprimir* (tarefa) os elementos que tem o seu identificador menor que 5. Tal tarefa pode ser desempenhada desta forma:"
   ]
  },
  {
   "cell_type": "code",
   "execution_count": 5,
   "metadata": {},
   "outputs": [
    {
     "name": "stdout",
     "output_type": "stream",
     "text": [
      "Id: 1|Nome: Toy Story (1995)\n",
      "Id: 2|Nome: Jumanji (1995)\n",
      "Id: 3|Nome: Grumpier Old Men (1995)\n",
      "Id: 4|Nome: Waiting to Exhale (1995)\n"
     ]
    }
   ],
   "source": [
    "i = 1\n",
    "while movies[i, 1] < 5\n",
    "    println(\"Id: \", movies[i, 1], \"|\", \"Nome: \", movies[i, 2])\n",
    "    i+=1\n",
    "end"
   ]
  }
 ],
 "metadata": {
  "kernelspec": {
   "display_name": "Julia 1.5.3",
   "language": "julia",
   "name": "julia-1.5"
  },
  "language_info": {
   "file_extension": ".jl",
   "mimetype": "application/julia",
   "name": "julia",
   "version": "1.5.3"
  }
 },
 "nbformat": 4,
 "nbformat_minor": 4
}
