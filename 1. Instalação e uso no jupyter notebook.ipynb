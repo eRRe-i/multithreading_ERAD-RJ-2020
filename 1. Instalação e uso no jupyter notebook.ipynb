{
 "cells": [
  {
   "cell_type": "markdown",
   "metadata": {},
   "source": [
    "# O Uso da Linguagem Julia em Aplicações Paralelas: Desenvolvendo um Sistema de Recomendação"
   ]
  },
  {
   "cell_type": "markdown",
   "metadata": {},
   "source": [
    "<font color='red'>Anotações de orientação para os autores durante a elaboração do material são postas em vermelho para diferenciar do material do Minicurso. </font>"
   ]
  },
  {
   "cell_type": "markdown",
   "metadata": {},
   "source": [
    "## <font color='red'> Esqueleto:\n",
    " \n",
    "    1) O que é a Linguagem Julia, e projetos onde é aplicada;\n",
    "    2) Como instalar, onde fazer o download e como rodar no jupyter notebook, onde encontrar informação sobre Julia.\n",
    "    3) Sintaxe do Julia: declaração, funções, loops \n",
    "    4) Sintaxe: pacotes e macros\n",
    "    5) Como configurar threads, macros @threads e @spawn e como são usadas \n",
    "    6) Atomics e Locks   \n",
    "    7) Sistema de recomendação com as alterações para multithreading\n",
    "    8) fim"
   ]
  },
  {
   "cell_type": "markdown",
   "metadata": {},
   "source": [
    "## O que é a Linguagem Julia ? \n",
    "\n",
    "Julia é uma linguagem de programação desenvolvida com a proposta de reconciliar produtividade e desempenho, aliando uma sintaxe próxima de linguagens como Python e um compilador _just-in-time_ , tendo desempenho próximo de linguagens como C.\n",
    "\n",
    "Julia já tem sido usada em aplicações de larga escala, como: locomoção de robôs em terrenos acidentados (MIT); modelagem macroeconômica, na qual o Julia reduziu o tempo da computação de semanas a dias (Now-Casting Economics); catalogação de objetos astronômicos de forma massivamente paralela (NERSC); sistema de evasão de colisões em pleno voo (Federal Aviation Administration /US)."
   ]
  },
  {
   "cell_type": "markdown",
   "metadata": {},
   "source": [
    "## Como instalar o Julia e o IJulia\n",
    "\n",
    "Para instalar o Julia, é recomendável buscar sempre o binário na página inicial. Atualmente o Julia encontra-se na versão 1.5.3 em https://julialang.org/downloads/. O Julia funciona na linha de comando do terminal, muito parecido com o Python, mas é possível utilizá-la com uma IDE. O Juno é a IDE recomendada que funciona sobre o Atom, mais informações em: https://junolab.org/.\n",
    "![Imgur](https://imgur.com/CB4DkZm.png)"
   ]
  },
  {
   "cell_type": "markdown",
   "metadata": {},
   "source": [
    "## Como fazer o Julia executar no seu Jupyter Notebook?\n",
    "\n",
    "<font color='blue'> Adicionar pequeno enxerto sobre o jupyter notebook e sobre o porque escolhemos o jupyter notebook para o ambiente. \n",
    "    Adicionar comentário sobre o Pluto. </font>\n",
    "\n",
    "É possível executar o Julia em seu jupyter notebook, para fazê-lo, instale o pacote IJulia no seu Julia:"
   ]
  },
  {
   "cell_type": "code",
   "execution_count": null,
   "metadata": {},
   "outputs": [],
   "source": [
    "using Pkg; Pkg.add(\"IJulia\"); Pkg.build(\"IJulia\") #não é necessário executar essa linha de código aqui"
   ]
  },
  {
   "cell_type": "markdown",
   "metadata": {},
   "source": [
    "Este processo informará ao jupyter as especificações necessárias para executar o Julia. Mais informações em: https://julialang.github.io/IJulia.jl/stable/manual/installation/.\n",
    "\n",
    "Uma vez instalado. Também é possível abrir o jupyter a partir do Julia. Com o I Julia compilado. execute o comando `notebook()`. O jupyter deve abrir o navegador de sua preferência."
   ]
  },
  {
   "cell_type": "code",
   "execution_count": null,
   "metadata": {},
   "outputs": [],
   "source": [
    "using IJulia; notebook() # este comando compila o pacote IJulia e depois inicia o notebook, \n",
    "                         # apenas como exemplo, não é necessário executar"
   ]
  },
  {
   "cell_type": "markdown",
   "metadata": {},
   "source": [
    "## Metaprogramação\n",
    "\n",
    "### O que são macros?\n",
    "\n",
    "Macros são uma forma de utilizar o código da linguagem e transformá-lo para gerar outro pedaço de código. Em outras palavras, é possível ter código como um objeto da própria linguagem. É fundamentalmente diferente de lidar com variáveis e funções, que são expressões que já foram analisados pelo compilador."
   ]
  },
  {
   "cell_type": "code",
   "execution_count": 199,
   "metadata": {},
   "outputs": [],
   "source": [
    "x = 20;"
   ]
  },
  {
   "cell_type": "code",
   "execution_count": 249,
   "metadata": {},
   "outputs": [
    {
     "data": {
      "text/plain": [
       "23"
      ]
     },
     "execution_count": 249,
     "metadata": {},
     "output_type": "execute_result"
    }
   ],
   "source": [
    "x = x+1"
   ]
  },
  {
   "cell_type": "code",
   "execution_count": 73,
   "metadata": {},
   "outputs": [
    {
     "data": {
      "text/plain": [
       "soma_1 (generic function with 1 method)"
      ]
     },
     "execution_count": 73,
     "metadata": {},
     "output_type": "execute_result"
    }
   ],
   "source": [
    "function soma_1(x)\n",
    "    x = x + 1\n",
    "    x\n",
    "end"
   ]
  },
  {
   "cell_type": "code",
   "execution_count": 252,
   "metadata": {},
   "outputs": [
    {
     "data": {
      "text/plain": [
       "26"
      ]
     },
     "execution_count": 252,
     "metadata": {},
     "output_type": "execute_result"
    }
   ],
   "source": [
    "x = soma_1(x)"
   ]
  },
  {
   "cell_type": "markdown",
   "metadata": {},
   "source": [
    "As macros geram e incluem fragmentos de código personalizado durante o tempo de interpretação, portanto, antes da execução do programa completo."
   ]
  },
  {
   "cell_type": "code",
   "execution_count": null,
   "metadata": {},
   "outputs": [],
   "source": [
    "macro sayhello()\n",
    "           return :( println(\"Hello, world!\") )\n",
    "       end"
   ]
  },
  {
   "cell_type": "code",
   "execution_count": 264,
   "metadata": {},
   "outputs": [
    {
     "data": {
      "text/plain": [
       "@soma_unaria (macro with 1 method)"
      ]
     },
     "execution_count": 264,
     "metadata": {},
     "output_type": "execute_result"
    }
   ],
   "source": [
    "macro soma_unaria(value)\n",
    "    return :($value + 1)\n",
    "end"
   ]
  },
  {
   "cell_type": "code",
   "execution_count": 268,
   "metadata": {},
   "outputs": [
    {
     "data": {
      "text/plain": [
       "20"
      ]
     },
     "execution_count": 268,
     "metadata": {},
     "output_type": "execute_result"
    }
   ],
   "source": [
    "x = 20"
   ]
  },
  {
   "cell_type": "code",
   "execution_count": 270,
   "metadata": {},
   "outputs": [
    {
     "data": {
      "text/plain": [
       "21"
      ]
     },
     "execution_count": 270,
     "metadata": {},
     "output_type": "execute_result"
    }
   ],
   "source": [
    "@soma_unaria x"
   ]
  },
  {
   "cell_type": "code",
   "execution_count": 244,
   "metadata": {},
   "outputs": [
    {
     "data": {
      "text/plain": [
       "21"
      ]
     },
     "execution_count": 244,
     "metadata": {},
     "output_type": "execute_result"
    }
   ],
   "source": [
    "@somaunaria 15"
   ]
  },
  {
   "cell_type": "code",
   "execution_count": 245,
   "metadata": {},
   "outputs": [
    {
     "data": {
      "text/plain": [
       "@soma_um (macro with 1 method)"
      ]
     },
     "execution_count": 245,
     "metadata": {},
     "output_type": "execute_result"
    }
   ],
   "source": [
    "macro soma_um(value)\n",
    "    local x = :($value) + 1\n",
    "    x\n",
    "end "
   ]
  },
  {
   "cell_type": "code",
   "execution_count": 246,
   "metadata": {},
   "outputs": [
    {
     "data": {
      "text/plain": [
       "16"
      ]
     },
     "execution_count": 246,
     "metadata": {},
     "output_type": "execute_result"
    }
   ],
   "source": [
    "@soma_um 15"
   ]
  },
  {
   "cell_type": "code",
   "execution_count": 53,
   "metadata": {},
   "outputs": [
    {
     "data": {
      "text/plain": [
       "@soma (macro with 1 method)"
      ]
     },
     "execution_count": 53,
     "metadata": {},
     "output_type": "execute_result"
    }
   ],
   "source": [
    "macro soma(args...)\n",
    "    @assert args[2] == \"mais\"\n",
    "    args[1] + args[3]\n",
    "end"
   ]
  },
  {
   "cell_type": "code",
   "execution_count": 56,
   "metadata": {},
   "outputs": [
    {
     "data": {
      "text/plain": [
       "4"
      ]
     },
     "execution_count": 56,
     "metadata": {},
     "output_type": "execute_result"
    }
   ],
   "source": [
    "@soma 2 \"mais\" 2"
   ]
  },
  {
   "cell_type": "code",
   "execution_count": 58,
   "metadata": {},
   "outputs": [
    {
     "data": {
      "text/plain": [
       "4"
      ]
     },
     "execution_count": 58,
     "metadata": {},
     "output_type": "execute_result"
    }
   ],
   "source": [
    "@soma(2, \"mais\", 2)"
   ]
  },
  {
   "cell_type": "markdown",
   "metadata": {},
   "source": [
    "### Literais, símbolos e expressões\n",
    "\n",
    "Símbolos, literais e expressões são strings internadas, que passaram pela análise sintática, mas que ainda não foram avaliadas."
   ]
  },
  {
   "cell_type": "code",
   "execution_count": 114,
   "metadata": {},
   "outputs": [
    {
     "data": {
      "text/plain": [
       "@whatisit (macro with 1 method)"
      ]
     },
     "execution_count": 114,
     "metadata": {},
     "output_type": "execute_result"
    }
   ],
   "source": [
    "macro whatisit(exp)\n",
    "    println(typeof(:($exp)))\n",
    "end"
   ]
  },
  {
   "cell_type": "code",
   "execution_count": 115,
   "metadata": {},
   "outputs": [
    {
     "name": "stdout",
     "output_type": "stream",
     "text": [
      "Int64\n"
     ]
    }
   ],
   "source": [
    "@whatisit(2)"
   ]
  },
  {
   "cell_type": "code",
   "execution_count": 116,
   "metadata": {},
   "outputs": [
    {
     "name": "stdout",
     "output_type": "stream",
     "text": [
      "String\n"
     ]
    }
   ],
   "source": [
    "@whatisit(\"Hello\")"
   ]
  },
  {
   "cell_type": "code",
   "execution_count": 117,
   "metadata": {},
   "outputs": [
    {
     "name": "stdout",
     "output_type": "stream",
     "text": [
      "Symbol\n"
     ]
    }
   ],
   "source": [
    "@whatisit(x)"
   ]
  },
  {
   "cell_type": "code",
   "execution_count": 118,
   "metadata": {},
   "outputs": [
    {
     "name": "stdout",
     "output_type": "stream",
     "text": [
      "Expr\n"
     ]
    }
   ],
   "source": [
    "@whatisit(2 + 2)"
   ]
  },
  {
   "cell_type": "code",
   "execution_count": 120,
   "metadata": {},
   "outputs": [
    {
     "name": "stdout",
     "output_type": "stream",
     "text": [
      "Expr\n",
      "  head: Symbol call\n",
      "  args: Array{Any}((3,))\n",
      "    1: Symbol +\n",
      "    2: Int64 2\n",
      "    3: Int64 2\n"
     ]
    }
   ],
   "source": [
    "dump(:(2+2))"
   ]
  },
  {
   "cell_type": "code",
   "execution_count": 121,
   "metadata": {},
   "outputs": [
    {
     "data": {
      "text/plain": [
       "4"
      ]
     },
     "execution_count": 121,
     "metadata": {},
     "output_type": "execute_result"
    }
   ],
   "source": [
    "+(2,2)"
   ]
  },
  {
   "cell_type": "code",
   "execution_count": 149,
   "metadata": {},
   "outputs": [
    {
     "data": {
      "text/plain": [
       "4"
      ]
     },
     "execution_count": 149,
     "metadata": {},
     "output_type": "execute_result"
    }
   ],
   "source": [
    "eval(2+2)"
   ]
  },
  {
   "cell_type": "markdown",
   "metadata": {},
   "source": [
    "**Note:** Se tirarmos os comentários da soma unária, veremos que o que é passado para a macro e o símbolo avaliado são duas coisas distintas. Isso porque o literal, símbolo ou expressão é o que é passado em tempo de compilação. A avaliação deles é que é realizado em tempo de execução."
   ]
  },
  {
   "cell_type": "code",
   "execution_count": 176,
   "metadata": {},
   "outputs": [
    {
     "data": {
      "text/plain": [
       "@soma_unaria_ (macro with 1 method)"
      ]
     },
     "execution_count": 176,
     "metadata": {},
     "output_type": "execute_result"
    }
   ],
   "source": [
    "macro soma_unaria_(value)\n",
    "    println(typeof(value))\n",
    "    value  = eval(value)\n",
    "    println(value)\n",
    "    value + 1\n",
    "end "
   ]
  },
  {
   "cell_type": "code",
   "execution_count": 177,
   "metadata": {},
   "outputs": [
    {
     "name": "stdout",
     "output_type": "stream",
     "text": [
      "Symbol\n",
      "20\n"
     ]
    },
    {
     "data": {
      "text/plain": [
       "21"
      ]
     },
     "execution_count": 177,
     "metadata": {},
     "output_type": "execute_result"
    }
   ],
   "source": [
    "@soma_unaria_(x)"
   ]
  },
  {
   "cell_type": "markdown",
   "metadata": {},
   "source": [
    "### Assim como funções, macros também podem ter multiple dispatch"
   ]
  },
  {
   "cell_type": "code",
   "execution_count": 97,
   "metadata": {},
   "outputs": [
    {
     "data": {
      "text/plain": [
       "@yousaygoodbye (macro with 2 methods)"
      ]
     },
     "execution_count": 97,
     "metadata": {},
     "output_type": "execute_result"
    }
   ],
   "source": [
    "macro yousaygoodbye()\n",
    "    :(println(\"and I say hello\"))\n",
    "end\n",
    "macro yousaygoodbye(exp)\n",
    "    :(println(\"and I say hello, \",$exp))\n",
    "end"
   ]
  },
  {
   "cell_type": "code",
   "execution_count": 93,
   "metadata": {},
   "outputs": [
    {
     "name": "stdout",
     "output_type": "stream",
     "text": [
      "and I say hello\n"
     ]
    }
   ],
   "source": [
    "@yousaygoodbye"
   ]
  },
  {
   "cell_type": "code",
   "execution_count": 98,
   "metadata": {},
   "outputs": [
    {
     "name": "stdout",
     "output_type": "stream",
     "text": [
      "and I say hello, Julia\n"
     ]
    }
   ],
   "source": [
    "@yousaygoodbye \"Julia\""
   ]
  },
  {
   "cell_type": "markdown",
   "metadata": {},
   "source": [
    "## Algumas macros interessantes!\n",
    "Usar macros é uma forma muito limpa e prática de representar um código:\n",
    "\n",
    "Existem mascros padrões da linguagem e muitas outras mais em pacotes do Julia\n",
    "\n",
    "adicionar @inbounds, @btime"
   ]
  },
  {
   "cell_type": "markdown",
   "metadata": {},
   "source": [
    "### @ccall"
   ]
  },
  {
   "cell_type": "code",
   "execution_count": 154,
   "metadata": {},
   "outputs": [
    {
     "data": {
      "text/plain": [
       "5"
      ]
     },
     "execution_count": 154,
     "metadata": {},
     "output_type": "execute_result"
    }
   ],
   "source": [
    "ccall(:strlen, Cint, (Cstring,), \"Maria\") #"
   ]
  },
  {
   "cell_type": "code",
   "execution_count": 155,
   "metadata": {},
   "outputs": [
    {
     "data": {
      "text/plain": [
       "5"
      ]
     },
     "execution_count": 155,
     "metadata": {},
     "output_type": "execute_result"
    }
   ],
   "source": [
    "@ccall strlen(\"Maria\"::Cstring)::Cint # macro ccall"
   ]
  },
  {
   "cell_type": "markdown",
   "metadata": {},
   "source": [
    "### @elapsed e @time"
   ]
  },
  {
   "cell_type": "code",
   "execution_count": 182,
   "metadata": {},
   "outputs": [
    {
     "data": {
      "text/plain": [
       "0.455398732"
      ]
     },
     "execution_count": 182,
     "metadata": {},
     "output_type": "execute_result"
    }
   ],
   "source": [
    "@elapsed peakflops()"
   ]
  },
  {
   "cell_type": "code",
   "execution_count": 180,
   "metadata": {},
   "outputs": [
    {
     "data": {
      "text/plain": [
       "quote\n",
       "    while false\n",
       "    end\n",
       "    local var\"#148#t0\" = Base.time_ns()\n",
       "    [(j - 1) * 100 + i for i = 1:100, j = 1:100]\n",
       "    (Base.time_ns() - var\"#148#t0\") / 1.0e9\n",
       "end"
      ]
     },
     "execution_count": 180,
     "metadata": {},
     "output_type": "execute_result"
    }
   ],
   "source": [
    "Base.remove_linenums!(@macroexpand @elapsed peakflops())"
   ]
  },
  {
   "cell_type": "code",
   "execution_count": 184,
   "metadata": {},
   "outputs": [
    {
     "name": "stdout",
     "output_type": "stream",
     "text": [
      "  0.348026 seconds (11 allocations: 61.188 MiB, 1.21% gc time)\n"
     ]
    },
    {
     "data": {
      "text/plain": [
       "4.89565316118536e10"
      ]
     },
     "execution_count": 184,
     "metadata": {},
     "output_type": "execute_result"
    }
   ],
   "source": [
    "@time peakflops()"
   ]
  },
  {
   "cell_type": "markdown",
   "metadata": {},
   "source": [
    "## Adicionar parte sobre pacote\n",
    "\n",
    "Falar sobre Pkg3 - sistema de gerenciamento de pacotes, dependências, versão etc.\n",
    "\n",
    "Falar sobre pacotes famosos"
   ]
  },
  {
   "cell_type": "markdown",
   "metadata": {},
   "source": [
    "## Threads\n",
    "\n",
    "No Julia, até o presente momento, não é possível alterar a quantidade de threads em tempo de execução."
   ]
  },
  {
   "cell_type": "markdown",
   "metadata": {},
   "source": [
    "## Como configurar a quantidade de threads no ambiente?\n",
    "\n",
    "Iremos trabalhar com threads, para isso, é necessário que o Julia seja inicializado com a quantidade de threads configuradas."
   ]
  },
  {
   "cell_type": "markdown",
   "metadata": {},
   "source": [
    "#### Como variável de ambiente\n",
    "**Ubuntu** :\n",
    "É possível definir um valor para uma variável de ambiente antes de iniciar o Julia:\n",
    "\n",
    "<img align='left' src='https://i.imgur.com/fxYMIsT.png'> </img>"
   ]
  },
  {
   "cell_type": "markdown",
   "metadata": {},
   "source": [
    "Também é possível definir o valor de JULIA_NUM_THREADS no arquivo bash para definir a quantidade de threads de forma permanente."
   ]
  },
  {
   "cell_type": "markdown",
   "metadata": {},
   "source": [
    "#### Ao iniciar o Julia no terminal\n",
    "Para definir threads ao iniciar o Julia, basta passar o número de threads desejado como argumento ao iniciar o julia\n",
    "\n",
    "<img align='left' src='https://i.imgur.com/AtPZS1V.png'> </img>"
   ]
  },
  {
   "cell_type": "markdown",
   "metadata": {},
   "source": [
    "#### No Atom: \n",
    "Com o Juno instalado, vá na Aba Juno -> Settings -> Julia Options -> Number of Threads. Depois, reinicie o Atom.\n",
    "\n",
    "<img align='left' src='https://i.imgur.com/vu4f4RU.png'> </img>"
   ]
  },
  {
   "cell_type": "code",
   "execution_count": 187,
   "metadata": {},
   "outputs": [
    {
     "name": "stderr",
     "output_type": "stream",
     "text": [
      "\u001b[32m\u001b[1m  Resolving\u001b[22m\u001b[39m package versions...\n",
      "\u001b[32m\u001b[1mNo Changes\u001b[22m\u001b[39m to `~/.julia/environments/v1.5/Project.toml`\n",
      "\u001b[32m\u001b[1mNo Changes\u001b[22m\u001b[39m to `~/.julia/environments/v1.5/Manifest.toml`\n"
     ]
    }
   ],
   "source": [
    "using Pkg; Pkg.add(\"BenchmarkTools\");"
   ]
  },
  {
   "cell_type": "code",
   "execution_count": 188,
   "metadata": {},
   "outputs": [
    {
     "name": "stderr",
     "output_type": "stream",
     "text": [
      "┌ Info: Precompiling BenchmarkTools [6e4b80f9-dd63-53aa-95a3-0cdb28fa8baf]\n",
      "└ @ Base loading.jl:1278\n"
     ]
    }
   ],
   "source": [
    "using BenchmarkTools\n",
    "using Base.Threads"
   ]
  },
  {
   "cell_type": "markdown",
   "metadata": {},
   "source": [
    "## @threads for loops\n",
    "\n",
    "A macro @threads é a primeira macro que iremos ver. Ela é utilizada para loops e divide a região onde será feita a paralelização das operações entre as threads disponíveis. O modelo atual de @threads em Julia funciona com "
   ]
  },
  {
   "cell_type": "code",
   "execution_count": 190,
   "metadata": {},
   "outputs": [
    {
     "data": {
      "text/plain": [
       "2"
      ]
     },
     "execution_count": 190,
     "metadata": {},
     "output_type": "execute_result"
    }
   ],
   "source": [
    "Threads.nthreads()"
   ]
  },
  {
   "cell_type": "code",
   "execution_count": 196,
   "metadata": {},
   "outputs": [
    {
     "data": {
      "text/plain": [
       "9-element Array{Int64,1}:\n",
       " 1\n",
       " 1\n",
       " 1\n",
       " 1\n",
       " 1\n",
       " 2\n",
       " 2\n",
       " 2\n",
       " 2"
      ]
     },
     "execution_count": 196,
     "metadata": {},
     "output_type": "execute_result"
    }
   ],
   "source": [
    "function threadid_array(n)\n",
    "    arr = Array{Int64}(undef, n)\n",
    "    @threads for i = 1:length(arr)\n",
    "        arr[i] = Threads.threadid()\n",
    "    end\n",
    "    return arr\n",
    "end\n",
    "threadid_array(9)"
   ]
  },
  {
   "cell_type": "code",
   "execution_count": null,
   "metadata": {},
   "outputs": [],
   "source": []
  }
 ],
 "metadata": {
  "kernelspec": {
   "display_name": "Julia 1.5.3",
   "language": "julia",
   "name": "julia-1.5"
  },
  "language_info": {
   "file_extension": ".jl",
   "mimetype": "application/julia",
   "name": "julia",
   "version": "1.5.3"
  }
 },
 "nbformat": 4,
 "nbformat_minor": 4
}
