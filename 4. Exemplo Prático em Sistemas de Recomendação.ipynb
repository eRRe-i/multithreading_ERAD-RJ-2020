{
 "cells": [
  {
   "cell_type": "code",
   "execution_count": 18,
   "metadata": {},
   "outputs": [
    {
     "name": "stderr",
     "output_type": "stream",
     "text": [
      "\u001b[32m\u001b[1m Activating\u001b[22m\u001b[39m new environment at `~/Codes/Julia/MiniCurso/notebooks/Project.toml`\n"
     ]
    }
   ],
   "source": [
    "using Pkg\n",
    "Pkg.activate(\".\")\n",
    "using CSV, DataFrames\n",
    "\n",
    "path = \"../data/\"\n",
    "movies = CSV.File(path * \"movies.csv\") |> DataFrame;"
   ]
  },
  {
   "cell_type": "markdown",
   "metadata": {},
   "source": [
    "## Importação dos dados"
   ]
  },
  {
   "cell_type": "code",
   "execution_count": 16,
   "metadata": {},
   "outputs": [],
   "source": [
    "ratings = CSV.File(path * \"ratings.csv\") |> DataFrame;"
   ]
  },
  {
   "cell_type": "code",
   "execution_count": 22,
   "metadata": {},
   "outputs": [],
   "source": [
    "usersSize = length(unique(ratings[:, 1]))\n",
    "moviesSize = size(movies, 1)\n",
    "\n",
    "movieRatings = zeros(usersSize, moviesSize)\n",
    "\n",
    "for i=1:size(ratings, 1)\n",
    "    movieRatings[ratings[i, 1], getMoviePositionById(ratings[i, 2])] = ratings[i, 3]\n",
    "end"
   ]
  },
  {
   "cell_type": "markdown",
   "metadata": {},
   "source": [
    "## Construção das funções para acesso aos dados"
   ]
  },
  {
   "cell_type": "code",
   "execution_count": 4,
   "metadata": {},
   "outputs": [
    {
     "data": {
      "text/plain": [
       "getGenres (generic function with 2 methods)"
      ]
     },
     "execution_count": 4,
     "metadata": {},
     "output_type": "execute_result"
    }
   ],
   "source": [
    "getMovieNameById(id) = movies[findfirst(x -> x == id, movies[:, 1]), 2]\n",
    "\n",
    "getMoviePositionById(id) = findfirst(x -> x == id, movies[:, 1])\n",
    "\n",
    "getMovieIdByName(name) = movies[findfirst(x -> x == name, movies[:, 2]), 1]"
   ]
  },
  {
   "cell_type": "code",
   "execution_count": 14,
   "metadata": {},
   "outputs": [
    {
     "data": {
      "text/plain": [
       "\"Waiting to Exhale (1995)\""
      ]
     },
     "execution_count": 14,
     "metadata": {},
     "output_type": "execute_result"
    }
   ],
   "source": [
    "getMovieNameById(4)"
   ]
  },
  {
   "cell_type": "code",
   "execution_count": 5,
   "metadata": {},
   "outputs": [
    {
     "data": {
      "text/plain": [
       "getGenres (generic function with 2 methods)"
      ]
     },
     "execution_count": 5,
     "metadata": {},
     "output_type": "execute_result"
    }
   ],
   "source": [
    "getGenres(id::Int) = movies[findfirst(x -> x == id, movies[:, 1]), 3]\n",
    "\n",
    "getGenres(name::String) =  movies[findfirst(x -> x == name, movies[:, 2]), 3]"
   ]
  },
  {
   "cell_type": "markdown",
   "metadata": {},
   "source": [
    "## Construção das funções para acesso aos dados"
   ]
  },
  {
   "cell_type": "code",
   "execution_count": 9,
   "metadata": {},
   "outputs": [
    {
     "data": {
      "text/plain": [
       "similarity (generic function with 1 method)"
      ]
     },
     "execution_count": 9,
     "metadata": {},
     "output_type": "execute_result"
    }
   ],
   "source": [
    "cosineDistance(v1, v2) = sum(v1 .* v2) / ((sum(v1 .^ 2) ^ (1/2)) * (sum(v1 .^ 2) ^ (1/2)))\n",
    "\n",
    "function similarity(id, k)\n",
    "    position = getMoviePositionById(id)\n",
    "    println(\"Target: \" * getMovieNameById(id))\n",
    "    similarities = []\n",
    "    for i=1:size(movieRatings, 2)\n",
    "        i == position ? continue : nothing\n",
    "        push!(similarities, [cosineDistance(movieRatings[:, position], movieRatings[:, i]), movies[i, 2]])\n",
    "    end\n",
    "    sort!(similarities, by = x -> x[1], rev=true)\n",
    "    for movie in similarities[1:k]\n",
    "        println(\"Similaridade: \" * string(movie[1]), \"| \" * movie[2])\n",
    "    end\n",
    "end"
   ]
  },
  {
   "cell_type": "code",
   "execution_count": 10,
   "metadata": {},
   "outputs": [
    {
     "name": "stdout",
     "output_type": "stream",
     "text": [
      "Target: Jumanji (1995)\n",
      "Similaridade: 0.949465676507879| Forrest Gump (1994)\n",
      "Similaridade: 0.8592646259735555| Jurassic Park (1993)\n",
      "Similaridade: 0.8369860532512226| Lion King, The (1994)\n",
      "Similaridade: 0.8089114290889332| Shawshank Redemption, The (1994)\n",
      "Similaridade: 0.7893497554790799| Pulp Fiction (1994)\n"
     ]
    }
   ],
   "source": [
    "similarity(2, 5)"
   ]
  }
 ],
 "metadata": {
  "kernelspec": {
   "display_name": "Julia 1.5.3",
   "language": "julia",
   "name": "julia-1.5"
  },
  "language_info": {
   "file_extension": ".jl",
   "mimetype": "application/julia",
   "name": "julia",
   "version": "1.5.3"
  }
 },
 "nbformat": 4,
 "nbformat_minor": 4
}
