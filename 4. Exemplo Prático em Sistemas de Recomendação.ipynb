{
 "cells": [
  {
   "cell_type": "markdown",
   "metadata": {},
   "source": [
    "<tr width=\"140%\" style=\"border: none;\">\n",
    " <td style=\"border: none;\" width=\"120px\">\n",
    "    <img align=\"left\" src=\"https://i.imgur.com/zC3NxsV.png\" width=\"130\"/> \n",
    "  </td>\n",
    "  <td style=\"border: none; text-align: left\" width=\"80%\">\n",
    "    <h1><a>Exemplo Prático em Sistemas de Recomendação</a></h1>\n",
    "    <td>\n",
    "</tr>\n",
    "<tr width=\"100%\" style=\"border: none; text-align: left\">\n",
    "    <td colspan=\"2\" style=\"border: none; text-align: left\">\n",
    "        <body> Leandro Bataglia, Pedro Machado, Gabriel Marinho, <br> Filipe Braida, Juliana Zamith, Leandro Alvim e Raul Ferreira </body>\n",
    "    </td>\n",
    "    </tr>"
   ]
  },
  {
   "cell_type": "code",
   "execution_count": 1,
   "metadata": {},
   "outputs": [
    {
     "name": "stderr",
     "output_type": "stream",
     "text": [
      "\u001b[32m\u001b[1m Activating\u001b[22m\u001b[39m environment at `~/Área de Trabalho/GitHub-projetos/multithreading_ERAD-RJ-2020/Project.toml`\n",
      "\u001b[32m\u001b[1m   Updating\u001b[22m\u001b[39m registry at `~/.julia/registries/General`\n"
     ]
    },
    {
     "name": "stdout",
     "output_type": "stream",
     "text": [
      "\u001b[?25l    "
     ]
    },
    {
     "name": "stderr",
     "output_type": "stream",
     "text": [
      "\u001b[32m\u001b[1m   Updating\u001b[22m\u001b[39m git-repo `https://github.com/JuliaRegistries/General.git`\n"
     ]
    },
    {
     "name": "stdout",
     "output_type": "stream",
     "text": [
      "\u001b[36m\u001b[1mFetching:\u001b[22m\u001b[39m [>                                        ]  0.0 %\r",
      "    \u001b[36m\u001b[1mFetching:\u001b[22m\u001b[39m [=>                                       ]  0.8 %\r",
      "    \u001b[36m\u001b[1mFetching:\u001b[22m\u001b[39m [=>                                       ]  1.5 %\r",
      "    \u001b[36m\u001b[1mFetching:\u001b[22m\u001b[39m [=>                                       ]  2.3 %\r",
      "    \u001b[36m\u001b[1mFetching:\u001b[22m\u001b[39m [==>                                      ]  3.1 %\r",
      "    \u001b[36m\u001b[1mFetching:\u001b[22m\u001b[39m [==>                                      ]  3.8 %\r",
      "    \u001b[36m\u001b[1mFetching:\u001b[22m\u001b[39m [==>                                      ]  4.6 %\r",
      "    \u001b[36m\u001b[1mFetching:\u001b[22m\u001b[39m [===>                                     ]  5.4 %\r",
      "    \u001b[36m\u001b[1mFetching:\u001b[22m\u001b[39m [===>                                     ]  6.2 %\r",
      "    \u001b[36m\u001b[1mFetching:\u001b[22m\u001b[39m [===>                                     ]  6.9 %\r",
      "    \u001b[36m\u001b[1mFetching:\u001b[22m\u001b[39m [====>                                    ]  7.7 %\r",
      "    \u001b[36m\u001b[1mFetching:\u001b[22m\u001b[39m [====>                                    ]  8.5 %\r",
      "    \u001b[36m\u001b[1mFetching:\u001b[22m\u001b[39m [====>                                    ]  9.2 %\r",
      "    \u001b[36m\u001b[1mFetching:\u001b[22m\u001b[39m [====>                                    ]  10.0 %\r",
      "    \u001b[36m\u001b[1mFetching:\u001b[22m\u001b[39m [=====>                                   ]  10.8 %\r",
      "    \u001b[36m\u001b[1mFetching:\u001b[22m\u001b[39m [=====>                                   ]  11.5 %\r",
      "    \u001b[36m\u001b[1mFetching:\u001b[22m\u001b[39m [=====>                                   ]  12.3 %\r",
      "    \u001b[36m\u001b[1mFetching:\u001b[22m\u001b[39m [======>                                  ]  13.1 %\r",
      "    \u001b[36m\u001b[1mFetching:\u001b[22m\u001b[39m [======>                                  ]  13.8 %\r",
      "    \u001b[36m\u001b[1mFetching:\u001b[22m\u001b[39m [======>                                  ]  14.6 %\r",
      "    \u001b[36m\u001b[1mFetching:\u001b[22m\u001b[39m [=======>                                 ]  15.4 %\r",
      "    \u001b[36m\u001b[1mFetching:\u001b[22m\u001b[39m [=======>                                 ]  16.2 %\r",
      "    \u001b[36m\u001b[1mFetching:\u001b[22m\u001b[39m [=======>                                 ]  16.9 %\r",
      "    \u001b[36m\u001b[1mFetching:\u001b[22m\u001b[39m [========>                                ]  17.7 %\r",
      "    \u001b[36m\u001b[1mFetching:\u001b[22m\u001b[39m [========>                                ]  18.5 %\r",
      "    \u001b[36m\u001b[1mFetching:\u001b[22m\u001b[39m [========>                                ]  19.2 %\r",
      "    \u001b[36m\u001b[1mFetching:\u001b[22m\u001b[39m [========>                                ]  20.0 %\r",
      "    \u001b[36m\u001b[1mFetching:\u001b[22m\u001b[39m [=========>                               ]  20.8 %\r",
      "    \u001b[36m\u001b[1mFetching:\u001b[22m\u001b[39m [=========>                               ]  21.5 %\r",
      "    \u001b[36m\u001b[1mFetching:\u001b[22m\u001b[39m [=========>                               ]  22.3 %\r",
      "    \u001b[36m\u001b[1mFetching:\u001b[22m\u001b[39m [==========>                              ]  23.1 %\r",
      "    \u001b[36m\u001b[1mFetching:\u001b[22m\u001b[39m [==========>                              ]  23.8 %\r",
      "    \u001b[36m\u001b[1mFetching:\u001b[22m\u001b[39m [==========>                              ]  24.6 %\r",
      "    \u001b[36m\u001b[1mFetching:\u001b[22m\u001b[39m [===========>                             ]  25.4 %\r",
      "    \u001b[36m\u001b[1mFetching:\u001b[22m\u001b[39m [===========>                             ]  26.2 %\r",
      "    \u001b[36m\u001b[1mFetching:\u001b[22m\u001b[39m [===========>                             ]  26.9 %\r",
      "    \u001b[36m\u001b[1mFetching:\u001b[22m\u001b[39m [============>                            ]  27.7 %\r",
      "    \u001b[36m\u001b[1mFetching:\u001b[22m\u001b[39m [============>                            ]  28.5 %\r",
      "    \u001b[36m\u001b[1mFetching:\u001b[22m\u001b[39m [============>                            ]  29.2 %\r",
      "    \u001b[36m\u001b[1mFetching:\u001b[22m\u001b[39m [============>                            ]  30.0 %\r",
      "    \u001b[36m\u001b[1mFetching:\u001b[22m\u001b[39m [=============>                           ]  30.8 %\r",
      "    \u001b[36m\u001b[1mFetching:\u001b[22m\u001b[39m [=============>                           ]  31.5 %\r",
      "    \u001b[36m\u001b[1mFetching:\u001b[22m\u001b[39m [=============>                           ]  32.3 %\r",
      "    \u001b[36m\u001b[1mFetching:\u001b[22m\u001b[39m [==============>                          ]  33.1 %\r",
      "    \u001b[36m\u001b[1mFetching:\u001b[22m\u001b[39m [==============>                          ]  33.8 %\r",
      "    \u001b[36m\u001b[1mFetching:\u001b[22m\u001b[39m [==============>                          ]  34.6 %\r",
      "    \u001b[36m\u001b[1mFetching:\u001b[22m\u001b[39m [===============>                         ]  35.4 %\r",
      "    \u001b[36m\u001b[1mFetching:\u001b[22m\u001b[39m [===============>                         ]  36.2 %\r",
      "    \u001b[36m\u001b[1mFetching:\u001b[22m\u001b[39m [===============>                         ]  36.9 %\r",
      "    \u001b[36m\u001b[1mFetching:\u001b[22m\u001b[39m [================>                        ]  37.7 %\r",
      "    \u001b[36m\u001b[1mFetching:\u001b[22m\u001b[39m [================>                        ]  38.5 %\r",
      "    \u001b[36m\u001b[1mFetching:\u001b[22m\u001b[39m [================>                        ]  39.2 %\r",
      "    \u001b[36m\u001b[1mFetching:\u001b[22m\u001b[39m [================>                        ]  40.0 %\r",
      "    \u001b[36m\u001b[1mFetching:\u001b[22m\u001b[39m [=================>                       ]  40.8 %\r",
      "    \u001b[36m\u001b[1mFetching:\u001b[22m\u001b[39m [=================>                       ]  41.5 %\r",
      "    \u001b[36m\u001b[1mFetching:\u001b[22m\u001b[39m [=================>                       ]  42.3 %\r",
      "    \u001b[36m\u001b[1mFetching:\u001b[22m\u001b[39m [==================>                      ]  43.1 %\r",
      "    \u001b[36m\u001b[1mFetching:\u001b[22m\u001b[39m [==================>                      ]  43.8 %\r",
      "    \u001b[36m\u001b[1mFetching:\u001b[22m\u001b[39m [==================>                      ]  44.6 %\r",
      "    \u001b[36m\u001b[1mFetching:\u001b[22m\u001b[39m [===================>                     ]  45.4 %\r",
      "    \u001b[36m\u001b[1mFetching:\u001b[22m\u001b[39m [===================>                     ]  46.2 %\r",
      "    \u001b[36m\u001b[1mFetching:\u001b[22m\u001b[39m [===================>                     ]  46.9 %\r",
      "    \u001b[36m\u001b[1mFetching:\u001b[22m\u001b[39m [====================>                    ]  47.7 %\r",
      "    \u001b[36m\u001b[1mFetching:\u001b[22m\u001b[39m [====================>                    ]  48.5 %\r",
      "    \u001b[36m\u001b[1mFetching:\u001b[22m\u001b[39m [====================>                    ]  49.2 %\r",
      "    \u001b[36m\u001b[1mFetching:\u001b[22m\u001b[39m [====================>                    ]  50.0 %\r",
      "    \u001b[36m\u001b[1mFetching:\u001b[22m\u001b[39m [=====================>                   ]  50.8 %\r",
      "    \u001b[36m\u001b[1mFetching:\u001b[22m\u001b[39m [=====================>                   ]  51.5 %\r",
      "    \u001b[36m\u001b[1mFetching:\u001b[22m\u001b[39m [=====================>                   ]  52.3 %\r",
      "    \u001b[36m\u001b[1mFetching:\u001b[22m\u001b[39m [======================>                  ]  53.1 %\r",
      "    \u001b[36m\u001b[1mFetching:\u001b[22m\u001b[39m [======================>                  ]  53.8 %\r",
      "    \u001b[36m\u001b[1mFetching:\u001b[22m\u001b[39m [======================>                  ]  54.6 %\r",
      "    \u001b[36m\u001b[1mFetching:\u001b[22m\u001b[39m [=======================>                 ]  55.4 %\r",
      "    \u001b[36m\u001b[1mFetching:\u001b[22m\u001b[39m [=======================>                 ]  56.2 %\r",
      "    \u001b[36m\u001b[1mFetching:\u001b[22m\u001b[39m [=======================>                 ]  56.9 %\r",
      "    \u001b[36m\u001b[1mFetching:\u001b[22m\u001b[39m [========================>                ]  57.7 %\r",
      "    \u001b[36m\u001b[1mFetching:\u001b[22m\u001b[39m [========================>                ]  58.5 %\r",
      "    \u001b[36m\u001b[1mFetching:\u001b[22m\u001b[39m [========================>                ]  59.2 %\r",
      "    \u001b[36m\u001b[1mFetching:\u001b[22m\u001b[39m [========================>                ]  60.0 %\r",
      "    \u001b[36m\u001b[1mFetching:\u001b[22m\u001b[39m [=========================>               ]  60.8 %\r",
      "    \u001b[36m\u001b[1mFetching:\u001b[22m\u001b[39m [=========================>               ]  61.5 %\r",
      "    \u001b[36m\u001b[1mFetching:\u001b[22m\u001b[39m [=========================>               ]  62.3 %\r",
      "    \u001b[36m\u001b[1mFetching:\u001b[22m\u001b[39m [==========================>              ]  63.1 %\r",
      "    \u001b[36m\u001b[1mFetching:\u001b[22m\u001b[39m [==========================>              ]  63.8 %\r",
      "    \u001b[36m\u001b[1mFetching:\u001b[22m\u001b[39m [==========================>              ]  64.6 %\r",
      "    \u001b[36m\u001b[1mFetching:\u001b[22m\u001b[39m [===========================>             ]  65.4 %\r",
      "    \u001b[36m\u001b[1mFetching:\u001b[22m\u001b[39m [===========================>             ]  66.2 %\r",
      "    \u001b[36m\u001b[1mFetching:\u001b[22m\u001b[39m [===========================>             ]  66.9 %\r",
      "    \u001b[36m\u001b[1mFetching:\u001b[22m\u001b[39m [============================>            ]  67.7 %\r",
      "    \u001b[36m\u001b[1mFetching:\u001b[22m\u001b[39m [============================>            ]  68.5 %\r",
      "    \u001b[36m\u001b[1mFetching:\u001b[22m\u001b[39m [============================>            ]  69.2 %\r",
      "    \u001b[36m\u001b[1mFetching:\u001b[22m\u001b[39m [============================>            ]  70.0 %\r",
      "    \u001b[36m\u001b[1mFetching:\u001b[22m\u001b[39m [=============================>           ]  70.8 %\r",
      "    \u001b[36m\u001b[1mFetching:\u001b[22m\u001b[39m [=============================>           ]  71.5 %\r",
      "    \u001b[36m\u001b[1mFetching:\u001b[22m\u001b[39m [=============================>           ]  72.3 %\r",
      "    \u001b[36m\u001b[1mFetching:\u001b[22m\u001b[39m [==============================>          ]  73.1 %\r",
      "    \u001b[36m\u001b[1mFetching:\u001b[22m\u001b[39m [==============================>          ]  73.8 %\r",
      "    \u001b[36m\u001b[1mFetching:\u001b[22m\u001b[39m [==============================>          ]  74.6 %\r",
      "    "
     ]
    },
    {
     "name": "stdout",
     "output_type": "stream",
     "text": [
      "\u001b[2K\u001b[?25h[1mFetching:\u001b[22m\u001b[39m [========================================>]  100.0 %"
     ]
    },
    {
     "name": "stderr",
     "output_type": "stream",
     "text": [
      "\u001b[32m\u001b[1m  Resolving\u001b[22m\u001b[39m package versions...\n",
      "\u001b[32m\u001b[1mNo Changes\u001b[22m\u001b[39m to `~/Área de Trabalho/GitHub-projetos/multithreading_ERAD-RJ-2020/Project.toml`\n",
      "\u001b[32m\u001b[1mNo Changes\u001b[22m\u001b[39m to `~/Área de Trabalho/GitHub-projetos/multithreading_ERAD-RJ-2020/Manifest.toml`\n",
      "\u001b[32m\u001b[1m  Resolving\u001b[22m\u001b[39m package versions...\n",
      "\u001b[32m\u001b[1mNo Changes\u001b[22m\u001b[39m to `~/Área de Trabalho/GitHub-projetos/multithreading_ERAD-RJ-2020/Project.toml`\n",
      "\u001b[32m\u001b[1mNo Changes\u001b[22m\u001b[39m to `~/Área de Trabalho/GitHub-projetos/multithreading_ERAD-RJ-2020/Manifest.toml`\n"
     ]
    }
   ],
   "source": [
    "using Pkg\n",
    "Pkg.activate(\".\")\n",
    "Pkg.add(\"CSV\"); Pkg.add(\"DataFrames\")\n",
    "using CSV, DataFrames, Base.Threads, BenchmarkTools\n",
    "\n",
    "path = \"data/\"\n",
    "movies = CSV.File(path * \"movies.csv\") |> DataFrame;"
   ]
  },
  {
   "cell_type": "markdown",
   "metadata": {},
   "source": [
    "## Introdução\n",
    "Neste notebook, iniciaremos a construção do nosso toy exemplo, que consiste em um simples sistema de recomendação para que possamos pôr em prática o que foi aprendido anteriormente durante o desenvolvimento de uma simples aplicação que se aproxima à realidade, mas com algumas simplificações para que possa ser implementada neste pequeno período de tempo que temos.\n",
    "\n",
    "## O sistema de recomendação\n",
    "Sistemas de recomendação, também chamados de sistemas de filtragem, têm como finalidade ofertar ao usuário do sistema uma coletânea de itens a partir da busca feita por este usuário dentro do sistema. Estas aplicações podem ser **personalizadas**, assim como as sugestões de aplicativos como Spotify e Youtube Music, que tentam gerar sugestões **de acordo com o perfil do usuário**, ou **não personalizadas** como o IMDB, que gera suas sugestões a partir de um *global score* associado aos itens.\n",
    "\n",
    "Em nosso toy exemplo, nós iremos criar um sistema que efetua uma filtragem personalizada. Dentro deste ambiente, podem encontrar-se duas técnicas bem conhecidas, sendo elas a **filtragem baseada em conteúdo** e a **filtragem colaborativa**. A filtragem baseada em conteúdo tem seu processo de busca de itens feito com base nos meta-dados dos itens, enquanto que, na filtragem colaborativa, a busca é feita usando a semelhança entre os usuários ou itens como base.\n",
    "\n",
    "## Implementação\n",
    "\n",
    "Durante a implementação, nós iremos usar o algoritmo *nearest neighbors*, junto com o cálculo de similaridade do cosseno. Neste caso, vamos considerar que a matriz de notas pelos usuários não é uma matriz esparsa para uma simplificação do problema.\n",
    "\n",
    "### Nearest Neighbors\n",
    "Neste algorítimo é usada uma métrica determinada de acordo com o problema para verificar a distância, ou a similaridade entre os itens dentro de um mesmo espaço, definindo os vizinhos mais próximos do elemento alvo que em nosso caso irá ser um filme e os vizinhos mais próximos serão os filmes mais semelhantes.\n",
    "\n",
    "<img src=\"https://miro.medium.com/max/650/1*OyYyr9qY-w8RkaRh2TKo0w.png\" style=\"width: 500px\"/>\n",
    "\n",
    "\n",
    "### Similaridade do cosseno\n",
    "Está métrica de similaridade foi escolhida pelo fato de que dentro deste problema a distância euclideana iria gerar números muito próximos pelo fato da matriz ser esparsa e de grande dimensão.\n",
    "\n",
    "<img src=\"https://miro.medium.com/max/686/1*dGWOzgAYv9NUkWvkETQUTQ.png\" style=\"width: 350px\"/>"
   ]
  },
  {
   "cell_type": "markdown",
   "metadata": {},
   "source": [
    "## Importação dos dados"
   ]
  },
  {
   "cell_type": "code",
   "execution_count": 2,
   "metadata": {},
   "outputs": [],
   "source": [
    "ratings = CSV.File(path * \"ratings.csv\") |> DataFrame;"
   ]
  },
  {
   "cell_type": "code",
   "execution_count": 3,
   "metadata": {},
   "outputs": [
    {
     "data": {
      "text/plain": [
       "9742"
      ]
     },
     "execution_count": 3,
     "metadata": {},
     "output_type": "execute_result"
    }
   ],
   "source": [
    "usersSize = length(unique(ratings[:, 1]))\n",
    "moviesSize = size(movies, 1)"
   ]
  },
  {
   "cell_type": "markdown",
   "metadata": {},
   "source": [
    "## Construção das funções para acesso aos dados"
   ]
  },
  {
   "cell_type": "code",
   "execution_count": 4,
   "metadata": {},
   "outputs": [
    {
     "data": {
      "text/plain": [
       "getMovieIdByName (generic function with 1 method)"
      ]
     },
     "execution_count": 4,
     "metadata": {},
     "output_type": "execute_result"
    }
   ],
   "source": [
    "getMovieNameById(id) = movies[findfirst(x -> x == id, movies[:, 1]), 2]::String\n",
    "getMoviePositionById(id) = findfirst(x -> x == id, movies[:, 1])::Int64\n",
    "getMovieIdByName(name) = movies[findfirst(x -> x == name, movies[:, 2]), 1]::Int64"
   ]
  },
  {
   "cell_type": "code",
   "execution_count": 5,
   "metadata": {},
   "outputs": [
    {
     "data": {
      "text/plain": [
       "\"Waiting to Exhale (1995)\""
      ]
     },
     "execution_count": 5,
     "metadata": {},
     "output_type": "execute_result"
    }
   ],
   "source": [
    "getMovieNameById(4)"
   ]
  },
  {
   "cell_type": "code",
   "execution_count": 6,
   "metadata": {},
   "outputs": [
    {
     "data": {
      "text/plain": [
       "37"
      ]
     },
     "execution_count": 6,
     "metadata": {},
     "output_type": "execute_result"
    }
   ],
   "source": [
    "getMoviePositionById(40)"
   ]
  },
  {
   "cell_type": "code",
   "execution_count": 7,
   "metadata": {},
   "outputs": [],
   "source": [
    "movieRatings = zeros(usersSize, moviesSize)\n",
    "for i=1:size(ratings, 1)\n",
    "    movieRatings[ratings[i, 1], getMoviePositionById(ratings[i, 2])] = ratings[i, 3]\n",
    "end"
   ]
  },
  {
   "cell_type": "code",
   "execution_count": 8,
   "metadata": {},
   "outputs": [
    {
     "data": {
      "text/plain": [
       "getGenres (generic function with 2 methods)"
      ]
     },
     "execution_count": 8,
     "metadata": {},
     "output_type": "execute_result"
    }
   ],
   "source": [
    "getGenres(id::Int) = movies[findfirst(x -> x == id, movies[:, 1]), 3]\n",
    "getGenres(name::String) =  movies[findfirst(x -> x == name, movies[:, 2]), 3]"
   ]
  },
  {
   "cell_type": "markdown",
   "metadata": {},
   "source": [
    "## Construção das funções para acesso aos dados"
   ]
  },
  {
   "cell_type": "code",
   "execution_count": 9,
   "metadata": {},
   "outputs": [
    {
     "data": {
      "text/plain": [
       "cosineDistance (generic function with 1 method)"
      ]
     },
     "execution_count": 9,
     "metadata": {},
     "output_type": "execute_result"
    }
   ],
   "source": [
    "cosineDistance(v1, v2) = sum(v1 .* v2) / ((sum(v1 .^ 2) ^ (1/2)) * (sum(v1 .^ 2) ^ (1/2)))"
   ]
  },
  {
   "cell_type": "code",
   "execution_count": 18,
   "metadata": {},
   "outputs": [
    {
     "data": {
      "text/plain": [
       "similarity (generic function with 1 method)"
      ]
     },
     "execution_count": 18,
     "metadata": {},
     "output_type": "execute_result"
    }
   ],
   "source": [
    "function similarity(id, k)\n",
    "    position = getMoviePositionById(id)\n",
    "#     println(\"Target: \" * getMovieNameById(id))\n",
    "    similarities = []\n",
    "    for i=1:size(movieRatings, 2)\n",
    "        push!(similarities, [cosineDistance(movieRatings[:, position], movieRatings[:, i]), movies[i, 2]])\n",
    "    end\n",
    "    sort!(similarities, by = x -> x[1], rev=true)\n",
    "    deleteat!(similarities, findfirst(x -> x[2] == getMovieNameById(id), similarities))\n",
    "#     for movie in similarities[1:k]\n",
    "#         println(\"Similaridade: \" * string(round(movie[1], digits=4)), \" | \" * movie[2])\n",
    "#     end\n",
    "    return nothing\n",
    "end"
   ]
  },
  {
   "cell_type": "code",
   "execution_count": 19,
   "metadata": {},
   "outputs": [],
   "source": [
    "similarity(2, 5)"
   ]
  },
  {
   "cell_type": "code",
   "execution_count": 20,
   "metadata": {},
   "outputs": [
    {
     "data": {
      "text/plain": [
       "BenchmarkTools.Trial: \n",
       "  memory estimate:  238.40 MiB\n",
       "  allocs estimate:  173338\n",
       "  --------------\n",
       "  minimum time:     90.779 ms (14.88% GC)\n",
       "  median time:      100.074 ms (17.57% GC)\n",
       "  mean time:        104.667 ms (16.77% GC)\n",
       "  maximum time:     175.882 ms (13.87% GC)\n",
       "  --------------\n",
       "  samples:          48\n",
       "  evals/sample:     1"
      ]
     },
     "execution_count": 20,
     "metadata": {},
     "output_type": "execute_result"
    }
   ],
   "source": [
    "@benchmark similarity(2,5)"
   ]
  },
  {
   "cell_type": "code",
   "execution_count": 28,
   "metadata": {},
   "outputs": [
    {
     "data": {
      "text/plain": [
       "similarity_threads (generic function with 1 method)"
      ]
     },
     "execution_count": 28,
     "metadata": {},
     "output_type": "execute_result"
    }
   ],
   "source": [
    "# A ideia aqui é que cada uma das threads percorra uma parte do catálogo de filmes, e daí esses vetores\n",
    "# são concatenados em um único vetor no escopo acima\n",
    "function similarity_threads(id, k)\n",
    "    position = getMoviePositionById(id)\n",
    "    # println(\"Target: \" * getMovieNameById(id))\n",
    "    all_similarities = [] #uma variável global um escopo acima do closure das threads\n",
    "    div = divrem(size(movieRatings, 2), nthreads())\n",
    "    len, rem = div[1], div[2]\n",
    "    a = ReentrantLock()\n",
    "    @threads for id = 1:nthreads()\n",
    "        similarities = [] #local\n",
    "        for i = (1:len) .+ (id-1)*len\n",
    "            push!(similarities, [cosineDistance(movieRatings[:, position], movieRatings[:, i]), movies[i, 2]])\n",
    "        end\n",
    "        lock(a)\n",
    "        all_similarities = Base.vcat(all_similarities, similarities)\n",
    "        unlock(a)\n",
    "    end\n",
    "    for i in size(movieRatings,2)-rem+1:size(movieRatings, 2)\n",
    "        push!(all_similarities, [cosineDistance(movieRatings[:, position], movieRatings[:, i]), movies[i, 2]])\n",
    "    end\n",
    "    sort!(all_similarities, by = x -> x[1], rev=true)\n",
    "    deleteat!(all_similarities, findfirst(x -> x[2] == getMovieNameById(id), all_similarities))\n",
    "#     for movie in all_similarities[1:k]\n",
    "#         println(\"Similaridade: \" * string(round(movie[1], digits=4)), \" | \" * movie[2])\n",
    "#     end\n",
    "    return nothing\n",
    "end"
   ]
  },
  {
   "cell_type": "code",
   "execution_count": 22,
   "metadata": {},
   "outputs": [],
   "source": [
    "similarity_threads(2, 5)"
   ]
  },
  {
   "cell_type": "code",
   "execution_count": 23,
   "metadata": {},
   "outputs": [
    {
     "data": {
      "text/plain": [
       "BenchmarkTools.Trial: \n",
       "  memory estimate:  238.36 MiB\n",
       "  allocs estimate:  163675\n",
       "  --------------\n",
       "  minimum time:     71.487 ms (12.32% GC)\n",
       "  median time:      84.609 ms (14.07% GC)\n",
       "  mean time:        89.889 ms (14.43% GC)\n",
       "  maximum time:     141.632 ms (11.94% GC)\n",
       "  --------------\n",
       "  samples:          56\n",
       "  evals/sample:     1"
      ]
     },
     "execution_count": 23,
     "metadata": {},
     "output_type": "execute_result"
    }
   ],
   "source": [
    "@benchmark similarity_threads(2,5)"
   ]
  },
  {
   "cell_type": "code",
   "execution_count": null,
   "metadata": {},
   "outputs": [],
   "source": [
    "function similarity_threads!(A, movies, movieRatings, id)\n",
    "    position = getMoviePositionById(id)\n",
    "    #println(\"Target: \" * getMovieNameById(id))\n",
    "    div = divrem(size(movieRatings, 2), nthreads())\n",
    "    len, rem = div[1], div[2]\n",
    "    @threads for thread_id = 1:nthreads()\n",
    "        for i = (1:len) .+ (threadid()-1)*len\n",
    "            A[i] = (cosineDistance(movieRatings[:, position], movieRatings[:, i]), movies[i, 1])\n",
    "        end\n",
    "    end\n",
    "    for i in size(movieRatings,2)-rem+1:size(movieRatings, 2)\n",
    "            A[i] = (cosineDistance(movieRatings[:, position], movieRatings[:, i]), movies[i, 1])\n",
    "    end\n",
    "    sort!(A, by = x -> x[1], rev=true)\n",
    "    A\n",
    "end\n",
    "@code_warntype similarity_threads!(result, movies, movieRatings, 2)"
   ]
  },
  {
   "cell_type": "code",
   "execution_count": 25,
   "metadata": {},
   "outputs": [
    {
     "data": {
      "text/plain": [
       "BenchmarkTools.Trial: \n",
       "  memory estimate:  236.04 MiB\n",
       "  allocs estimate:  105719\n",
       "  --------------\n",
       "  minimum time:     59.978 ms (10.06% GC)\n",
       "  median time:      80.943 ms (12.55% GC)\n",
       "  mean time:        81.436 ms (13.11% GC)\n",
       "  maximum time:     111.441 ms (17.42% GC)\n",
       "  --------------\n",
       "  samples:          62\n",
       "  evals/sample:     1"
      ]
     },
     "execution_count": 25,
     "metadata": {},
     "output_type": "execute_result"
    }
   ],
   "source": [
    "result = Vector{Tuple{Float64, Int64}}(undef, size(movies[:,1]))\n",
    "@benchmark similarity_threads!(result, movies, movieRatings, 2)"
   ]
  },
  {
   "cell_type": "code",
   "execution_count": 31,
   "metadata": {},
   "outputs": [
    {
     "data": {
      "text/plain": [
       "similarity_threads_opt! (generic function with 1 method)"
      ]
     },
     "execution_count": 31,
     "metadata": {},
     "output_type": "execute_result"
    }
   ],
   "source": [
    "function similarity_threads_opt!(A::Vector{Tuple{Float64,Int64}}, movies::DataFrame, movieRatings::Array, id::Int64)\n",
    "    position::Int64 = getMoviePositionById(id)\n",
    "    #println(\"Target: \" * getMovieNameById(id))\n",
    "    div = divrem(size(movieRatings, 2), nthreads())\n",
    "    len, rem = div[1], div[2]\n",
    "    @threads for thread_id = 1:nthreads()\n",
    "        for i = (1:len) .+ (threadid()-1)*len\n",
    "            @inbounds A[i] = (cosineDistance(view(movieRatings,:, position), view(movieRatings,:, i)), movies[i, 1]::Int64)::Tuple{Float64,Int64}\n",
    "        end\n",
    "    end\n",
    "    for i in size(movieRatings,2)-rem+1:size(movieRatings, 2)\n",
    "            @inbounds A[i] = (cosineDistance(view(movieRatings,:, position), view(movieRatings,:, i)), movies[i, 1]::Int64)::Tuple{Float64,Int64}\n",
    "    end\n",
    "    sort!(A, by = x -> x[1], rev=true)\n",
    "#    deleteat!(A, findfirst(x -> x[2] == id, A))\n",
    "end\n",
    "# @code_warntype similarity_threads_opt!(result, movies, movieRatings, 2)"
   ]
  },
  {
   "cell_type": "code",
   "execution_count": 32,
   "metadata": {},
   "outputs": [
    {
     "data": {
      "text/plain": [
       "BenchmarkTools.Trial: \n",
       "  memory estimate:  141.36 MiB\n",
       "  allocs estimate:  47778\n",
       "  --------------\n",
       "  minimum time:     38.676 ms (0.00% GC)\n",
       "  median time:      56.241 ms (11.01% GC)\n",
       "  mean time:        56.466 ms (14.39% GC)\n",
       "  maximum time:     96.486 ms (10.30% GC)\n",
       "  --------------\n",
       "  samples:          89\n",
       "  evals/sample:     1"
      ]
     },
     "execution_count": 32,
     "metadata": {},
     "output_type": "execute_result"
    }
   ],
   "source": [
    "result = Vector{Tuple{Float64, Int64}}(undef, size(movies[:,1]))\n",
    "@benchmark similarity_threads_opt!(result, movies, movieRatings, 2)"
   ]
  },
  {
   "cell_type": "code",
   "execution_count": null,
   "metadata": {},
   "outputs": [],
   "source": [
    "function similarity_threads_what!(A::Vector{Tuple{Float64,Int64}}, movies, movieRatings, id)\n",
    "    position::Int64 = getMoviePositionById(id)\n",
    "    moviesid = view(movies,:,1)\n",
    "    #println(\"Target: \" * getMovieNameById(id))\n",
    "    div = divrem(size(movieRatings, 2), nthreads())\n",
    "    len, rem = div[1], div[2]\n",
    "    @threads for thread_id = 1:nthreads()\n",
    "        for i = (1:len) .+ (threadid()-1)*len\n",
    "            @inbounds A[i] = (cosineDistance(view(movieRatings,:, position), view(movieRatings,:, i)), moviesid[i]::Int64)::Tuple{Float64,Int64}\n",
    "            #println((i, A[i]))\n",
    "        end\n",
    "    end\n",
    "    for i in size(movieRatings,2)-rem+1:size(movieRatings, 2)\n",
    "            @inbounds A[i] = (cosineDistance(view(movieRatings,:, position), view(movieRatings,:, i)), moviesid[i]::Int64)::Tuple{Float64,Int64}\n",
    "    end\n",
    "    sort!(A, by = x -> x[1], rev=true)\n",
    "#   deleteat!(A, findfirst(x -> x[2] == id, A))\n",
    "end\n",
    "# @code_warntype similarity_threads_what!(result, movies, movieRatings, 2)"
   ]
  },
  {
   "cell_type": "code",
   "execution_count": 37,
   "metadata": {},
   "outputs": [
    {
     "data": {
      "text/plain": [
       "BenchmarkTools.Trial: \n",
       "  memory estimate:  141.07 MiB\n",
       "  allocs estimate:  29259\n",
       "  --------------\n",
       "  minimum time:     32.255 ms (0.00% GC)\n",
       "  median time:      49.539 ms (11.86% GC)\n",
       "  mean time:        51.204 ms (12.53% GC)\n",
       "  maximum time:     94.146 ms (6.27% GC)\n",
       "  --------------\n",
       "  samples:          98\n",
       "  evals/sample:     1"
      ]
     },
     "execution_count": 37,
     "metadata": {},
     "output_type": "execute_result"
    }
   ],
   "source": [
    "@benchmark similarity_threads_what!(result, movies, movieRatings, 2)"
   ]
  },
  {
   "cell_type": "code",
   "execution_count": null,
   "metadata": {},
   "outputs": [],
   "source": [
    "function movies_printer(movies, similarities, range::UnitRange)\n",
    "    println(\"Filmes recomendados para você a partir do filme escolhido:\")\n",
    "    for i in range\n",
    "        position = getMoviePositionById(similarities[i][2])\n",
    "        println(movies[position, 2], \" relevância [$(round(similarities[i][1] * 100))%]\")\n",
    "    end\n",
    "end\n",
    "movies_printer(movies, result, 1:10)"
   ]
  }
 ],
 "metadata": {
  "kernelspec": {
   "display_name": "Julia 1.5.3",
   "language": "julia",
   "name": "julia-1.5"
  },
  "language_info": {
   "file_extension": ".jl",
   "mimetype": "application/julia",
   "name": "julia",
   "version": "1.5.3"
  }
 },
 "nbformat": 4,
 "nbformat_minor": 4
}
